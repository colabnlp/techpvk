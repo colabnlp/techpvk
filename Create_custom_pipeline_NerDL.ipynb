{
  "nbformat": 4,
  "nbformat_minor": 0,
  "metadata": {
    "kernelspec": {
      "name": "python3",
      "display_name": "Python 3"
    },
    "language_info": {
      "codemirror_mode": {
        "name": "ipython",
        "version": 3
      },
      "file_extension": ".py",
      "mimetype": "text/x-python",
      "name": "python",
      "nbconvert_exporter": "python",
      "pygments_lexer": "ipython3",
      "version": "3.6.9"
    },
    "colab": {
      "name": "Create_custom_pipeline_NerDL.ipynb",
      "provenance": [],
      "collapsed_sections": [],
      "include_colab_link": true
    },
    "accelerator": "GPU"
  },
  "cells": [
    {
      "cell_type": "markdown",
      "metadata": {
        "id": "view-in-github",
        "colab_type": "text"
      },
      "source": [
        "<a href=\"https://colab.research.google.com/github/techpvk/techpvk/blob/master/Create_custom_pipeline_NerDL.ipynb\" target=\"_parent\"><img src=\"https://colab.research.google.com/assets/colab-badge.svg\" alt=\"Open In Colab\"/></a>"
      ]
    },
    {
      "cell_type": "markdown",
      "metadata": {
        "id": "DY5KZWu8sYEV",
        "colab_type": "text"
      },
      "source": [
        "Show how to use pretrained assertion status"
      ]
    },
    {
      "cell_type": "code",
      "metadata": {
        "id": "RpzZuBNnKXwv",
        "colab_type": "code",
        "outputId": "a1c0fbfb-99e0-4e8c-bb68-2413a14a40a3",
        "colab": {
          "base_uri": "https://localhost:8080/",
          "height": 139
        }
      },
      "source": [
        "from google.colab import drive\n",
        "drive.mount(\"/content/gdrive/\")\n",
        "import sys\n",
        "sys.path.append('/content/gdrive/My Drive/Colab Notebooks/SparkNLP/utils')\n",
        "!ls"
      ],
      "execution_count": 1,
      "outputs": [
        {
          "output_type": "stream",
          "text": [
            "Go to this URL in a browser: https://accounts.google.com/o/oauth2/auth?client_id=947318989803-6bn6qk8qdgf4n4g3pfee6491hc0brc4i.apps.googleusercontent.com&redirect_uri=urn%3aietf%3awg%3aoauth%3a2.0%3aoob&response_type=code&scope=email%20https%3a%2f%2fwww.googleapis.com%2fauth%2fdocs.test%20https%3a%2f%2fwww.googleapis.com%2fauth%2fdrive%20https%3a%2f%2fwww.googleapis.com%2fauth%2fdrive.photos.readonly%20https%3a%2f%2fwww.googleapis.com%2fauth%2fpeopleapi.readonly\n",
            "\n",
            "Enter your authorization code:\n",
            "··········\n",
            "Mounted at /content/gdrive/\n",
            "gdrive\tsample_data\n"
          ],
          "name": "stdout"
        }
      ]
    },
    {
      "cell_type": "code",
      "metadata": {
        "id": "YR2LZ_LQRqed",
        "colab_type": "code",
        "outputId": "0f3c3695-d6be-413b-e3a3-3e2a1393e2dd",
        "colab": {
          "base_uri": "https://localhost:8080/",
          "height": 85
        }
      },
      "source": [
        "drivepath = \"gdrive/My Drive/Colab Notebooks/SparkNLP/utils\"\n",
        "biotrainset = \"con_rest_train.bio\"\n",
        "gloveemb = \"glove.6B.300d.txt\"\n",
        "modelsavefilename=\"ner_dl_model_aug\"\n",
        "print(\"Driver path file name :\"+drivepath)\n",
        "print(\"BIO file name :\"+biotrainset)\n",
        "print(\"Glovec file name :\"+gloveemb)\n",
        "print(\"modelsavefilename file name :\"+modelsavefilename)\n",
        "!mkdir tf\n",
        "#!cp \"gdrive/My Drive/Colab Notebooks/SparkNLP/utils/aug_all_50k_random/aug_50k_dataset.bio\" \"con_rest_train.bio\"\n",
        "#below working with aug_all_50k_random/aug_50k_dataset.bio dataset\n",
        "#!cp \"gdrive/My Drive/Colab Notebooks/SparkNLP/utils/tf/86/blstm_21_300_128_86.pb\" \"./tf/blstm_21_300_128_86.pb\"\n",
        "\n",
        "!cp \"gdrive/My Drive/Colab Notebooks/SparkNLP/utils/aug_all_50k_eq_random/aug_full_dataset.bio\" \"con_rest_train.bio\"\n",
        "#tf for aug_all_50k_eq_random/aug_full_dataset.bio\n",
        "!cp \"gdrive/My Drive/Colab Notebooks/SparkNLP/utils/tf/87/blstm_21_300_128_87.pb\" \"./tf/blstm_21_300_128_87.pb\"\n",
        "\n",
        "#!cp \"gdrive/My Drive/Colab Notebooks/SparkNLP/utils/tf/81/blstm_29_300_128_81.pb\" \"./tf/blstm_29_300_128_81.pb\"\n",
        "!cp \"gdrive/My Drive/Colab Notebooks/SparkNLP/utils/glove.6B.300d.txt\" \"glove.6B.300d.txt\"\n"
      ],
      "execution_count": 2,
      "outputs": [
        {
          "output_type": "stream",
          "text": [
            "Driver path file name :gdrive/My Drive/Colab Notebooks/SparkNLP/utils\n",
            "BIO file name :con_rest_train.bio\n",
            "Glovec file name :glove.6B.300d.txt\n",
            "modelsavefilename file name :ner_dl_model_aug\n"
          ],
          "name": "stdout"
        }
      ]
    },
    {
      "cell_type": "code",
      "metadata": {
        "id": "hg_kFAOISDwZ",
        "colab_type": "code",
        "outputId": "60f205c5-06e2-4c5c-c2d4-d0c53a50d1b9",
        "colab": {
          "base_uri": "https://localhost:8080/",
          "height": 34
        }
      },
      "source": [
        "!ls"
      ],
      "execution_count": 3,
      "outputs": [
        {
          "output_type": "stream",
          "text": [
            "con_rest_train.bio  gdrive  glove.6B.300d.txt  sample_data  tf\n"
          ],
          "name": "stdout"
        }
      ]
    },
    {
      "cell_type": "code",
      "metadata": {
        "id": "gIPCfwoX_9Bo",
        "colab_type": "code",
        "outputId": "4075b2cb-9a5f-4afc-cd94-61d1246534e6",
        "colab": {
          "base_uri": "https://localhost:8080/",
          "height": 357
        }
      },
      "source": [
        "import os\n",
        "\n",
        "# Install java\n",
        "! apt-get install -y openjdk-8-jdk-headless -qq > /dev/null\n",
        "os.environ[\"JAVA_HOME\"] = \"/usr/lib/jvm/java-8-openjdk-amd64\"\n",
        "os.environ[\"PATH\"] = os.environ[\"JAVA_HOME\"] + \"/bin:\" + os.environ[\"PATH\"]\n",
        "! java -version\n",
        "\n",
        "# Install pyspark\n",
        "! pip install --ignore-installed pyspark==2.4.3\n",
        "\n",
        "# Install Spark NLP\n",
        "! pip install --ignore-installed spark-nlp==2.2.2"
      ],
      "execution_count": 4,
      "outputs": [
        {
          "output_type": "stream",
          "text": [
            "openjdk version \"1.8.0_222\"\n",
            "OpenJDK Runtime Environment (build 1.8.0_222-8u222-b10-1ubuntu1~18.04.1-b10)\n",
            "OpenJDK 64-Bit Server VM (build 25.222-b10, mixed mode)\n",
            "Collecting pyspark==2.4.3\n",
            "\u001b[?25l  Downloading https://files.pythonhosted.org/packages/37/98/244399c0daa7894cdf387e7007d5e8b3710a79b67f3fd991c0b0b644822d/pyspark-2.4.3.tar.gz (215.6MB)\n",
            "\u001b[K     |████████████████████████████████| 215.6MB 65kB/s \n",
            "\u001b[?25hCollecting py4j==0.10.7\n",
            "\u001b[?25l  Downloading https://files.pythonhosted.org/packages/e3/53/c737818eb9a7dc32a7cd4f1396e787bd94200c3997c72c1dbe028587bd76/py4j-0.10.7-py2.py3-none-any.whl (197kB)\n",
            "\u001b[K     |████████████████████████████████| 204kB 56.1MB/s \n",
            "\u001b[?25hBuilding wheels for collected packages: pyspark\n",
            "  Building wheel for pyspark (setup.py) ... \u001b[?25l\u001b[?25hdone\n",
            "  Created wheel for pyspark: filename=pyspark-2.4.3-py2.py3-none-any.whl size=215964963 sha256=88fbaab6ad3c120fbcf9460e59454b643cfaa60a29fd9e77e2fbc876139ec4cd\n",
            "  Stored in directory: /root/.cache/pip/wheels/8d/20/f0/b30e2024226dc112e256930dd2cd4f06d00ab053c86278dcf3\n",
            "Successfully built pyspark\n",
            "Installing collected packages: py4j, pyspark\n",
            "Successfully installed py4j-0.10.7 pyspark-2.4.3\n",
            "Collecting spark-nlp==2.2.2\n",
            "  Downloading https://files.pythonhosted.org/packages/f9/1a/711bde42e9cd17b5166a2c282ba9824103c416091c9ad95ca7dcece7170e/spark_nlp-2.2.2-py2.py3-none-any.whl\n",
            "Installing collected packages: spark-nlp\n",
            "Successfully installed spark-nlp-2.2.2\n"
          ],
          "name": "stdout"
        }
      ]
    },
    {
      "cell_type": "code",
      "metadata": {
        "id": "xco3RwJYsYEX",
        "colab_type": "code",
        "colab": {}
      },
      "source": [
        "import sys\n",
        "\n",
        "from pyspark.sql import SparkSession\n",
        "from pyspark.ml import PipelineModel\n",
        "\n",
        "import sparknlp\n",
        "from sparknlp.annotator import *\n",
        "from sparknlp.common import *\n",
        "from sparknlp.base import *\n",
        "from sparknlp.pretrained import ResourceDownloader\n",
        "\n",
        "from pathlib import Path\n",
        "\n",
        "if sys.version_info[0] < 3:\n",
        "    from urllib import urlretrieve\n",
        "else:\n",
        "    from urllib.request import urlretrieve    "
      ],
      "execution_count": 0,
      "outputs": []
    },
    {
      "cell_type": "code",
      "metadata": {
        "id": "HIS_nmYYsYEa",
        "colab_type": "code",
        "outputId": "ab17640c-dcb1-4324-e503-9430a5eb6319",
        "colab": {
          "base_uri": "https://localhost:8080/",
          "height": 68
        }
      },
      "source": [
        "from pyspark.sql import SparkSession\n",
        "\n",
        "spark = SparkSession.builder \\\n",
        "    .appName(\"Global DEMO - Spark NLP Enterprise 2.3.4\") \\\n",
        "    .master(\"local[*]\") \\\n",
        "    .config(\"spark.rdd.compress\",\"true\") \\\n",
        "    .config(\"spark.driver.memory\",\"15G\") \\\n",
        "    .config(\"spark.driver.maxResultSize\", \"2G\") \\\n",
        "    .config(\"spark.serializer\", \"org.apache.spark.serializer.KryoSerializer\") \\\n",
        "    .config(\"spark.kryoserializer.buffer.max\", \"600M\") \\\n",
        "    .config(\"spark.jars.packages\", \"JohnSnowLabs:spark-nlp:2.3.4\") \\\n",
        "    .getOrCreate()\n",
        "#spark = sparknlp.start()\n",
        "\n",
        "print(\"Spark NLP version: \", sparknlp.version())\n",
        "print(\"Apache Spark version: \", spark.version)\n"
      ],
      "execution_count": 6,
      "outputs": [
        {
          "output_type": "stream",
          "text": [
            "2.2.2\n",
            "Spark NLP version:  None\n",
            "Apache Spark version:  2.4.3\n"
          ],
          "name": "stdout"
        }
      ]
    },
    {
      "cell_type": "code",
      "metadata": {
        "id": "OyzLAY_RDPc7",
        "colab_type": "code",
        "outputId": "44cdec38-71af-448f-b2da-713c3ef77252",
        "colab": {
          "base_uri": "https://localhost:8080/",
          "height": 510
        }
      },
      "source": [
        "!ls\n",
        "from sparknlp.training import CoNLL\n",
        "conll = CoNLL(\n",
        "    documentCol=\"document\",\n",
        "    sentenceCol=\"sentence\",\n",
        "    tokenCol=\"token\",\n",
        "    posCol=\"pos\",\n",
        "    conllLabelIndex=3,\n",
        "    conllPosIndex=1,\n",
        "    textCol='text',\n",
        "    labelCol='label',\n",
        "    explodeSentences=True\n",
        ")\n",
        "training_data = conll.readDataset(spark, 'con_rest_train.bio',ReadAs.LINE_BY_LINE)\n",
        "#training_data = CoNLL().readDataset(spark, 'con_rest_train.bio')\n",
        "training_data,test_data=training_data.randomSplit([0.9, 0.1], None)\n",
        "print(\"Training Dataset Count: \" + str(training_data.count()))\n",
        "print(\"Test Dataset Count: \" + str(test_data.count()))\n",
        "training_data.show(n=20)"
      ],
      "execution_count": 7,
      "outputs": [
        {
          "output_type": "stream",
          "text": [
            "con_rest_train.bio  gdrive  glove.6B.300d.txt  sample_data  tf\n",
            "Training Dataset Count: 44936\n",
            "Test Dataset Count: 5060\n",
            "+--------------------+--------------------+--------------------+--------------------+--------------------+--------------------+\n",
            "|                text|            document|            sentence|               token|                 pos|               label|\n",
            "+--------------------+--------------------+--------------------+--------------------+--------------------+--------------------+\n",
            "|2 star restaurant...|[[document, 0, 51...|[[document, 0, 51...|[[token, 0, 0, 2,...|[[pos, 0, 0, , [w...|[[named_entity, 0...|\n",
            "|2 starlet restaur...|[[document, 0, 39...|[[document, 0, 39...|[[token, 0, 0, 2,...|[[pos, 0, 0, , [w...|[[named_entity, 0...|\n",
            "|5 star resturants...|[[document, 0, 27...|[[document, 0, 27...|[[token, 0, 0, 5,...|[[pos, 0, 0, , [w...|[[named_entity, 0...|\n",
            "|5 star resturants...|[[document, 0, 28...|[[document, 0, 28...|[[token, 0, 0, 5,...|[[pos, 0, 0, , [w...|[[named_entity, 0...|\n",
            "|5 stars resturant...|[[document, 0, 28...|[[document, 0, 28...|[[token, 0, 0, 5,...|[[pos, 0, 0, , [w...|[[named_entity, 0...|\n",
            "|98 jin kong resta...|[[document, 0, 39...|[[document, 0, 39...|[[token, 0, 1, 98...|[[pos, 0, 1, , [w...|[[named_entity, 0...|\n",
            "|At lunch time whi...|[[document, 0, 44...|[[document, 0, 44...|[[token, 0, 1, At...|[[pos, 0, 1, , [w...|[[named_entity, 0...|\n",
            "|At meal time whil...|[[document, 0, 64...|[[document, 0, 64...|[[token, 0, 1, At...|[[pos, 0, 1, , [w...|[[named_entity, 0...|\n",
            "|At meal time whil...|[[document, 0, 53...|[[document, 0, 53...|[[token, 0, 1, At...|[[pos, 0, 1, , [w...|[[named_entity, 0...|\n",
            "|At meal time whil...|[[document, 0, 58...|[[document, 0, 58...|[[token, 0, 1, At...|[[pos, 0, 1, , [w...|[[named_entity, 0...|\n",
            "|At meal time whil...|[[document, 0, 54...|[[document, 0, 54...|[[token, 0, 1, At...|[[pos, 0, 1, , [w...|[[named_entity, 0...|\n",
            "|At meal time whil...|[[document, 0, 46...|[[document, 0, 46...|[[token, 0, 1, At...|[[pos, 0, 1, , [w...|[[named_entity, 0...|\n",
            "|At meal time whil...|[[document, 0, 43...|[[document, 0, 43...|[[token, 0, 1, At...|[[pos, 0, 1, , [w...|[[named_entity, 0...|\n",
            "|At meal time whil...|[[document, 0, 41...|[[document, 0, 41...|[[token, 0, 1, At...|[[pos, 0, 1, , [w...|[[named_entity, 0...|\n",
            "|At meals time whi...|[[document, 0, 44...|[[document, 0, 44...|[[token, 0, 1, At...|[[pos, 0, 1, , [w...|[[named_entity, 0...|\n",
            "|At nutritious_mea...|[[document, 0, 54...|[[document, 0, 54...|[[token, 0, 1, At...|[[pos, 0, 1, , [w...|[[named_entity, 0...|\n",
            "|At thirteen hundr...|[[document, 0, 63...|[[document, 0, 63...|[[token, 0, 1, At...|[[pos, 0, 1, , [w...|[[named_entity, 0...|\n",
            "|At thirteen hundr...|[[document, 0, 64...|[[document, 0, 64...|[[token, 0, 1, At...|[[pos, 0, 1, , [w...|[[named_entity, 0...|\n",
            "|At thirteen hundr...|[[document, 0, 62...|[[document, 0, 62...|[[token, 0, 1, At...|[[pos, 0, 1, , [w...|[[named_entity, 0...|\n",
            "|At thirteen hundr...|[[document, 0, 61...|[[document, 0, 61...|[[token, 0, 1, At...|[[pos, 0, 1, , [w...|[[named_entity, 0...|\n",
            "+--------------------+--------------------+--------------------+--------------------+--------------------+--------------------+\n",
            "only showing top 20 rows\n",
            "\n"
          ],
          "name": "stdout"
        }
      ]
    },
    {
      "cell_type": "markdown",
      "metadata": {
        "id": "gZ3gvJQHsYEf",
        "colab_type": "text"
      },
      "source": [
        "Create a custom pipeline"
      ]
    },
    {
      "cell_type": "code",
      "metadata": {
        "id": "cGWDh6y7sYEg",
        "colab_type": "code",
        "colab": {}
      },
      "source": [
        "import time\n",
        "\n",
        "documentAssembler = DocumentAssembler() \\\n",
        "    .setInputCol(\"text\") \\\n",
        "    .setOutputCol(\"document\")\n",
        "\n",
        "tokenizer = Tokenizer() \\\n",
        "    .setInputCols([\"document\"]) \\\n",
        "    .setOutputCol(\"token\")\n",
        "\n",
        "embeddings = WordEmbeddings() \\\n",
        "        .setInputCols([\"document\", \"token\"])\\\n",
        "        .setOutputCol(\"embeddings\")\\\n",
        "        .setEmbeddingsSource(\"glove.6B.300d.txt\", 300, \"text\")\n",
        "\n",
        "#spell = NorvigSweetingModel.pretrained() \\\n",
        "#    .setInputCols([\"token\"]) \\\n",
        "#    .setOutputCol(\"spell\")\n",
        "#.setGraphFolder(\"gdrive/My Drive/Colab Notebooks/SparkNLP/utils/Graphs\")\\\n",
        "ner_dl = NerDLApproach()\\\n",
        "    .setInputCols([\"document\", \"token\",\"embeddings\"])\\\n",
        "    .setLabelColumn(\"label\")\\\n",
        "    .setOutputCol(\"ner\")\\\n",
        "    .setMaxEpochs(2)\\\n",
        "    .setRandomSeed(0)\\\n",
        "    .setVerbose(2)\\\n",
        "    .setBatchSize(10)\\\n",
        "    .setGraphFolder(\"./tf/\")\\\n",
        "    .setEnableOutputLogs(True)\n",
        "\n",
        "converter = NerConverter()\\\n",
        "  .setInputCols([\"document\", \"token\", \"ner\"])\\\n",
        "  .setOutputCol(\"ner_converter\")\n",
        "\n",
        "finisher = Finisher() \\\n",
        "    .setInputCols([\"ner\", \"ner_converter\"]) \\\n",
        "    .setIncludeMetadata(True)\n",
        "\n",
        "pipeline_fast_dl = Pipeline(stages = [\n",
        "    documentAssembler, \n",
        "    tokenizer, \n",
        "    embeddings, \n",
        "    ner_dl,\n",
        "    converter,\n",
        "    finisher])"
      ],
      "execution_count": 0,
      "outputs": []
    },
    {
      "cell_type": "markdown",
      "metadata": {
        "id": "7m8RfeZZsYEi",
        "colab_type": "text"
      },
      "source": [
        "Now let's use these pipelines and see the results"
      ]
    },
    {
      "cell_type": "code",
      "metadata": {
        "id": "iO_qeaCQDcDC",
        "colab_type": "code",
        "outputId": "27acd331-e2c8-4586-c141-aa403aae3ac6",
        "colab": {
          "base_uri": "https://localhost:8080/",
          "height": 102
        }
      },
      "source": [
        "%%time\n",
        "\n",
        "start = time.time()\n",
        "print(\"Start fitting\")\n",
        "prediction_model = pipeline_fast_dl.fit(training_data)\n",
        "print(\"Fitting is ended\")\n",
        "print (time.time() - start)"
      ],
      "execution_count": 9,
      "outputs": [
        {
          "output_type": "stream",
          "text": [
            "Start fitting\n",
            "Fitting is ended\n",
            "1402.7473585605621\n",
            "CPU times: user 225 ms, sys: 48 ms, total: 273 ms\n",
            "Wall time: 23min 22s\n"
          ],
          "name": "stdout"
        }
      ]
    },
    {
      "cell_type": "code",
      "metadata": {
        "id": "JK-J83PbffUD",
        "colab_type": "code",
        "colab": {
          "base_uri": "https://localhost:8080/",
          "height": 479
        },
        "outputId": "5aec5864-1371-449f-f177-50c1217555ca"
      },
      "source": [
        "#prediction_data = spark.createDataFrame([[\"Maria is a nice place.\"],[\"any bbq places open before 5 nearby\"]]).toDF(\"text\")\n",
        "#prediction_data.show()\n",
        "prediction_model.transform(test_data).show(truncate=False)"
      ],
      "execution_count": 10,
      "outputs": [
        {
          "output_type": "stream",
          "text": [
            "+-----------------------------------------------------------------------------------------------------------+--------------------------------------------------------------------------------------------------------------------------------------------------------------------------------+--------------------------------------------------------------------+------------------------------------------------------------------------------------------------------------------------------------------------------------------------------------------------------------------------------------------------------------------------------+--------------------------------------------------------------------------------------------------------------------------------------------------------------------------------------------------------------------+\n",
            "|text                                                                                                       |finished_ner                                                                                                                                                                    |finished_ner_converter                                              |finished_ner_metadata                                                                                                                                                                                                                                                         |finished_ner_converter_metadata                                                                                                                                                                                     |\n",
            "+-----------------------------------------------------------------------------------------------------------+--------------------------------------------------------------------------------------------------------------------------------------------------------------------------------+--------------------------------------------------------------------+------------------------------------------------------------------------------------------------------------------------------------------------------------------------------------------------------------------------------------------------------------------------------+--------------------------------------------------------------------------------------------------------------------------------------------------------------------------------------------------------------------+\n",
            "|At Thanksgiving_dinner time while I'm here will it be hot ?                                                |[O, B-weather_duration, O, O, O, B-Location, O, O, O, B-weather_temperature, O]                                                                                                 |[Thanksgiving_dinner, here, hot]                                    |[[word, At], [word, Thanksgiving_dinner], [word, time], [word, while], [word, I'm], [word, here], [word, will], [word, it], [word, be], [word, hot], [word, ?]]                                                                                                               |[[entity, weather_duration], [sentence, 0], [chunk, 0], [entity, Location], [sentence, 0], [chunk, 1], [entity, weather_temperature], [sentence, 0], [chunk, 2]]                                                    |\n",
            "|At thirteen hundred ##hours what will the weather be on Ghana ?                                            |[O, B-weather_duration, B-weather_duration, B-weather_duration, O, O, O, O, O, O, B-Location, O]                                                                                |[thirteen, hundred, ##hours, Ghana]                                 |[[word, At], [word, thirteen], [word, hundred], [word, ##hours], [word, what], [word, will], [word, the], [word, weather], [word, be], [word, on], [word, Ghana], [word, ?]]                                                                                                  |[[entity, weather_duration], [sentence, 0], [chunk, 0], [entity, weather_duration], [sentence, 0], [chunk, 1], [entity, weather_duration], [sentence, 0], [chunk, 2], [entity, Location], [sentence, 0], [chunk, 3]]|\n",
            "|At thirteen hundred hours what will the weather be on Gambia ?                                             |[O, B-weather_duration, B-weather_duration, B-weather_duration, O, O, O, O, O, O, B-Location, O]                                                                                |[thirteen, hundred, hours, Gambia]                                  |[[word, At], [word, thirteen], [word, hundred], [word, hours], [word, what], [word, will], [word, the], [word, weather], [word, be], [word, on], [word, Gambia], [word, ?]]                                                                                                   |[[entity, weather_duration], [sentence, 0], [chunk, 0], [entity, weather_duration], [sentence, 0], [chunk, 1], [entity, weather_duration], [sentence, 0], [chunk, 2], [entity, Location], [sentence, 0], [chunk, 3]]|\n",
            "|CHEFS_Chefs food items                                                                                     |[B-Cuisine, O, O]                                                                                                                                                               |[CHEFS_Chefs]                                                       |[[word, CHEFS_Chefs], [word, food], [word, items]]                                                                                                                                                                                                                            |[[entity, Cuisine], [sentence, 0], [chunk, 0]]                                                                                                                                                                      |\n",
            "|Can you give me the forecast for Keytesville for 12 minutes from now                                       |[O, O, O, O, O, O, O, B-Location, O, B-weather_duration, I-weather_duration, I-weather_duration, I-weather_duration]                                                            |[Keytesville, 12 minutes from now]                                  |[[word, Can], [word, you], [word, give], [word, me], [word, the], [word, forecast], [word, for], [word, Keytesville], [word, for], [word, 12], [word, minutes], [word, from], [word, now]]                                                                                    |[[entity, Location], [sentence, 0], [chunk, 0], [entity, weather_duration], [sentence, 0], [chunk, 1]]                                                                                                              |\n",
            "|Can you give me the weather for just                                                                       |[O, O, O, O, O, O, O, B-Location]                                                                                                                                               |[just]                                                              |[[word, Can], [word, you], [word, give], [word, me], [word, the], [word, weather], [word, for], [word, just]]                                                                                                                                                                 |[[entity, Location], [sentence, 0], [chunk, 0]]                                                                                                                                                                     |\n",
            "|Can you give me weather details for my existing spot                                                       |[O, O, O, O, O, O, O, O, B-Location, I-Location]                                                                                                                                |[existing spot]                                                     |[[word, Can], [word, you], [word, give], [word, me], [word, weather], [word, details], [word, for], [word, my], [word, existing], [word, spot]]                                                                                                                               |[[entity, Location], [sentence, 0], [chunk, 0]]                                                                                                                                                                     |\n",
            "|Can you tell me if it'll be freezing in Wrightstown in eleven years ?                                      |[O, O, O, O, O, O, O, B-weather_temperature, O, B-Location, B-weather_duration, I-weather_duration, I-weather_duration, O]                                                      |[freezing, Wrightstown, in eleven years]                            |[[word, Can], [word, you], [word, tell], [word, me], [word, if], [word, it'll], [word, be], [word, freezing], [word, in], [word, Wrightstown], [word, in], [word, eleven], [word, years], [word, ?]]                                                                          |[[entity, weather_temperature], [sentence, 0], [chunk, 0], [entity, Location], [sentence, 0], [chunk, 1], [entity, weather_duration], [sentence, 0], [chunk, 2]]                                                    |\n",
            "|Can you tell me if it'll be freezing in Wrightstown in four years ?                                        |[O, O, O, O, O, O, O, B-weather_temperature, O, B-Location, B-weather_duration, I-weather_duration, I-weather_duration, O]                                                      |[freezing, Wrightstown, in four years]                              |[[word, Can], [word, you], [word, tell], [word, me], [word, if], [word, it'll], [word, be], [word, freezing], [word, in], [word, Wrightstown], [word, in], [word, four], [word, years], [word, ?]]                                                                            |[[entity, weather_temperature], [sentence, 0], [chunk, 0], [entity, Location], [sentence, 0], [chunk, 1], [entity, weather_duration], [sentence, 0], [chunk, 2]]                                                    |\n",
            "|Can you tell me if it'll be freezing in Wrightstown in six years ?                                         |[O, O, O, O, O, O, O, B-weather_temperature, O, B-Location, B-weather_duration, I-weather_duration, I-weather_duration, O]                                                      |[freezing, Wrightstown, in six years]                               |[[word, Can], [word, you], [word, tell], [word, me], [word, if], [word, it'll], [word, be], [word, freezing], [word, in], [word, Wrightstown], [word, in], [word, six], [word, years], [word, ?]]                                                                             |[[entity, weather_temperature], [sentence, 0], [chunk, 0], [entity, Location], [sentence, 0], [chunk, 1], [entity, weather_duration], [sentence, 0], [chunk, 2]]                                                    |\n",
            "|Can you tell me what the weather is doing in South Epworth , Guam                                          |[O, O, O, O, O, O, O, O, O, O, B-Location, I-Location, O, B-Location]                                                                                                           |[South Epworth, Guam]                                               |[[word, Can], [word, you], [word, tell], [word, me], [word, what], [word, the], [word, weather], [word, is], [word, doing], [word, in], [word, South], [word, Epworth], [word, ,], [word, Guam]]                                                                              |[[entity, Location], [sentence, 0], [chunk, 0], [entity, Location], [sentence, 0], [chunk, 1]]                                                                                                                      |\n",
            "|Check the forecast for Natchaug State Forest                                                               |[O, O, O, O, B-Location, I-Location, I-Location]                                                                                                                                |[Natchaug State Forest]                                             |[[word, Check], [word, the], [word, forecast], [word, for], [word, Natchaug], [word, State], [word, Forest]]                                                                                                                                                                  |[[entity, Location], [sentence, 0], [chunk, 0]]                                                                                                                                                                     |\n",
            "|Check the forecast for Zena , Arkansas on Last Transforming_Lives_Every Of Passover .                      |[O, O, O, O, B-Location, O, B-Location, O, B-weather_duration, I-weather_duration, I-weather_duration, I-weather_duration, O]                                                   |[Zena, Arkansas, Last Transforming_Lives_Every Of Passover]         |[[word, Check], [word, the], [word, forecast], [word, for], [word, Zena], [word, ,], [word, Arkansas], [word, on], [word, Last], [word, Transforming_Lives_Every], [word, Of], [word, Passover], [word, .]]                                                                   |[[entity, Location], [sentence, 0], [chunk, 0], [entity, Location], [sentence, 0], [chunk, 1], [entity, weather_duration], [sentence, 0], [chunk, 2]]                                                               |\n",
            "|Check the weather for Kenedy , Port_Vila for around nine am                                                |[O, O, O, O, B-Location, O, B-Location, O, O, B-weather_duration, I-weather_duration]                                                                                           |[Kenedy, Port_Vila, nine am]                                        |[[word, Check], [word, the], [word, weather], [word, for], [word, Kenedy], [word, ,], [word, Port_Vila], [word, for], [word, around], [word, nine], [word, am]]                                                                                                               |[[entity, Location], [sentence, 0], [chunk, 0], [entity, Location], [sentence, 0], [chunk, 1], [entity, weather_duration], [sentence, 0], [chunk, 2]]                                                               |\n",
            "|Check the weather forecast in ## weeks for Emida .                                                         |[O, O, O, O, B-weather_duration, I-weather_duration, I-weather_duration, O, B-Location, O]                                                                                      |[in ## weeks, Emida]                                                |[[word, Check], [word, the], [word, weather], [word, forecast], [word, in], [word, ##], [word, weeks], [word, for], [word, Emida], [word, .]]                                                                                                                                 |[[entity, weather_duration], [sentence, 0], [chunk, 0], [entity, Location], [sentence, 0], [chunk, 1]]                                                                                                              |\n",
            "|Finger_licking                                                                                             |[B-Dish]                                                                                                                                                                        |[Finger_licking]                                                    |[[word, Finger_licking]]                                                                                                                                                                                                                                                      |[[entity, Dish], [sentence, 0], [chunk, 0]]                                                                                                                                                                         |\n",
            "|Give me Slovakia 's weather forecast for five am                                                           |[O, O, B-Location, O, O, O, O, O, B-weather_duration, I-weather_duration]                                                                                                       |[Slovakia, five am]                                                 |[[word, Give], [word, me], [word, Slovakia], [word, '], [word, s], [word, weather], [word, forecast], [word, for], [word, five], [word, am]]                                                                                                                                  |[[entity, Location], [sentence, 0], [chunk, 0], [entity, weather_duration], [sentence, 0], [chunk, 1]]                                                                                                              |\n",
            "|Give me another weather forecast for Wisconsin Dells in Saint Kitts and Nevis on another day after tomorrow|[O, O, O, O, O, O, B-Location, I-Location, O, B-Location, I-Location, I-Location, I-Location, O, B-weather_duration, I-weather_duration, I-weather_duration, I-weather_duration]|[Wisconsin Dells, Saint Kitts and Nevis, another day after tomorrow]|[[word, Give], [word, me], [word, another], [word, weather], [word, forecast], [word, for], [word, Wisconsin], [word, Dells], [word, in], [word, Saint], [word, Kitts], [word, and], [word, Nevis], [word, on], [word, another], [word, day], [word, after], [word, tomorrow]]|[[entity, Location], [sentence, 0], [chunk, 0], [entity, Location], [sentence, 0], [chunk, 1], [entity, weather_duration], [sentence, 0], [chunk, 2]]                                                               |\n",
            "|Give me the forecast for feb. eleventh, 2034 far from Anchorage                                            |[O, O, O, O, O, O, O, O, O, I-weather_duration, B-Location, O, B-Location]                                                                                                      |[2034, far, Anchorage]                                              |[[word, Give], [word, me], [word, the], [word, forecast], [word, for], [word, feb], [word, .], [word, eleventh], [word, ,], [word, 2034], [word, far], [word, from], [word, Anchorage]]                                                                                       |[[entity, weather_duration], [sentence, 0], [chunk, 0], [entity, Location], [sentence, 0], [chunk, 1], [entity, Location], [sentence, 0], [chunk, 2]]                                                               |\n",
            "|Give me the forecast for the weather in Broward Springs                                                    |[O, O, O, O, O, O, O, O, B-Location, I-Location]                                                                                                                                |[Broward Springs]                                                   |[[word, Give], [word, me], [word, the], [word, forecast], [word, for], [word, the], [word, weather], [word, in], [word, Broward], [word, Springs]]                                                                                                                            |[[entity, Location], [sentence, 0], [chunk, 0]]                                                                                                                                                                     |\n",
            "+-----------------------------------------------------------------------------------------------------------+--------------------------------------------------------------------------------------------------------------------------------------------------------------------------------+--------------------------------------------------------------------+------------------------------------------------------------------------------------------------------------------------------------------------------------------------------------------------------------------------------------------------------------------------------+--------------------------------------------------------------------------------------------------------------------------------------------------------------------------------------------------------------------+\n",
            "only showing top 20 rows\n",
            "\n"
          ],
          "name": "stdout"
        }
      ]
    },
    {
      "cell_type": "code",
      "metadata": {
        "id": "p63iLEmxb0ab",
        "colab_type": "code",
        "colab": {
          "base_uri": "https://localhost:8080/",
          "height": 445
        },
        "outputId": "a6abd508-4176-4240-cf97-3070cad79110"
      },
      "source": [
        "prediction_data = spark.createDataFrame([[\"what is the weather forecast for close-by GU 3 years from already \"],[\"find Nearest restarent\"],[\"find Nearest pizza restarent\"],[\"is ixtapa mexican restaurant considered cheep \"],[\"im looking for the closest indian restaurant\"],[\"Will the weather be the Same here in one week in the Same area \"],[\"Will it be getting chillier in Sahuarita ?\"]]).toDF(\"text\")\n",
        "prediction_data.show(truncate=False)\n",
        "prediction_model.transform(prediction_data).show(truncate=False)\n"
      ],
      "execution_count": 18,
      "outputs": [
        {
          "output_type": "stream",
          "text": [
            "+------------------------------------------------------------------+\n",
            "|text                                                              |\n",
            "+------------------------------------------------------------------+\n",
            "|what is the weather forecast for close-by GU 3 years from already |\n",
            "|find Nearest restarent                                            |\n",
            "|find Nearest pizza restarent                                      |\n",
            "|is ixtapa mexican restaurant considered cheep                     |\n",
            "|im looking for the closest indian restaurant                      |\n",
            "|Will the weather be the Same here in one week in the Same area    |\n",
            "|Will it be getting chillier in Sahuarita ?                        |\n",
            "+------------------------------------------------------------------+\n",
            "\n",
            "+------------------------------------------------------------------+---------------------------------------------------------------------------------------------------------------------------------------------------+-------------------------------------------+---------------------------------------------------------------------------------------------------------------------------------------------------------------------------------------------+----------------------------------------------------------------------------------------------------------------------------------------------------------------------------------------------------+\n",
            "|text                                                              |finished_ner                                                                                                                                       |finished_ner_converter                     |finished_ner_metadata                                                                                                                                                                        |finished_ner_converter_metadata                                                                                                                                                                     |\n",
            "+------------------------------------------------------------------+---------------------------------------------------------------------------------------------------------------------------------------------------+-------------------------------------------+---------------------------------------------------------------------------------------------------------------------------------------------------------------------------------------------+----------------------------------------------------------------------------------------------------------------------------------------------------------------------------------------------------+\n",
            "|what is the weather forecast for close-by GU 3 years from already |[O, O, O, O, O, O, B-Location, B-Location, B-weather_duration, I-weather_duration, I-weather_duration, I-weather_duration]                         |[close-by, GU, 3 years from already]       |[[word, what], [word, is], [word, the], [word, weather], [word, forecast], [word, for], [word, close-by], [word, GU], [word, 3], [word, years], [word, from], [word, already]]               |[[entity, Location], [sentence, 0], [chunk, 0], [entity, Location], [sentence, 0], [chunk, 1], [entity, weather_duration], [sentence, 0], [chunk, 2]]                                               |\n",
            "|find Nearest restarent                                            |[O, B-Location, O]                                                                                                                                 |[Nearest]                                  |[[word, find], [word, Nearest], [word, restarent]]                                                                                                                                           |[[entity, Location], [sentence, 0], [chunk, 0]]                                                                                                                                                     |\n",
            "|find Nearest pizza restarent                                      |[O, B-Location, B-Cuisine, O]                                                                                                                      |[Nearest, pizza]                           |[[word, find], [word, Nearest], [word, pizza], [word, restarent]]                                                                                                                            |[[entity, Location], [sentence, 0], [chunk, 0], [entity, Cuisine], [sentence, 0], [chunk, 1]]                                                                                                       |\n",
            "|is ixtapa mexican restaurant considered cheep                     |[O, B-Restaurant_Name, I-Restaurant_Name, I-Restaurant_Name, O, B-Price]                                                                           |[ixtapa mexican restaurant, cheep]         |[[word, is], [word, ixtapa], [word, mexican], [word, restaurant], [word, considered], [word, cheep]]                                                                                         |[[entity, Restaurant_Name], [sentence, 0], [chunk, 0], [entity, Price], [sentence, 0], [chunk, 1]]                                                                                                  |\n",
            "|im looking for the closest indian restaurant                      |[O, O, O, O, B-Location, B-Cuisine, O]                                                                                                             |[closest, indian]                          |[[word, im], [word, looking], [word, for], [word, the], [word, closest], [word, indian], [word, restaurant]]                                                                                 |[[entity, Location], [sentence, 0], [chunk, 0], [entity, Cuisine], [sentence, 0], [chunk, 1]]                                                                                                       |\n",
            "|Will the weather be the Same here in one week in the Same area    |[O, O, O, O, O, B-Location, B-Location, B-weather_duration, I-weather_duration, I-weather_duration, B-Location, I-Location, I-Location, I-Location]|[Same, here, in one week, in the Same area]|[[word, Will], [word, the], [word, weather], [word, be], [word, the], [word, Same], [word, here], [word, in], [word, one], [word, week], [word, in], [word, the], [word, Same], [word, area]]|[[entity, Location], [sentence, 0], [chunk, 0], [entity, Location], [sentence, 0], [chunk, 1], [entity, weather_duration], [sentence, 0], [chunk, 2], [entity, Location], [sentence, 0], [chunk, 3]]|\n",
            "|Will it be getting chillier in Sahuarita ?                        |[O, O, O, O, B-weather_temperature, O, B-Location, O]                                                                                              |[chillier, Sahuarita]                      |[[word, Will], [word, it], [word, be], [word, getting], [word, chillier], [word, in], [word, Sahuarita], [word, ?]]                                                                          |[[entity, weather_temperature], [sentence, 0], [chunk, 0], [entity, Location], [sentence, 0], [chunk, 1]]                                                                                           |\n",
            "+------------------------------------------------------------------+---------------------------------------------------------------------------------------------------------------------------------------------------+-------------------------------------------+---------------------------------------------------------------------------------------------------------------------------------------------------------------------------------------------+----------------------------------------------------------------------------------------------------------------------------------------------------------------------------------------------------+\n",
            "\n"
          ],
          "name": "stdout"
        }
      ]
    },
    {
      "cell_type": "code",
      "metadata": {
        "id": "_Ov6Vcf2ERg1",
        "colab_type": "code",
        "outputId": "78a57f32-af53-4296-a7fd-aa8a6fa145c9",
        "colab": {
          "base_uri": "https://localhost:8080/",
          "height": 51
        }
      },
      "source": [
        "prediction_model.write().overwrite().save(\"ner_dl_model_aug_eq\")\n",
        "!ls"
      ],
      "execution_count": 11,
      "outputs": [
        {
          "output_type": "stream",
          "text": [
            "con_rest_train.bio  glove.6B.300d.txt\t sample_data\n",
            "gdrive\t\t    ner_dl_model_aug_eq  tf\n"
          ],
          "name": "stdout"
        }
      ]
    },
    {
      "cell_type": "code",
      "metadata": {
        "id": "J4TsjFNr3xJI",
        "colab_type": "code",
        "colab": {}
      },
      "source": [
        "!cp -r 'ner_dl_model_aug_eq' 'gdrive/My Drive/Colab Notebooks/SparkNLP/utils/ner_dl_model_aug_eq'"
      ],
      "execution_count": 0,
      "outputs": []
    },
    {
      "cell_type": "code",
      "metadata": {
        "id": "86pAku0iETDe",
        "colab_type": "code",
        "colab": {}
      },
      "source": [
        "from pyspark.ml import PipelineModel, Pipeline\n",
        "\n",
        "loaded_prediction_model = PipelineModel.read().load('ner_dl_model_aug')\n"
      ],
      "execution_count": 0,
      "outputs": []
    },
    {
      "cell_type": "code",
      "metadata": {
        "id": "dqO9vjyZGMzf",
        "colab_type": "code",
        "colab": {}
      },
      "source": [
        "prediction_data = spark.createDataFrame([[\"Maria is a nice place.\"],[\"any bbq places open before 5 nearby\"],[\"2 star restaurants with inside dining\"],['98 hong kong restaurant reasonable prices']]).toDF(\"text\")\n",
        "prediction_data.show()\n",
        "loaded_prediction_model.transform(prediction_data).show(truncate=False)\n",
        "prediction = loaded_prediction_model.transform(prediction_data)\n",
        "prediction.select(\"finished_ner_metadata\").show(truncate=False)\n",
        "prediction.select(\"finished_ner\").show(truncate=False)\n",
        "prediction.select(\"finished_ner_converter_metadata\").show(truncate=False)\n",
        "prediction.select(\"finished_ner_converter\").show(truncate=False)\n",
        "#prediction.select(\"ner\").show(truncate=False)"
      ],
      "execution_count": 0,
      "outputs": []
    }
  ]
}