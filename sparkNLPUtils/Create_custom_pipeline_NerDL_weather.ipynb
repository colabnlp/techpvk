{
  "nbformat": 4,
  "nbformat_minor": 0,
  "metadata": {
    "kernelspec": {
      "name": "python3",
      "display_name": "Python 3"
    },
    "language_info": {
      "codemirror_mode": {
        "name": "ipython",
        "version": 3
      },
      "file_extension": ".py",
      "mimetype": "text/x-python",
      "name": "python",
      "nbconvert_exporter": "python",
      "pygments_lexer": "ipython3",
      "version": "3.6.9"
    },
    "colab": {
      "name": "Create_custom_pipeline_NerDL.ipynb",
      "provenance": [],
      "collapsed_sections": []
    },
    "accelerator": "TPU"
  },
  "cells": [
    {
      "cell_type": "markdown",
      "metadata": {
        "id": "DY5KZWu8sYEV",
        "colab_type": "text"
      },
      "source": [
        "Show how to use pretrained assertion status"
      ]
    },
    {
      "cell_type": "code",
      "metadata": {
        "id": "RpzZuBNnKXwv",
        "colab_type": "code",
        "outputId": "bc15522e-c52d-4d36-c8f1-b20a6577c90d",
        "colab": {
          "base_uri": "https://localhost:8080/",
          "height": 71
        }
      },
      "source": [
        "from google.colab import drive\n",
        "drive.mount(\"/content/gdrive/\")\n",
        "import sys\n",
        "sys.path.append('/content/gdrive/My Drive/Colab Notebooks/SparkNLP/utils')\n",
        "!ls"
      ],
      "execution_count": 2,
      "outputs": [
        {
          "output_type": "stream",
          "text": [
            "Drive already mounted at /content/gdrive/; to attempt to forcibly remount, call drive.mount(\"/content/gdrive/\", force_remount=True).\n",
            "gdrive\tsample_data\n"
          ],
          "name": "stdout"
        }
      ]
    },
    {
      "cell_type": "code",
      "metadata": {
        "id": "YR2LZ_LQRqed",
        "colab_type": "code",
        "outputId": "631d70dc-7011-4a35-c312-52c5dce8b4fa",
        "colab": {
          "base_uri": "https://localhost:8080/",
          "height": 85
        }
      },
      "source": [
        "drivepath = \"gdrive/My Drive/Colab Notebooks/SparkNLP/utils\"\n",
        "biotrainset = \"con_rest_train.bio\"\n",
        "gloveemb = \"glove.6B.300d.txt\"\n",
        "modelsavefilename=\"ner_dl_model_aug\"\n",
        "print(\"Driver path file name :\"+drivepath)\n",
        "print(\"BIO file name :\"+biotrainset)\n",
        "print(\"Glovec file name :\"+gloveemb)\n",
        "print(\"modelsavefilename file name :\"+modelsavefilename)\n",
        "!cp \"gdrive/My Drive/Colab Notebooks/SparkNLP/utils/con_rest_train.bio\" \"con_rest_train.bio\"\n",
        "!cp \"gdrive/My Drive/Colab Notebooks/SparkNLP/utils/glove.6B.300d.txt\" \"glove.6B.300d.txt\"\n",
        "#!cp \"gdrive/My Drive/Colab Notebooks/SparkNLP/utils/blstm_17_300_128_37.pb\" \"blstm_17_300_128_37.pb\"\n",
        "!cp \"gdrive/My Drive/Colab Notebooks/SparkNLP/utils/blstm-noncontrib_17_300_128_75.pb\" \"blstm-noncontrib_17_300_128_75.pb\"\n"
      ],
      "execution_count": 4,
      "outputs": [
        {
          "output_type": "stream",
          "text": [
            "Driver path file name :gdrive/My Drive/Colab Notebooks/SparkNLP/utils\n",
            "BIO file name :con_rest_train.bio\n",
            "Glovec file name :glove.6B.300d.txt\n",
            "modelsavefilename file name :ner_dl_model_aug\n"
          ],
          "name": "stdout"
        }
      ]
    },
    {
      "cell_type": "code",
      "metadata": {
        "id": "hg_kFAOISDwZ",
        "colab_type": "code",
        "outputId": "475cc913-1a97-4261-d9fa-54fecc06af5d",
        "colab": {
          "base_uri": "https://localhost:8080/",
          "height": 51
        }
      },
      "source": [
        "!ls"
      ],
      "execution_count": 5,
      "outputs": [
        {
          "output_type": "stream",
          "text": [
            "blstm_29_300_128_81.pb\tgdrive\t\t   sample_data\tuntitled\n",
            "con_rest_train.bio\tglove.6B.300d.txt  tf\n"
          ],
          "name": "stdout"
        }
      ]
    },
    {
      "cell_type": "code",
      "metadata": {
        "id": "gIPCfwoX_9Bo",
        "colab_type": "code",
        "outputId": "ca9531ab-efc3-4bab-bd01-46f9cfe06912",
        "colab": {
          "base_uri": "https://localhost:8080/",
          "height": 377
        }
      },
      "source": [
        "import os\n",
        "\n",
        "# Install java\n",
        "! apt-get install -y openjdk-8-jdk-headless -qq > /dev/null\n",
        "os.environ[\"JAVA_HOME\"] = \"/usr/lib/jvm/java-8-openjdk-amd64\"\n",
        "os.environ[\"PATH\"] = os.environ[\"JAVA_HOME\"] + \"/bin:\" + os.environ[\"PATH\"]\n",
        "! java -version\n",
        "\n",
        "# Install pyspark\n",
        "! pip install --ignore-installed pyspark==2.4.3\n",
        "\n",
        "# Install Spark NLP\n",
        "! pip install --ignore-installed spark-nlp==2.2.2"
      ],
      "execution_count": 6,
      "outputs": [
        {
          "output_type": "stream",
          "text": [
            "openjdk version \"1.8.0_222\"\n",
            "OpenJDK Runtime Environment (build 1.8.0_222-8u222-b10-1ubuntu1~18.04.1-b10)\n",
            "OpenJDK 64-Bit Server VM (build 25.222-b10, mixed mode)\n",
            "Collecting pyspark==2.4.3\n",
            "\u001b[?25l  Downloading https://files.pythonhosted.org/packages/37/98/244399c0daa7894cdf387e7007d5e8b3710a79b67f3fd991c0b0b644822d/pyspark-2.4.3.tar.gz (215.6MB)\n",
            "\u001b[K     |████████████████████████████████| 215.6MB 49kB/s \n",
            "\u001b[?25hCollecting py4j==0.10.7\n",
            "\u001b[?25l  Downloading https://files.pythonhosted.org/packages/e3/53/c737818eb9a7dc32a7cd4f1396e787bd94200c3997c72c1dbe028587bd76/py4j-0.10.7-py2.py3-none-any.whl (197kB)\n",
            "\u001b[K     |████████████████████████████████| 204kB 37.5MB/s \n",
            "\u001b[?25hBuilding wheels for collected packages: pyspark\n",
            "  Building wheel for pyspark (setup.py) ... \u001b[?25l\u001b[?25hdone\n",
            "  Created wheel for pyspark: filename=pyspark-2.4.3-py2.py3-none-any.whl size=215964963 sha256=333b6150dd66faec988accbff94eabaf742d51d2d4b6dd5cc4a0f7483d9ef403\n",
            "  Stored in directory: /root/.cache/pip/wheels/8d/20/f0/b30e2024226dc112e256930dd2cd4f06d00ab053c86278dcf3\n",
            "Successfully built pyspark\n",
            "Installing collected packages: py4j, pyspark\n",
            "Successfully installed py4j-0.10.7 pyspark-2.4.3\n",
            "Collecting spark-nlp==2.2.2\n",
            "  Downloading https://files.pythonhosted.org/packages/f9/1a/711bde42e9cd17b5166a2c282ba9824103c416091c9ad95ca7dcece7170e/spark_nlp-2.2.2-py2.py3-none-any.whl\n",
            "Installing collected packages: spark-nlp\n",
            "Successfully installed spark-nlp-2.2.2\n"
          ],
          "name": "stdout"
        }
      ]
    },
    {
      "cell_type": "code",
      "metadata": {
        "id": "xco3RwJYsYEX",
        "colab_type": "code",
        "colab": {}
      },
      "source": [
        "import sys\n",
        "\n",
        "from pyspark.sql import SparkSession\n",
        "from pyspark.ml import PipelineModel\n",
        "\n",
        "import sparknlp\n",
        "from sparknlp.annotator import *\n",
        "from sparknlp.common import *\n",
        "from sparknlp.base import *\n",
        "from sparknlp.pretrained import ResourceDownloader\n",
        "\n",
        "from pathlib import Path\n",
        "\n",
        "if sys.version_info[0] < 3:\n",
        "    from urllib import urlretrieve\n",
        "else:\n",
        "    from urllib.request import urlretrieve    "
      ],
      "execution_count": 0,
      "outputs": []
    },
    {
      "cell_type": "code",
      "metadata": {
        "id": "HIS_nmYYsYEa",
        "colab_type": "code",
        "outputId": "9b190c79-ec8f-4fed-e454-a34085c66a2a",
        "colab": {
          "base_uri": "https://localhost:8080/",
          "height": 68
        }
      },
      "source": [
        "from pyspark.sql import SparkSession\n",
        "\n",
        "spark = SparkSession.builder \\\n",
        "    .appName(\"Global DEMO - Spark NLP Enterprise 2.3.4\") \\\n",
        "    .master(\"local[*]\") \\\n",
        "    .config(\"spark.rdd.compress\",\"true\") \\\n",
        "    .config(\"spark.driver.memory\",\"8G\") \\\n",
        "    .config(\"spark.driver.maxResultSize\", \"2G\") \\\n",
        "    .config(\"spark.serializer\", \"org.apache.spark.serializer.KryoSerializer\") \\\n",
        "    .config(\"spark.kryoserializer.buffer.max\", \"600M\") \\\n",
        "    .config(\"spark.jars.packages\", \"JohnSnowLabs:spark-nlp:2.3.4\") \\\n",
        "    .getOrCreate()\n",
        "#spark = sparknlp.start()\n",
        "\n",
        "print(\"Spark NLP version: \", sparknlp.version())\n",
        "print(\"Apache Spark version: \", spark.version)\n"
      ],
      "execution_count": 8,
      "outputs": [
        {
          "output_type": "stream",
          "text": [
            "2.2.2\n",
            "Spark NLP version:  None\n",
            "Apache Spark version:  2.4.3\n"
          ],
          "name": "stdout"
        }
      ]
    },
    {
      "cell_type": "code",
      "metadata": {
        "id": "OyzLAY_RDPc7",
        "colab_type": "code",
        "outputId": "31d4a68f-bca6-4c88-b3ed-d785bdce1afe",
        "colab": {
          "base_uri": "https://localhost:8080/",
          "height": 547
        }
      },
      "source": [
        "!ls\n",
        "from sparknlp.training import CoNLL\n",
        "conll = CoNLL(\n",
        "    documentCol=\"document\",\n",
        "    sentenceCol=\"sentence\",\n",
        "    tokenCol=\"token\",\n",
        "    posCol=\"pos\",\n",
        "    conllLabelIndex=3,\n",
        "    conllPosIndex=1,\n",
        "    textCol='text',\n",
        "    labelCol='label',\n",
        "    explodeSentences=True\n",
        ")\n",
        "training_data = conll.readDataset(spark, 'con_rest_train.bio',ReadAs.LINE_BY_LINE)\n",
        "#training_data = CoNLL().readDataset(spark, 'con_rest_train.bio')\n",
        "training_data,test_data=training_data.randomSplit([0.9, 0.1], None)\n",
        "print(\"Training Dataset Count: \" + str(training_data.count()))\n",
        "print(\"Test Dataset Count: \" + str(test_data.count()))\n",
        "training_data.show(n=20)"
      ],
      "execution_count": 9,
      "outputs": [
        {
          "output_type": "stream",
          "text": [
            "blstm_29_300_128_81.pb\tgdrive\t\t   sample_data\tuntitled\n",
            "con_rest_train.bio\tglove.6B.300d.txt  tf\n",
            "Training Dataset Count: 10963\n",
            "Test Dataset Count: 1140\n",
            "+--------------------+--------------------+--------------------+--------------------+--------------------+--------------------+\n",
            "|                text|            document|            sentence|               token|                 pos|               label|\n",
            "+--------------------+--------------------+--------------------+--------------------+--------------------+--------------------+\n",
            "|At meal time whil...|[[document, 0, 43...|[[document, 0, 43...|[[token, 0, 1, At...|[[pos, 0, 1, , [w...|[[named_entity, 0...|\n",
            "|At thirteen hundr...|[[document, 0, 60...|[[document, 0, 60...|[[token, 0, 1, At...|[[pos, 0, 1, , [w...|[[named_entity, 0...|\n",
            "|Can you give me t...|[[document, 0, 39...|[[document, 0, 39...|[[token, 0, 2, Ca...|[[pos, 0, 2, , [w...|[[named_entity, 0...|\n",
            "|Can you give me t...|[[document, 0, 66...|[[document, 0, 66...|[[token, 0, 2, Ca...|[[pos, 0, 2, , [w...|[[named_entity, 0...|\n",
            "|Can you give me t...|[[document, 0, 66...|[[document, 0, 66...|[[token, 0, 2, Ca...|[[pos, 0, 2, , [w...|[[named_entity, 0...|\n",
            "|Can you give me t...|[[document, 0, 67...|[[document, 0, 67...|[[token, 0, 2, Ca...|[[pos, 0, 2, , [w...|[[named_entity, 0...|\n",
            "|Can you give me t...|[[document, 0, 67...|[[document, 0, 67...|[[token, 0, 2, Ca...|[[pos, 0, 2, , [w...|[[named_entity, 0...|\n",
            "|Can you give me t...|[[document, 0, 69...|[[document, 0, 69...|[[token, 0, 2, Ca...|[[pos, 0, 2, , [w...|[[named_entity, 0...|\n",
            "|Can you give me t...|[[document, 0, 70...|[[document, 0, 70...|[[token, 0, 2, Ca...|[[pos, 0, 2, , [w...|[[named_entity, 0...|\n",
            "|Can you give me t...|[[document, 0, 65...|[[document, 0, 65...|[[token, 0, 2, Ca...|[[pos, 0, 2, , [w...|[[named_entity, 0...|\n",
            "|Can you give me t...|[[document, 0, 67...|[[document, 0, 67...|[[token, 0, 2, Ca...|[[pos, 0, 2, , [w...|[[named_entity, 0...|\n",
            "|Can you give me t...|[[document, 0, 38...|[[document, 0, 38...|[[token, 0, 2, Ca...|[[pos, 0, 2, , [w...|[[named_entity, 0...|\n",
            "|Can you give me t...|[[document, 0, 37...|[[document, 0, 37...|[[token, 0, 2, Ca...|[[pos, 0, 2, , [w...|[[named_entity, 0...|\n",
            "|Can you give me t...|[[document, 0, 51...|[[document, 0, 51...|[[token, 0, 2, Ca...|[[pos, 0, 2, , [w...|[[named_entity, 0...|\n",
            "|Can you give me t...|[[document, 0, 45...|[[document, 0, 45...|[[token, 0, 2, Ca...|[[pos, 0, 2, , [w...|[[named_entity, 0...|\n",
            "|Can you give me t...|[[document, 0, 35...|[[document, 0, 35...|[[token, 0, 2, Ca...|[[pos, 0, 2, , [w...|[[named_entity, 0...|\n",
            "|Can you give me t...|[[document, 0, 46...|[[document, 0, 46...|[[token, 0, 2, Ca...|[[pos, 0, 2, , [w...|[[named_entity, 0...|\n",
            "|Can you give me t...|[[document, 0, 74...|[[document, 0, 74...|[[token, 0, 2, Ca...|[[pos, 0, 2, , [w...|[[named_entity, 0...|\n",
            "|Can you give me w...|[[document, 0, 50...|[[document, 0, 50...|[[token, 0, 2, Ca...|[[pos, 0, 2, , [w...|[[named_entity, 0...|\n",
            "|Can you tell me i...|[[document, 0, 68...|[[document, 0, 68...|[[token, 0, 2, Ca...|[[pos, 0, 2, , [w...|[[named_entity, 0...|\n",
            "+--------------------+--------------------+--------------------+--------------------+--------------------+--------------------+\n",
            "only showing top 20 rows\n",
            "\n"
          ],
          "name": "stdout"
        }
      ]
    },
    {
      "cell_type": "markdown",
      "metadata": {
        "id": "gZ3gvJQHsYEf",
        "colab_type": "text"
      },
      "source": [
        "Create a custom pipeline"
      ]
    },
    {
      "cell_type": "code",
      "metadata": {
        "id": "cGWDh6y7sYEg",
        "colab_type": "code",
        "colab": {}
      },
      "source": [
        "import time\n",
        "\n",
        "documentAssembler = DocumentAssembler() \\\n",
        "    .setInputCol(\"text\") \\\n",
        "    .setOutputCol(\"document\")\n",
        "\n",
        "tokenizer = Tokenizer() \\\n",
        "    .setInputCols([\"document\"]) \\\n",
        "    .setOutputCol(\"token\")\n",
        "\n",
        "embeddings = WordEmbeddings() \\\n",
        "        .setInputCols([\"document\", \"token\"])\\\n",
        "        .setOutputCol(\"embeddings\")\\\n",
        "        .setEmbeddingsSource(\"glove.6B.300d.txt\", 300, \"text\")\n",
        "\n",
        "#spell = NorvigSweetingModel.pretrained() \\\n",
        "#    .setInputCols([\"token\"]) \\\n",
        "#    .setOutputCol(\"spell\")\n",
        "#.setGraphFolder(\"gdrive/My Drive/Colab Notebooks/SparkNLP/utils/Graphs\")\\\n",
        "ner_dl = NerDLApproach()\\\n",
        "    .setInputCols([\"document\", \"token\",\"embeddings\"])\\\n",
        "    .setLabelColumn(\"label\")\\\n",
        "    .setOutputCol(\"ner\")\\\n",
        "    .setMaxEpochs(2)\\\n",
        "    .setRandomSeed(0)\\\n",
        "    .setVerbose(2)\\\n",
        "    .setBatchSize(9)\\\n",
        "    .setGraphFolder(\"./\")\\\n",
        "    .setEnableOutputLogs(True)\n",
        "\n",
        "converter = NerConverter()\\\n",
        "  .setInputCols([\"document\", \"token\", \"ner\"])\\\n",
        "  .setOutputCol(\"ner_converter\")\n",
        "\n",
        "finisher = Finisher() \\\n",
        "    .setInputCols([\"ner\", \"ner_converter\"]) \\\n",
        "    .setIncludeMetadata(True)\n",
        "\n",
        "pipeline_fast_dl = Pipeline(stages = [\n",
        "    documentAssembler, \n",
        "    tokenizer, \n",
        "    embeddings, \n",
        "    ner_dl,\n",
        "    converter,\n",
        "    finisher])"
      ],
      "execution_count": 0,
      "outputs": []
    },
    {
      "cell_type": "markdown",
      "metadata": {
        "id": "7m8RfeZZsYEi",
        "colab_type": "text"
      },
      "source": [
        "Now let's use these pipelines and see the results"
      ]
    },
    {
      "cell_type": "code",
      "metadata": {
        "id": "iO_qeaCQDcDC",
        "colab_type": "code",
        "outputId": "ca63b2cc-8749-4ed1-fbe1-a164b9c25b62",
        "colab": {
          "base_uri": "https://localhost:8080/",
          "height": 102
        }
      },
      "source": [
        "%%time\n",
        "\n",
        "start = time.time()\n",
        "print(\"Start fitting\")\n",
        "prediction_model = pipeline_fast_dl.fit(training_data)\n",
        "print(\"Fitting is ended\")\n",
        "print (time.time() - start)"
      ],
      "execution_count": 11,
      "outputs": [
        {
          "output_type": "stream",
          "text": [
            "Start fitting\n",
            "Fitting is ended\n",
            "597.9858376979828\n",
            "CPU times: user 179 ms, sys: 34.4 ms, total: 213 ms\n",
            "Wall time: 9min 57s\n"
          ],
          "name": "stdout"
        }
      ]
    },
    {
      "cell_type": "code",
      "metadata": {
        "id": "JK-J83PbffUD",
        "colab_type": "code",
        "outputId": "18effb41-77f2-4c0e-f924-ea31932bd36b",
        "colab": {
          "base_uri": "https://localhost:8080/",
          "height": 479
        }
      },
      "source": [
        "#prediction_data = spark.createDataFrame([[\"Maria is a nice place.\"],[\"any bbq places open before 5 nearby\"]]).toDF(\"text\")\n",
        "#prediction_data.show()\n",
        "prediction_model.transform(test_data).show(truncate=False)"
      ],
      "execution_count": 12,
      "outputs": [
        {
          "output_type": "stream",
          "text": [
            "+-------------------------------------------------------------------------------------------------+--------------------------------------------------------------------------------------------------------------------------------------------------------------------+---------------------------------------------------------------+--------------------------------------------------------------------------------------------------------------------------------------------------------------------------------------------------------------------------------------------------------------------+--------------------------------------------------------------------------------------------------------------------------------------------------------------------------------------------------------+\n",
            "|text                                                                                             |finished_ner                                                                                                                                                        |finished_ner_converter                                         |finished_ner_metadata                                                                                                                                                                                                                                               |finished_ner_converter_metadata                                                                                                                                                                         |\n",
            "+-------------------------------------------------------------------------------------------------+--------------------------------------------------------------------------------------------------------------------------------------------------------------------+---------------------------------------------------------------+--------------------------------------------------------------------------------------------------------------------------------------------------------------------------------------------------------------------------------------------------------------------+--------------------------------------------------------------------------------------------------------------------------------------------------------------------------------------------------------+\n",
            "|Can you give me the forecast for 10:15 in Paraguay                                               |[O, O, O, O, O, O, O, B-weather_duration, O, B-country]                                                                                                             |[10:15, Paraguay]                                              |[[word, Can], [word, you], [word, give], [word, me], [word, the], [word, forecast], [word, for], [word, 10:15], [word, in], [word, Paraguay]]                                                                                                                       |[[entity, weather_duration], [sentence, 0], [chunk, 0], [entity, country], [sentence, 0], [chunk, 1]]                                                                                                   |\n",
            "|Can you give me the forecast for Chris_Osgood                                                    |[O, O, O, O, O, O, O, B-weather_condition]                                                                                                                          |[Chris_Osgood]                                                 |[[word, Can], [word, you], [word, give], [word, me], [word, the], [word, forecast], [word, for], [word, Chris_Osgood]]                                                                                                                                              |[[entity, weather_condition], [sentence, 0], [chunk, 0]]                                                                                                                                                |\n",
            "|Can you give me the forecast for Keytesville for 12 mintues from now                             |[O, O, O, O, O, O, O, B-city, O, B-weather_duration, I-weather_duration, I-weather_duration, I-weather_duration]                                                    |[Keytesville, 12 mintues from now]                             |[[word, Can], [word, you], [word, give], [word, me], [word, the], [word, forecast], [word, for], [word, Keytesville], [word, for], [word, 12], [word, mintues], [word, from], [word, now]]                                                                          |[[entity, city], [sentence, 0], [chunk, 0], [entity, weather_duration], [sentence, 0], [chunk, 1]]                                                                                                      |\n",
            "|Can you give me the forecast for Keytesville for 12 minutes from already                         |[O, O, O, O, O, O, O, B-city, O, B-weather_duration, I-weather_duration, I-weather_duration, I-weather_duration]                                                    |[Keytesville, 12 minutes from already]                         |[[word, Can], [word, you], [word, give], [word, me], [word, the], [word, forecast], [word, for], [word, Keytesville], [word, for], [word, 12], [word, minutes], [word, from], [word, already]]                                                                      |[[entity, city], [sentence, 0], [chunk, 0], [entity, weather_duration], [sentence, 0], [chunk, 1]]                                                                                                      |\n",
            "|Can you tell me if it'll be freezing in Wrightstown in eight years ?                             |[O, O, O, O, O, O, O, B-weather_temperature, O, B-city, B-weather_duration, I-weather_duration, I-weather_duration, O]                                              |[freezing, Wrightstown, in eight years]                        |[[word, Can], [word, you], [word, tell], [word, me], [word, if], [word, it'll], [word, be], [word, freezing], [word, in], [word, Wrightstown], [word, in], [word, eight], [word, years], [word, ?]]                                                                 |[[entity, weather_temperature], [sentence, 0], [chunk, 0], [entity, city], [sentence, 0], [chunk, 1], [entity, weather_duration], [sentence, 0], [chunk, 2]]                                            |\n",
            "|Can you tell me if it'll be freezing in Wrightstown in five years ?                              |[O, O, O, O, O, O, O, B-weather_temperature, O, B-city, B-weather_duration, I-weather_duration, I-weather_duration, O]                                              |[freezing, Wrightstown, in five years]                         |[[word, Can], [word, you], [word, tell], [word, me], [word, if], [word, it'll], [word, be], [word, freezing], [word, in], [word, Wrightstown], [word, in], [word, five], [word, years], [word, ?]]                                                                  |[[entity, weather_temperature], [sentence, 0], [chunk, 0], [entity, city], [sentence, 0], [chunk, 1], [entity, weather_duration], [sentence, 0], [chunk, 2]]                                            |\n",
            "|Can you tell me the weather forecast for Samoa                                                   |[O, O, O, O, O, O, O, O, B-country]                                                                                                                                 |[Samoa]                                                        |[[word, Can], [word, you], [word, tell], [word, me], [word, the], [word, weather], [word, forecast], [word, for], [word, Samoa]]                                                                                                                                    |[[entity, country], [sentence, 0], [chunk, 0]]                                                                                                                                                          |\n",
            "|Can you tell me the weather forecast for six am in Grenada                                       |[O, O, O, O, O, O, O, O, B-weather_duration, I-weather_duration, O, B-country]                                                                                      |[six am, Grenada]                                              |[[word, Can], [word, you], [word, tell], [word, me], [word, the], [word, weather], [word, forecast], [word, for], [word, six], [word, am], [word, in], [word, Grenada]]                                                                                             |[[entity, weather_duration], [sentence, 0], [chunk, 0], [entity, country], [sentence, 0], [chunk, 1]]                                                                                                   |\n",
            "|Check the forecast for the current spot in the future Oct. 19, 2037 .                            |[O, O, O, O, O, B-Location, I-Location, O, O, O, O, O, O, O, I-weather_duration, O]                                                                                 |[current spot, 2037]                                           |[[word, Check], [word, the], [word, forecast], [word, for], [word, the], [word, current], [word, spot], [word, in], [word, the], [word, future], [word, Oct], [word, .], [word, 19], [word, ,], [word, 2037], [word, .]]                                            |[[entity, Location], [sentence, 0], [chunk, 0], [entity, weather_duration], [sentence, 0], [chunk, 1]]                                                                                                  |\n",
            "|Check the weather forecast for Ana\\u00efs_Nin                                                    |[O, O, O, O, O, B-country]                                                                                                                                          |[Ana\\u00efs_Nin]                                               |[[word, Check], [word, the], [word, weather], [word, forecast], [word, for], [word, Ana\\u00efs_Nin]]                                                                                                                                                                |[[entity, country], [sentence, 0], [chunk, 0]]                                                                                                                                                          |\n",
            "|Ethiopia Ellenton has heavy_snowfall weather at eight PM                                         |[B-country, B-city, O, B-weather_condition, O, O, B-weather_duration, I-weather_duration]                                                                           |[Ethiopia, Ellenton, heavy_snowfall, eight PM]                 |[[word, Ethiopia], [word, Ellenton], [word, has], [word, heavy_snowfall], [word, weather], [word, at], [word, eight], [word, PM]]                                                                                                                                   |[[entity, country], [sentence, 0], [chunk, 0], [entity, city], [sentence, 0], [chunk, 1], [entity, weather_condition], [sentence, 0], [chunk, 2], [entity, weather_duration], [sentence, 0], [chunk, 3]]|\n",
            "|Forecast for Switzer                                                                             |[O, O, B-city]                                                                                                                                                      |[Switzer]                                                      |[[word, Forecast], [word, for], [word, Switzer]]                                                                                                                                                                                                                    |[[entity, city], [sentence, 0], [chunk, 0]]                                                                                                                                                             |\n",
            "|Give me Slovakia 's weather forecast for seven am                                                |[O, O, B-country, O, O, O, O, O, B-weather_duration, I-weather_duration]                                                                                            |[Slovakia, seven am]                                           |[[word, Give], [word, me], [word, Slovakia], [word, '], [word, s], [word, weather], [word, forecast], [word, for], [word, seven], [word, am]]                                                                                                                       |[[entity, country], [sentence, 0], [chunk, 0], [entity, weather_duration], [sentence, 0], [chunk, 1]]                                                                                                   |\n",
            "|Give me in weather forecast for Wisconsin Dells in Saint Kitts and Nevis on in day after tomorrow|[O, O, O, O, O, O, B-city, I-city, O, B-country, I-country, I-country, I-country, O, B-weather_duration, I-weather_duration, I-weather_duration, I-weather_duration]|[Wisconsin Dells, Saint Kitts and Nevis, in day after tomorrow]|[[word, Give], [word, me], [word, in], [word, weather], [word, forecast], [word, for], [word, Wisconsin], [word, Dells], [word, in], [word, Saint], [word, Kitts], [word, and], [word, Nevis], [word, on], [word, in], [word, day], [word, after], [word, tomorrow]]|[[entity, city], [sentence, 0], [chunk, 0], [entity, country], [sentence, 0], [chunk, 1], [entity, weather_duration], [sentence, 0], [chunk, 2]]                                                        |\n",
            "|Give me the weather forecast for Illinois_Sweer .                                                |[O, O, O, O, O, O, B-Location, O]                                                                                                                                   |[Illinois_Sweer]                                               |[[word, Give], [word, me], [word, the], [word, weather], [word, forecast], [word, for], [word, Illinois_Sweer], [word, .]]                                                                                                                                          |[[entity, Location], [sentence, 0], [chunk, 0]]                                                                                                                                                         |\n",
            "|Give me the weather forecast for Zambia                                                          |[O, O, O, O, O, O, B-country]                                                                                                                                       |[Zambia]                                                       |[[word, Give], [word, me], [word, the], [word, weather], [word, forecast], [word, for], [word, Zambia]]                                                                                                                                                             |[[entity, country], [sentence, 0], [chunk, 0]]                                                                                                                                                          |\n",
            "|Give me the weather forecast for the city of Horace                                              |[O, O, O, O, O, O, O, O, O, B-city]                                                                                                                                 |[Horace]                                                       |[[word, Give], [word, me], [word, the], [word, weather], [word, forecast], [word, for], [word, the], [word, city], [word, of], [word, Horace]]                                                                                                                      |[[entity, city], [sentence, 0], [chunk, 0]]                                                                                                                                                             |\n",
            "|Give me the weather forecast in Pleasant Dale , Alaska starting in 19:52                         |[O, O, O, O, O, O, B-city, I-city, O, B-state, O, O, B-weather_duration]                                                                                            |[Pleasant Dale, Alaska, 19:52]                                 |[[word, Give], [word, me], [word, the], [word, weather], [word, forecast], [word, in], [word, Pleasant], [word, Dale], [word, ,], [word, Alaska], [word, starting], [word, in], [word, 19:52]]                                                                      |[[entity, city], [sentence, 0], [chunk, 0], [entity, state], [sentence, 0], [chunk, 1], [entity, weather_duration], [sentence, 0], [chunk, 2]]                                                          |\n",
            "|Give me weather information for Porcupine Mountains                                              |[O, O, O, O, O, B-city, I-city]                                                                                                                                     |[Porcupine Mountains]                                          |[[word, Give], [word, me], [word, weather], [word, information], [word, for], [word, Porcupine], [word, Mountains]]                                                                                                                                                 |[[entity, city], [sentence, 0], [chunk, 0]]                                                                                                                                                             |\n",
            "|How bitterly_cold is it close to Hollidaysburg ?                                                 |[O, B-weather_temperature, O, O, B-Location, O, B-city, O]                                                                                                          |[bitterly_cold, close, Hollidaysburg]                          |[[word, How], [word, bitterly_cold], [word, is], [word, it], [word, close], [word, to], [word, Hollidaysburg], [word, ?]]                                                                                                                                           |[[entity, weather_temperature], [sentence, 0], [chunk, 0], [entity, Location], [sentence, 0], [chunk, 1], [entity, city], [sentence, 0], [chunk, 2]]                                                    |\n",
            "+-------------------------------------------------------------------------------------------------+--------------------------------------------------------------------------------------------------------------------------------------------------------------------+---------------------------------------------------------------+--------------------------------------------------------------------------------------------------------------------------------------------------------------------------------------------------------------------------------------------------------------------+--------------------------------------------------------------------------------------------------------------------------------------------------------------------------------------------------------+\n",
            "only showing top 20 rows\n",
            "\n"
          ],
          "name": "stdout"
        }
      ]
    },
    {
      "cell_type": "code",
      "metadata": {
        "id": "p63iLEmxb0ab",
        "colab_type": "code",
        "colab": {
          "base_uri": "https://localhost:8080/",
          "height": 241
        },
        "outputId": "0fb2a83e-59ae-4e74-b230-2bc5b4e9556e"
      },
      "source": [
        "prediction_data = spark.createDataFrame([[\"what is the whtr in bangalore karnataka\"]]).toDF(\"text\")\n",
        "prediction_data.show(truncate=False)\n",
        "prediction_model.transform(prediction_data).show(truncate=False)\n"
      ],
      "execution_count": 17,
      "outputs": [
        {
          "output_type": "stream",
          "text": [
            "+---------------------------------------+\n",
            "|text                                   |\n",
            "+---------------------------------------+\n",
            "|what is the whtr in bangalore karnataka|\n",
            "+---------------------------------------+\n",
            "\n",
            "+---------------------------------------+----------------------------------------------------+----------------------------+-------------------------------------------------------------------------------------------------------+-------------------------------------------------------------------------------------------------------------------------------------------------+\n",
            "|text                                   |finished_ner                                        |finished_ner_converter      |finished_ner_metadata                                                                                  |finished_ner_converter_metadata                                                                                                                  |\n",
            "+---------------------------------------+----------------------------------------------------+----------------------------+-------------------------------------------------------------------------------------------------------+-------------------------------------------------------------------------------------------------------------------------------------------------+\n",
            "|what is the whtr in bangalore karnataka|[O, O, O, B-weather_condition, O, B-Location, B-poi]|[whtr, bangalore, karnataka]|[[word, what], [word, is], [word, the], [word, whtr], [word, in], [word, bangalore], [word, karnataka]]|[[entity, weather_condition], [sentence, 0], [chunk, 0], [entity, Location], [sentence, 0], [chunk, 1], [entity, poi], [sentence, 0], [chunk, 2]]|\n",
            "+---------------------------------------+----------------------------------------------------+----------------------------+-------------------------------------------------------------------------------------------------------+-------------------------------------------------------------------------------------------------------------------------------------------------+\n",
            "\n"
          ],
          "name": "stdout"
        }
      ]
    },
    {
      "cell_type": "code",
      "metadata": {
        "id": "_Ov6Vcf2ERg1",
        "colab_type": "code",
        "colab": {}
      },
      "source": [
        "prediction_model.write().overwrite().save(\"ner_dl_model_aug\")\n",
        "!ls"
      ],
      "execution_count": 0,
      "outputs": []
    },
    {
      "cell_type": "code",
      "metadata": {
        "id": "J4TsjFNr3xJI",
        "colab_type": "code",
        "colab": {}
      },
      "source": [
        "!cp -r 'ner_dl_model_aug' 'gdrive/My Drive/Colab Notebooks/SparkNLP/utils/ner_dl_model_aug'"
      ],
      "execution_count": 0,
      "outputs": []
    },
    {
      "cell_type": "code",
      "metadata": {
        "id": "86pAku0iETDe",
        "colab_type": "code",
        "colab": {}
      },
      "source": [
        "from pyspark.ml import PipelineModel, Pipeline\n",
        "\n",
        "loaded_prediction_model = PipelineModel.read().load('ner_dl_model_aug')\n"
      ],
      "execution_count": 0,
      "outputs": []
    },
    {
      "cell_type": "code",
      "metadata": {
        "id": "dqO9vjyZGMzf",
        "colab_type": "code",
        "colab": {}
      },
      "source": [
        "prediction_data = spark.createDataFrame([[\"Maria is a nice place.\"],[\"any bbq places open before 5 nearby\"],[\"2 star restaurants with inside dining\"],['98 hong kong restaurant reasonable prices']]).toDF(\"text\")\n",
        "prediction_data.show()\n",
        "loaded_prediction_model.transform(prediction_data).show(truncate=False)\n",
        "prediction = loaded_prediction_model.transform(prediction_data)\n",
        "prediction.select(\"finished_ner_metadata\").show(truncate=False)\n",
        "prediction.select(\"finished_ner\").show(truncate=False)\n",
        "prediction.select(\"finished_ner_converter_metadata\").show(truncate=False)\n",
        "prediction.select(\"finished_ner_converter\").show(truncate=False)\n",
        "#prediction.select(\"ner\").show(truncate=False)"
      ],
      "execution_count": 0,
      "outputs": []
    },
    {
      "cell_type": "code",
      "metadata": {
        "id": "oX4pYUskKAIs",
        "colab_type": "code",
        "colab": {}
      },
      "source": [
        "from pyspark.ml.evaluation import BinaryClassificationEvaluator\n",
        "evaluator = BinaryClassificationEvaluator()\n",
        "print(\"Test Area Under ROC: \" + str(evaluator.evaluate(prediction, {evaluator.metricName: \"areaUnderROC\"})))"
      ],
      "execution_count": 0,
      "outputs": []
    },
    {
      "cell_type": "code",
      "metadata": {
        "id": "LcqxPV5vGIyI",
        "colab_type": "code",
        "colab": {}
      },
      "source": [
        "from sparknlp.base import LightPipeline\n",
        "\n",
        "lp = LightPipeline(loaded_prediction_model)\n",
        "result = lp.annotate(\"Peter is a good person.\")\n",
        "for e in list(zip(result['token'], result['ner']))[:10]:\n",
        "    print(e)"
      ],
      "execution_count": 0,
      "outputs": []
    },
    {
      "cell_type": "code",
      "metadata": {
        "id": "OX3Jx3vJGI-u",
        "colab_type": "code",
        "colab": {}
      },
      "source": [
        "for stage in loaded_prediction_model.stages:\n",
        "    print(stage)\n",
        "print(loaded_prediction_model.stages[-1].stages)"
      ],
      "execution_count": 0,
      "outputs": []
    }
  ]
}