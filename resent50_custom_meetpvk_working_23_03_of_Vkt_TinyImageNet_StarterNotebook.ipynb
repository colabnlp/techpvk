{
  "nbformat": 4,
  "nbformat_minor": 0,
  "metadata": {
    "colab": {
      "name": "resent50_custom_meetpvk_working_23_03_of Vkt_TinyImageNet_StarterNotebook.ipynb",
      "version": "0.3.2",
      "provenance": [],
      "collapsed_sections": [],
      "include_colab_link": true
    },
    "kernelspec": {
      "name": "python3",
      "display_name": "Python 3"
    },
    "accelerator": "GPU"
  },
  "cells": [
    {
      "cell_type": "markdown",
      "metadata": {
        "id": "view-in-github",
        "colab_type": "text"
      },
      "source": [
        "<a href=\"https://colab.research.google.com/github/techpvk/techpvk/blob/master/resent50_custom_meetpvk_working_23_03_of_Vkt_TinyImageNet_StarterNotebook.ipynb\" target=\"_parent\"><img src=\"https://colab.research.google.com/assets/colab-badge.svg\" alt=\"Open In Colab\"/></a>"
      ]
    },
    {
      "metadata": {
        "id": "I4th9KTGttp2",
        "colab_type": "code",
        "outputId": "f0c79ef0-6e2e-4203-afc0-13f57389cf09",
        "colab": {
          "base_uri": "https://localhost:8080/",
          "height": 34
        }
      },
      "cell_type": "code",
      "source": [
        "# List and Clear the Data first\n",
        "!ls\n",
        "!rm -rf sample_data tiny-imagenet-200\ttiny-imagenet-200.zip"
      ],
      "execution_count": 1,
      "outputs": [
        {
          "output_type": "stream",
          "text": [
            "tiny-imagenet-200  tiny-imagenet-200.zip\n"
          ],
          "name": "stdout"
        }
      ]
    },
    {
      "metadata": {
        "id": "Atw96-N2TqIJ",
        "colab_type": "code",
        "colab": {}
      },
      "cell_type": "code",
      "source": [
        "# list content after the clearing data\n",
        "!ls"
      ],
      "execution_count": 0,
      "outputs": []
    },
    {
      "metadata": {
        "id": "2-uxInsGaQTb",
        "colab_type": "code",
        "outputId": "90402df3-7af2-4625-e120-8751bf29ba19",
        "colab": {
          "base_uri": "https://localhost:8080/",
          "height": 204
        }
      },
      "cell_type": "code",
      "source": [
        "# Download the file\n",
        "!wget http://cs231n.stanford.edu/tiny-imagenet-200.zip"
      ],
      "execution_count": 3,
      "outputs": [
        {
          "output_type": "stream",
          "text": [
            "--2019-03-29 17:18:38--  http://cs231n.stanford.edu/tiny-imagenet-200.zip\n",
            "Resolving cs231n.stanford.edu (cs231n.stanford.edu)... 171.64.68.10\n",
            "Connecting to cs231n.stanford.edu (cs231n.stanford.edu)|171.64.68.10|:80... connected.\n",
            "HTTP request sent, awaiting response... 200 OK\n",
            "Length: 248100043 (237M) [application/zip]\n",
            "Saving to: ‘tiny-imagenet-200.zip’\n",
            "\n",
            "tiny-imagenet-200.z 100%[===================>] 236.61M  38.8MB/s    in 7.4s    \n",
            "\n",
            "2019-03-29 17:18:46 (31.8 MB/s) - ‘tiny-imagenet-200.zip’ saved [248100043/248100043]\n",
            "\n"
          ],
          "name": "stdout"
        }
      ]
    },
    {
      "metadata": {
        "id": "phm86ZULdPa1",
        "colab_type": "code",
        "outputId": "08de95ec-765d-4196-b032-cf1b8b817882",
        "colab": {
          "base_uri": "https://localhost:8080/",
          "height": 34
        }
      },
      "cell_type": "code",
      "source": [
        "#unzip and list\n",
        "!unzip -qq 'tiny-imagenet-200.zip'\n",
        "!ls"
      ],
      "execution_count": 4,
      "outputs": [
        {
          "output_type": "stream",
          "text": [
            "tiny-imagenet-200  tiny-imagenet-200.zip\n"
          ],
          "name": "stdout"
        }
      ]
    },
    {
      "metadata": {
        "id": "7l_PCFURg9x_",
        "colab_type": "code",
        "colab": {
          "base_uri": "https://localhost:8080/",
          "height": 34
        },
        "outputId": "cc42026a-d473-49e6-fda7-f3a00f662938"
      },
      "cell_type": "code",
      "source": [
        "# import the required packages\n",
        "import pandas as pd\n",
        "import numpy as np\n",
        "import six\n",
        "from keras.preprocessing.image import ImageDataGenerator\n",
        "from __future__ import division\n",
        "from keras.models import Model\n",
        "from keras.layers import (\n",
        "    Input,\n",
        "    Activation,\n",
        "    Dense,\n",
        "    Flatten,\n",
        "    Dropout,\n",
        "    SeparableConv2D\n",
        ")\n",
        "from keras.layers.convolutional import (\n",
        "    Conv2D,\n",
        "    MaxPooling2D,\n",
        "    AveragePooling2D\n",
        ")\n",
        "from keras.layers.merge import add\n",
        "from keras.layers.normalization import BatchNormalization\n",
        "from keras.regularizers import l2\n",
        "from keras import backend as K\n",
        "from __future__ import print_function\n",
        "from keras.preprocessing.image import ImageDataGenerator\n",
        "from keras.utils import np_utils\n",
        "from keras.callbacks import ReduceLROnPlateau, CSVLogger, EarlyStopping\n",
        "import matplotlib.pyplot as plt\n",
        "from keras.models import Sequential\n",
        "from keras.utils.vis_utils import plot_model\n",
        "import matplotlib.pyplot as plt\n",
        "import os\n",
        "import cv2\n",
        "from keras.layers import GlobalAveragePooling2D\n",
        "from keras.models import Model, load_model, model_from_yaml\n",
        "from keras.utils.vis_utils import plot_model"
      ],
      "execution_count": 5,
      "outputs": [
        {
          "output_type": "stream",
          "text": [
            "Using TensorFlow backend.\n"
          ],
          "name": "stderr"
        }
      ]
    },
    {
      "metadata": {
        "id": "r7SjAhI2Jskn",
        "colab_type": "code",
        "colab": {}
      },
      "cell_type": "code",
      "source": [
        "# load data\n",
        "val_data = pd.read_csv('./tiny-imagenet-200/val/val_annotations.txt', sep='\\t', header=None, names=['File', 'Class', 'X', 'Y', 'H', 'W'])\n",
        "val_data.drop(['X', 'Y', 'H', 'W'], axis=1, inplace=True)\n",
        "#val_data.head(10)"
      ],
      "execution_count": 0,
      "outputs": []
    },
    {
      "metadata": {
        "id": "wRYLyZtwKKDp",
        "colab_type": "code",
        "colab": {}
      },
      "cell_type": "code",
      "source": [
        "# Use Augmentaion parameters as required.\n",
        "train_datagen = ImageDataGenerator(\n",
        "    rescale= 1./255,\n",
        "    zoom_range = 0.3,\n",
        "    width_shift_range=0.3,\n",
        "    height_shift_range=0.3,\n",
        "    rotation_range=20,\n",
        "    horizontal_flip=True\n",
        "    )\n",
        "\n",
        "valid_datagen = ImageDataGenerator(rescale=1./255)"
      ],
      "execution_count": 0,
      "outputs": []
    },
    {
      "metadata": {
        "id": "igYtU_VSKXto",
        "colab_type": "code",
        "outputId": "32b22c7e-a3cf-4fd7-b37b-8d72d66e2336",
        "colab": {
          "base_uri": "https://localhost:8080/",
          "height": 34
        }
      },
      "cell_type": "code",
      "source": [
        "train_generator = train_datagen.flow_from_directory( r'./tiny-imagenet-200/train/', target_size=(32, 32), color_mode='rgb', \n",
        "                                                    batch_size=200, class_mode='categorical', shuffle=True, seed=42)"
      ],
      "execution_count": 8,
      "outputs": [
        {
          "output_type": "stream",
          "text": [
            "Found 100000 images belonging to 200 classes.\n"
          ],
          "name": "stdout"
        }
      ]
    },
    {
      "metadata": {
        "id": "UBRfC4SdKbca",
        "colab_type": "code",
        "outputId": "73700651-37ce-45c6-95ff-38defa6a135e",
        "colab": {
          "base_uri": "https://localhost:8080/",
          "height": 34
        }
      },
      "cell_type": "code",
      "source": [
        "validation_generator = valid_datagen.flow_from_dataframe(val_data, directory='./tiny-imagenet-200/val/images/', x_col='File', y_col='Class', target_size=(32, 32),\n",
        "                                                    color_mode='rgb', class_mode='categorical', batch_size=200, shuffle=True, seed=42)\n"
      ],
      "execution_count": 9,
      "outputs": [
        {
          "output_type": "stream",
          "text": [
            "Found 10000 images belonging to 200 classes.\n"
          ],
          "name": "stdout"
        }
      ]
    },
    {
      "metadata": {
        "id": "4AfmUc4gxPg6",
        "colab_type": "code",
        "outputId": "34416eeb-4161-469a-e356-0a724ed5ae4d",
        "colab": {
          "base_uri": "https://localhost:8080/",
          "height": 34
        }
      },
      "cell_type": "code",
      "source": [
        "x_batch, y_batch = next(train_generator)\n",
        "x_batch.shape"
      ],
      "execution_count": 10,
      "outputs": [
        {
          "output_type": "execute_result",
          "data": {
            "text/plain": [
              "(200, 32, 32, 3)"
            ]
          },
          "metadata": {
            "tags": []
          },
          "execution_count": 10
        }
      ]
    },
    {
      "metadata": {
        "id": "CsK7MXV_wZS8",
        "colab_type": "code",
        "outputId": "035eb758-1788-4d67-f0aa-e4aec61a1280",
        "colab": {
          "base_uri": "https://localhost:8080/",
          "height": 322
        }
      },
      "cell_type": "code",
      "source": [
        "# Plot Generator images.  ** Re-run the cell to view different set of images.\n",
        "\n",
        "fig = plt.figure(figsize=(14, 5))\n",
        "\n",
        "for i in range(8):\n",
        "    sub = fig.add_subplot(2, 4, i + 1)\n",
        "    sub.imshow(x_batch[i,:,:], interpolation='nearest')"
      ],
      "execution_count": 11,
      "outputs": [
        {
          "output_type": "display_data",
          "data": {
            "image/png": "[encoded data removed]",
            "text/plain": [
              "<Figure size 1008x360 with 8 Axes>"
            ]
          },
          "metadata": {
            "tags": []
          }
        }
      ]
    },
    {
      "metadata": {
        "id": "pfHaHidXMWM3",
        "colab_type": "code",
        "colab": {}
      },
      "cell_type": "code",
      "source": [
        "def _bn_relu(input):\n",
        "    \"\"\"Helper to build a BN -> relu block\n",
        "    \"\"\"\n",
        "    norm = BatchNormalization(axis=CHANNEL_AXIS)(input)\n",
        "    return Activation(\"relu\")(norm)\n",
        "\n",
        "\n",
        "def _conv_bn_relu(**conv_params):\n",
        "    \"\"\"Helper to build a conv -> BN -> relu block\n",
        "    \"\"\"\n",
        "    filters = conv_params[\"filters\"]\n",
        "    name = conv_params[\"name\"]\n",
        "    kernel_size = conv_params[\"kernel_size\"]\n",
        "    strides = conv_params.setdefault(\"strides\", (1, 1))\n",
        "    kernel_initializer = conv_params.setdefault(\"kernel_initializer\", \"he_normal\")\n",
        "    padding = conv_params.setdefault(\"padding\", \"same\")\n",
        "    kernel_regularizer = conv_params.setdefault(\"kernel_regularizer\", l2(1.e-4))\n",
        "    def f(input):\n",
        "        print(\"first _conv_bn_relu Conv2D() start\")\n",
        "        conv = SeparableConv2D(filters=filters, kernel_size=kernel_size,\n",
        "                      strides=strides, padding=padding,\n",
        "                      kernel_initializer=kernel_initializer,\n",
        "                      kernel_regularizer=kernel_regularizer,\n",
        "                     name=name)(input)\n",
        "        print(\"first _conv_bn_relu Conv2D() end\")\n",
        "        return _bn_relu(conv)\n",
        "\n",
        "    return f\n",
        "\n",
        "\n",
        "def _bn_relu_conv(**conv_params):\n",
        "    \"\"\"Helper to build a BN -> relu -> conv block.\n",
        "    This is an improved scheme proposed in http://arxiv.org/pdf/1603.05027v2.pdf\n",
        "    \"\"\"\n",
        "    filters = conv_params[\"filters\"]\n",
        "    kernel_size = conv_params[\"kernel_size\"]\n",
        "    strides = conv_params.setdefault(\"strides\", (1, 1))\n",
        "    kernel_initializer = conv_params.setdefault(\"kernel_initializer\", \"he_normal\")\n",
        "    padding = conv_params.setdefault(\"padding\", \"same\")\n",
        "    kernel_regularizer = conv_params.setdefault(\"kernel_regularizer\", l2(1.e-4))\n",
        "    print(\"first _bn_relu_conv Conv2D() start\")\n",
        "    def f(input):\n",
        "        activation = _bn_relu(input)\n",
        "        print(\"first _bn_relu_conv Conv2D() end\")\n",
        "        return SeparableConv2D(filters=filters, kernel_size=kernel_size,\n",
        "                      strides=strides, padding=padding,\n",
        "                      kernel_initializer=kernel_initializer,\n",
        "                      kernel_regularizer=kernel_regularizer)(activation)\n",
        "\n",
        "    return f\n",
        "\n",
        "\n",
        "def _shortcut(input, residual):\n",
        "    \"\"\"Adds a shortcut between input and residual block and merges them with \"sum\"\n",
        "    \"\"\"\n",
        "    # Expand channels of shortcut to match residual.\n",
        "    # Stride appropriately to match residual (width, height)\n",
        "    # Should be int if network architecture is correctly configured.\n",
        "    print(\"_shortcut start\")\n",
        "    input_shape = K.int_shape(input)\n",
        "    residual_shape = K.int_shape(residual)\n",
        "    stride_width = int(round(input_shape[ROW_AXIS] / residual_shape[ROW_AXIS]))\n",
        "    stride_height = int(round(input_shape[COL_AXIS] / residual_shape[COL_AXIS]))\n",
        "    equal_channels = input_shape[CHANNEL_AXIS] == residual_shape[CHANNEL_AXIS]\n",
        "\n",
        "    shortcut = input\n",
        "    # 1 X 1 conv if shape is different. Else identity.\n",
        "    if stride_width > 1 or stride_height > 1 or not equal_channels:\n",
        "        print(\"_shortcut  stride_width: \",stride_width,\"stride_height: \",stride_height,\"equal_channels: \",equal_channels)\n",
        "        print(\"Conv2D start\")\n",
        "        shortcut = SeparableConv2D(filters=residual_shape[CHANNEL_AXIS],\n",
        "                          kernel_size=(1, 1),\n",
        "                          strides=(stride_width, stride_height),\n",
        "                          padding=\"valid\",\n",
        "                          kernel_initializer=\"he_normal\",\n",
        "                          kernel_regularizer=l2(0.0001))(input)\n",
        "        print(\"Conv2D end\")\n",
        "    print(\"doing -> shortcut+residual\")\n",
        "    return add([shortcut, residual])\n",
        "\n",
        "\n",
        "def _residual_block(block_function, filters, repetitions, is_first_layer=False):\n",
        "    \"\"\"Builds a residual block with repeating bottleneck blocks.\n",
        "    \"\"\"\n",
        "    def f(input):\n",
        "        \n",
        "        for i in range(repetitions):\n",
        "            print(\"_residual_block start\",\" i:\",i,\" repetitions:\",repetitions)\n",
        "            init_strides = (1, 1)\n",
        "            if i == 0 and not is_first_layer:\n",
        "                init_strides = (2, 2)\n",
        "            input = block_function(filters=filters, init_strides=init_strides,\n",
        "                                   is_first_block_of_first_layer=(is_first_layer and i == 0))(input)\n",
        "            print(\"_residual_block end\",\" i:\",i,\" repetitions:\",repetitions)\n",
        "        return input\n",
        "\n",
        "    return f\n",
        "\n",
        "\n",
        "def basic_block(filters, init_strides=(1, 1), is_first_block_of_first_layer=False):\n",
        "    \"\"\"Basic 3 X 3 convolution blocks for use on resnets with layers <= 34.\n",
        "    Follows improved proposed scheme in http://arxiv.org/pdf/1603.05027v2.pdf\n",
        "    \"\"\"\n",
        "    def f(input):\n",
        "\n",
        "        if is_first_block_of_first_layer:\n",
        "            # don't repeat bn->relu since we just did bn->relu->maxpool\n",
        "            conv1 = Conv2D(filters=filters, kernel_size=(3, 3),\n",
        "                           strides=init_strides,\n",
        "                           padding=\"same\",\n",
        "                           kernel_initializer=\"he_normal\",\n",
        "                           kernel_regularizer=l2(1e-4))(input)\n",
        "        else:\n",
        "            conv1 = _bn_relu_conv(filters=filters, kernel_size=(3, 3),\n",
        "                                  strides=init_strides)(input)\n",
        "\n",
        "        residual = _bn_relu_conv(filters=filters, kernel_size=(3, 3))(conv1)\n",
        "        return _shortcut(input, residual)\n",
        "\n",
        "    return f\n",
        "\n",
        "\n",
        "def bottleneck(filters, init_strides=(1, 1), is_first_block_of_first_layer=False):\n",
        "    \"\"\"Bottleneck architecture for > 34 layer resnet.\n",
        "    Follows improved proposed scheme in http://arxiv.org/pdf/1603.05027v2.pdf\n",
        "    Returns:\n",
        "        A final conv layer of filters * 4\n",
        "    \"\"\"\n",
        "    def f(input):\n",
        "        print(\"bottleneck-def f(input)\")\n",
        "        if is_first_block_of_first_layer:\n",
        "            print(\"bottleneck-is_first_block_of_first_layer\",\" init_strides:\",init_strides)\n",
        "            # don't repeat bn->relu since we just did bn->relu->maxpool\n",
        "            conv_1_1 = Conv2D(filters=filters, kernel_size=(1, 1),\n",
        "                              strides=init_strides,\n",
        "                              padding=\"same\",\n",
        "                              kernel_initializer=\"he_normal\",\n",
        "                              kernel_regularizer=l2(1e-4))(input)\n",
        "        else:\n",
        "            print(\"bottleneck-else block\",\" init_strides:\",init_strides)\n",
        "            conv_1_1 = _bn_relu_conv(filters=filters, kernel_size=(1, 1),\n",
        "                                     strides=init_strides)(input)\n",
        "\n",
        "        print(\"bottleneck-after condition before start of conv_3_3 -> residual-._shortcut\")\n",
        "        conv_3_3 = _bn_relu_conv(filters=filters, kernel_size=(3, 3))(conv_1_1)\n",
        "        residual = _bn_relu_conv(filters=filters * 4, kernel_size=(1, 1))(conv_3_3)\n",
        "        print(\"bottleneck-after condition  end of conv_3_3 -> residual-._shortcut\")\n",
        "        return _shortcut(input, residual)\n",
        "\n",
        "    return f\n",
        "\n",
        "def bottleneck_pyramid(filters, init_strides=(1, 1), is_first_block_of_first_layer=False):\n",
        "    \"\"\"Bottleneck architecture for > 34 layer resnet.\n",
        "    Follows improved proposed scheme in http://arxiv.org/pdf/1603.05027v2.pdf\n",
        "    Returns:\n",
        "        A final conv layer of filters * 4\n",
        "    \"\"\"\n",
        "    def f(input):\n",
        "        print(\"bottleneck-def f(input)\")\n",
        "        if is_first_block_of_first_layer:\n",
        "            print(\"bottleneck-is_first_block_of_first_layer\")\n",
        "            # don't repeat bn->relu since we just did bn->relu->maxpool\n",
        "            conv_1_1 = SeparableConv2D(filters=filters, kernel_size=(1, 1),\n",
        "                              strides=init_strides,\n",
        "                              padding=\"same\",\n",
        "                              kernel_initializer=\"he_normal\",\n",
        "                              kernel_regularizer=l2(1e-4))(input)\n",
        "        else:\n",
        "            print(\"bottleneck-else block-vkt\")\n",
        "            conv_1_1 = _bn_relu_conv(filters=filters, kernel_size=(1, 1),\n",
        "                                     strides=(1,1))(input)\n",
        "\n",
        "        print(\"bottleneck-after condition before start of conv_3_3 -> residual-._shortcut\")\n",
        "        conv_3_3_1 = _bn_relu_conv(filters=filters * 2, kernel_size=(3, 3))(conv_1_1)\n",
        "        conv_3_3_2 = _bn_relu_conv(filters=filters * 4, kernel_size=(3, 3))(conv_3_3_1)\n",
        "        conv_3_3_3 = _bn_relu_conv(filters=filters * 8, kernel_size=(3, 3))(conv_3_3_2)\n",
        "        if is_first_block_of_first_layer:\n",
        "           return _shortcut(input, conv_3_3_3)\n",
        "        else:\n",
        "            conv_3_3_3 = _bn_relu(conv_3_3_3)\n",
        "            conv_max_pool = MaxPooling2D(pool_size=(2, 2))(conv_3_3_3)\n",
        "            residual = _bn_relu(conv_max_pool)\n",
        "            #residual = _bn_relu_conv(filters=filters * 8, kernel_size=(3, 3))(conv_3_3_2)\n",
        "            print(\"bottleneck-after condition  end of conv_3_3 -> residual-._shortcut\")\n",
        "            return _shortcut(input, residual)\n",
        "          \n",
        "    return f\n",
        "\n",
        "\n",
        "def _handle_dim_ordering():\n",
        "    global ROW_AXIS\n",
        "    global COL_AXIS\n",
        "    global CHANNEL_AXIS\n",
        "    if K.image_dim_ordering() == 'tf':\n",
        "        ROW_AXIS = 1\n",
        "        COL_AXIS = 2\n",
        "        CHANNEL_AXIS = 3\n",
        "    else:\n",
        "        CHANNEL_AXIS = 1\n",
        "        ROW_AXIS = 2\n",
        "        COL_AXIS = 3\n",
        "\n",
        "\n",
        "def _get_block(identifier):\n",
        "    print(\"_get_block() start\")\n",
        "    if isinstance(identifier, six.string_types):\n",
        "        res = globals().get(identifier)\n",
        "        if not res:\n",
        "            raise ValueError('Invalid {}'.format(identifier))\n",
        "        return res\n",
        "    print(\"_get_block() end\")\n",
        "    return identifier\n",
        "\n",
        "\n",
        "class ResnetBuilder(object):\n",
        "    @staticmethod\n",
        "    def build(input_shape, num_outputs, block_fn, repetitions):\n",
        "        print(\"venkat-ResnetBuilder-build()\")\n",
        "        \"\"\"Builds a custom ResNet like architecture.\n",
        "        Args:\n",
        "            input_shape: The input shape in the form (nb_channels, nb_rows, nb_cols)\n",
        "            num_outputs: The number of outputs at final softmax layer\n",
        "            block_fn: The block function to use. This is either `basic_block` or `bottleneck`.\n",
        "                The original paper used basic_block for layers < 50\n",
        "            repetitions: Number of repetitions of various block units.\n",
        "                At each block unit, the number of filters are doubled and the input size is halved\n",
        "        Returns:\n",
        "            The keras `Model`.\n",
        "        \"\"\"\n",
        "        _handle_dim_ordering()\n",
        "        if len(input_shape) != 3:\n",
        "            raise Exception(\"Input shape should be a tuple (nb_channels, nb_rows, nb_cols)\")\n",
        "\n",
        "        # Permute dimension order if necessary\n",
        "        if K.image_dim_ordering() == 'tf':\n",
        "            input_shape = (input_shape[1], input_shape[2], input_shape[0])\n",
        "        print(\"_get_block() start from main\")\n",
        "        # Load function from str if needed.\n",
        "        block_fn = _get_block(block_fn)\n",
        "        print(\"_get_block() end from main\")\n",
        "        input = Input(shape=input_shape)\n",
        "        print(\"Input() end from main\")\n",
        "        print(\"first _conv_bn_relu start from main\")\n",
        "        conv1 = _conv_bn_relu(filters=64, kernel_size=(3, 3), strides=(1, 1),name='init-2d')(input)\n",
        "        print(\"first _conv_bn_relu end from main\")\n",
        "        #pool1 = MaxPooling2D(pool_size=(3, 3), strides=(2, 2), padding=\"same\")(conv1)\n",
        "        #x = Dropout(0.5)(pool1)\n",
        "        #block = conv1\n",
        "        block = input\n",
        "        filters = 32\n",
        "        for i, r in enumerate(repetitions):\n",
        "            print(\"*** inside for loop!!! start\",\" i:\",i,\" r:\",r,\" filters:\",filters,\" repetitions:\",repetitions)\n",
        "            block = _residual_block(block_fn, filters=filters, repetitions=r, is_first_layer=(i == 0))(block)\n",
        "            filters *= 2\n",
        "            print(\"*** inside for loop!!! end\")\n",
        "\n",
        "        # Last activation\n",
        "        block = _bn_relu(block)\n",
        "\n",
        "        # Classifier block\n",
        "        #block_shape = K.int_shape(block)\n",
        "        #pool2 = AveragePooling2D(pool_size=(block_shape[ROW_AXIS], block_shape[COL_AXIS]),\n",
        "        #                         strides=(1, 1))(block)\n",
        "        #flatten1 = Flatten()(pool2)\n",
        "        #x = Dropout(0.5)(flatten1)\n",
        "        #dense = Dense(units=num_outputs, kernel_initializer=\"he_normal\",\n",
        "        #              activation=\"softmax\")(x)\n",
        "        x = Conv2D(200, (1,1), strides=(1,1), padding='same', name='final2d', use_bias=False)(block)\n",
        "        x = _bn_relu(x)\n",
        "        x = GlobalAveragePooling2D(data_format='channels_last')(x)\n",
        "        # out = Flatten()(x)\n",
        "        out = Activation('softmax') (x)\n",
        "        model = Model(inputs=input, outputs=out)\n",
        "        return model\n",
        "\n",
        "    @staticmethod\n",
        "    def build_resnet_18(input_shape, num_outputs):\n",
        "        return ResnetBuilder.build(input_shape, num_outputs, basic_block, [2, 2, 2, 2])\n",
        "\n",
        "    @staticmethod\n",
        "    def build_resnet_34(input_shape, num_outputs):\n",
        "        return ResnetBuilder.build(input_shape, num_outputs, basic_block, [3, 4, 6, 3])\n",
        "\n",
        "    @staticmethod\n",
        "    def build_resnet_50(input_shape, num_outputs):\n",
        "        print(\"venkat-build_resnet_50\")\n",
        "        return ResnetBuilder.build(input_shape, num_outputs, bottleneck, [3, 4, 6, 3])\n",
        "      \n",
        "    @staticmethod\n",
        "    def build_resnet_50_pyramid(input_shape, num_outputs):\n",
        "        print(\"venkat-build_resnet_50\")\n",
        "        return ResnetBuilder.build(input_shape, num_outputs, bottleneck_pyramid, [1, 1, 1, 1])\n",
        "\n",
        "    @staticmethod\n",
        "    def build_resnet_101(input_shape, num_outputs):\n",
        "        return ResnetBuilder.build(input_shape, num_outputs, bottleneck, [3, 4, 23, 3])\n",
        "\n",
        "    @staticmethod\n",
        "    def build_resnet_152(input_shape, num_outputs):\n",
        "        return ResnetBuilder.build(input_shape, num_outputs, bottleneck, [3, 8, 36, 3])\n",
        "\n"
      ],
      "execution_count": 0,
      "outputs": []
    },
    {
      "metadata": {
        "id": "Wnzu2sLmx7Az",
        "colab_type": "code",
        "outputId": "881682b6-f073-4fe5-f36a-c33bd4db0e9b",
        "colab": {
          "base_uri": "https://localhost:8080/",
          "height": 1652
        }
      },
      "cell_type": "code",
      "source": [
        "nb_classes = 200\n",
        "#nb_epoch = 100\n",
        "# input image dimensions\n",
        "img_rows, img_cols = 32, 32\n",
        "img_channels = 3\n",
        "model = ResnetBuilder.build_resnet_50_pyramid((img_channels, img_rows, img_cols), nb_classes)\n",
        "model.compile(loss='categorical_crossentropy',\n",
        "              optimizer='adam',\n",
        "              metrics=['accuracy'])\n"
      ],
      "execution_count": 13,
      "outputs": [
        {
          "output_type": "stream",
          "text": [
            "venkat-build_resnet_50\n",
            "venkat-ResnetBuilder-build()\n",
            "_get_block() start from main\n",
            "_get_block() start\n",
            "_get_block() end\n",
            "_get_block() end from main\n",
            "Input() end from main\n",
            "first _conv_bn_relu start from main\n",
            "first _conv_bn_relu Conv2D() start\n",
            "WARNING:tensorflow:From /usr/local/lib/python3.6/dist-packages/tensorflow/python/framework/op_def_library.py:263: colocate_with (from tensorflow.python.framework.ops) is deprecated and will be removed in a future version.\n",
            "Instructions for updating:\n",
            "Colocations handled automatically by placer.\n",
            "first _conv_bn_relu Conv2D() end\n",
            "first _conv_bn_relu end from main\n",
            "*** inside for loop!!! start  i: 0  r: 1  filters: 32  repetitions: [1, 1, 1, 1]\n",
            "_residual_block start  i: 0  repetitions: 1\n",
            "bottleneck-def f(input)\n",
            "bottleneck-is_first_block_of_first_layer\n",
            "bottleneck-after condition before start of conv_3_3 -> residual-._shortcut\n",
            "first _bn_relu_conv Conv2D() start\n",
            "first _bn_relu_conv Conv2D() end\n",
            "first _bn_relu_conv Conv2D() start\n",
            "first _bn_relu_conv Conv2D() end\n",
            "first _bn_relu_conv Conv2D() start\n",
            "first _bn_relu_conv Conv2D() end\n",
            "_shortcut start\n",
            "_shortcut  stride_width:  1 stride_height:  1 equal_channels:  False\n",
            "Conv2D start\n",
            "Conv2D end\n",
            "doing -> shortcut+residual\n",
            "_residual_block end  i: 0  repetitions: 1\n",
            "*** inside for loop!!! end\n",
            "*** inside for loop!!! start  i: 1  r: 1  filters: 64  repetitions: [1, 1, 1, 1]\n",
            "_residual_block start  i: 0  repetitions: 1\n",
            "bottleneck-def f(input)\n",
            "bottleneck-else block-vkt\n",
            "first _bn_relu_conv Conv2D() start\n",
            "first _bn_relu_conv Conv2D() end\n",
            "bottleneck-after condition before start of conv_3_3 -> residual-._shortcut\n",
            "first _bn_relu_conv Conv2D() start\n",
            "first _bn_relu_conv Conv2D() end\n",
            "first _bn_relu_conv Conv2D() start\n",
            "first _bn_relu_conv Conv2D() end\n",
            "first _bn_relu_conv Conv2D() start\n",
            "first _bn_relu_conv Conv2D() end\n",
            "bottleneck-after condition  end of conv_3_3 -> residual-._shortcut\n",
            "_shortcut start\n",
            "_shortcut  stride_width:  2 stride_height:  2 equal_channels:  False\n",
            "Conv2D start\n",
            "Conv2D end\n",
            "doing -> shortcut+residual\n",
            "_residual_block end  i: 0  repetitions: 1\n",
            "*** inside for loop!!! end\n",
            "*** inside for loop!!! start  i: 2  r: 1  filters: 128  repetitions: [1, 1, 1, 1]\n",
            "_residual_block start  i: 0  repetitions: 1\n",
            "bottleneck-def f(input)\n",
            "bottleneck-else block-vkt\n",
            "first _bn_relu_conv Conv2D() start\n",
            "first _bn_relu_conv Conv2D() end\n",
            "bottleneck-after condition before start of conv_3_3 -> residual-._shortcut\n",
            "first _bn_relu_conv Conv2D() start\n",
            "first _bn_relu_conv Conv2D() end\n",
            "first _bn_relu_conv Conv2D() start\n",
            "first _bn_relu_conv Conv2D() end\n",
            "first _bn_relu_conv Conv2D() start\n",
            "first _bn_relu_conv Conv2D() end\n",
            "bottleneck-after condition  end of conv_3_3 -> residual-._shortcut\n",
            "_shortcut start\n",
            "_shortcut  stride_width:  2 stride_height:  2 equal_channels:  False\n",
            "Conv2D start\n",
            "Conv2D end\n",
            "doing -> shortcut+residual\n",
            "_residual_block end  i: 0  repetitions: 1\n",
            "*** inside for loop!!! end\n",
            "*** inside for loop!!! start  i: 3  r: 1  filters: 256  repetitions: [1, 1, 1, 1]\n",
            "_residual_block start  i: 0  repetitions: 1\n",
            "bottleneck-def f(input)\n",
            "bottleneck-else block-vkt\n",
            "first _bn_relu_conv Conv2D() start\n",
            "first _bn_relu_conv Conv2D() end\n",
            "bottleneck-after condition before start of conv_3_3 -> residual-._shortcut\n",
            "first _bn_relu_conv Conv2D() start\n",
            "first _bn_relu_conv Conv2D() end\n",
            "first _bn_relu_conv Conv2D() start\n",
            "first _bn_relu_conv Conv2D() end\n",
            "first _bn_relu_conv Conv2D() start\n",
            "first _bn_relu_conv Conv2D() end\n",
            "bottleneck-after condition  end of conv_3_3 -> residual-._shortcut\n",
            "_shortcut start\n",
            "_shortcut  stride_width:  2 stride_height:  2 equal_channels:  False\n",
            "Conv2D start\n",
            "Conv2D end\n",
            "doing -> shortcut+residual\n",
            "_residual_block end  i: 0  repetitions: 1\n",
            "*** inside for loop!!! end\n"
          ],
          "name": "stdout"
        }
      ]
    },
    {
      "metadata": {
        "id": "JmByD_YOZDss",
        "colab_type": "code",
        "outputId": "0e31c4e1-80ef-4474-dd01-7404231a1797",
        "colab": {
          "base_uri": "https://localhost:8080/",
          "height": 368
        }
      },
      "cell_type": "code",
      "source": [
        "plot_model(model, to_file='./tiny-imagenet-200/model_plot.png', show_shapes=True, show_layer_names=True)\n",
        "items = os.listdir('./tiny-imagenet-200')\n",
        "print (items)    \n",
        "image = cv2.imread('./tiny-imagenet-200/model_plot.png')\n",
        "image = cv2.cvtColor(image,cv2.COLOR_BGR2RGB)\n",
        "plt.figure()\n",
        "plt.imshow(image)\n",
        "plt.colorbar()\n",
        "plt.grid(False)\n"
      ],
      "execution_count": 14,
      "outputs": [
        {
          "output_type": "stream",
          "text": [
            "['test', 'words.txt', 'wnids.txt', 'model_plot.png', 'val', 'train']\n"
          ],
          "name": "stdout"
        },
        {
          "output_type": "display_data",
          "data": {
            "image/png": "[encoded data removed]",
            "text/plain": [
              "<Figure size 576x396 with 2 Axes>"
            ]
          },
          "metadata": {
            "tags": []
          }
        }
      ]
    },
    {
      "metadata": {
        "id": "BU6od1EVDtpS",
        "colab_type": "code",
        "colab": {}
      },
      "cell_type": "code",
      "source": [
        "from google.colab import files\n",
        "\n",
        "files.download('./tiny-imagenet-200/model_plot.png')"
      ],
      "execution_count": 0,
      "outputs": []
    },
    {
      "metadata": {
        "id": "on2zXDUMyC8Z",
        "colab_type": "code",
        "outputId": "f844739d-319c-4917-a2af-1e336bf75d43",
        "colab": {
          "base_uri": "https://localhost:8080/",
          "height": 2822
        }
      },
      "cell_type": "code",
      "source": [
        "model.summary()\n"
      ],
      "execution_count": 16,
      "outputs": [
        {
          "output_type": "stream",
          "text": [
            "__________________________________________________________________________________________________\n",
            "Layer (type)                    Output Shape         Param #     Connected to                     \n",
            "==================================================================================================\n",
            "input_1 (InputLayer)            (None, 32, 32, 3)    0                                            \n",
            "__________________________________________________________________________________________________\n",
            "separable_conv2d_1 (SeparableCo (None, 32, 32, 32)   131         input_1[0][0]                    \n",
            "__________________________________________________________________________________________________\n",
            "batch_normalization_2 (BatchNor (None, 32, 32, 32)   128         separable_conv2d_1[0][0]         \n",
            "__________________________________________________________________________________________________\n",
            "activation_2 (Activation)       (None, 32, 32, 32)   0           batch_normalization_2[0][0]      \n",
            "__________________________________________________________________________________________________\n",
            "separable_conv2d_2 (SeparableCo (None, 32, 32, 64)   2400        activation_2[0][0]               \n",
            "__________________________________________________________________________________________________\n",
            "batch_normalization_3 (BatchNor (None, 32, 32, 64)   256         separable_conv2d_2[0][0]         \n",
            "__________________________________________________________________________________________________\n",
            "activation_3 (Activation)       (None, 32, 32, 64)   0           batch_normalization_3[0][0]      \n",
            "__________________________________________________________________________________________________\n",
            "separable_conv2d_3 (SeparableCo (None, 32, 32, 128)  8896        activation_3[0][0]               \n",
            "__________________________________________________________________________________________________\n",
            "batch_normalization_4 (BatchNor (None, 32, 32, 128)  512         separable_conv2d_3[0][0]         \n",
            "__________________________________________________________________________________________________\n",
            "activation_4 (Activation)       (None, 32, 32, 128)  0           batch_normalization_4[0][0]      \n",
            "__________________________________________________________________________________________________\n",
            "separable_conv2d_5 (SeparableCo (None, 32, 32, 256)  1027        input_1[0][0]                    \n",
            "__________________________________________________________________________________________________\n",
            "separable_conv2d_4 (SeparableCo (None, 32, 32, 256)  34176       activation_4[0][0]               \n",
            "__________________________________________________________________________________________________\n",
            "add_1 (Add)                     (None, 32, 32, 256)  0           separable_conv2d_5[0][0]         \n",
            "                                                                 separable_conv2d_4[0][0]         \n",
            "__________________________________________________________________________________________________\n",
            "batch_normalization_5 (BatchNor (None, 32, 32, 256)  1024        add_1[0][0]                      \n",
            "__________________________________________________________________________________________________\n",
            "activation_5 (Activation)       (None, 32, 32, 256)  0           batch_normalization_5[0][0]      \n",
            "__________________________________________________________________________________________________\n",
            "separable_conv2d_6 (SeparableCo (None, 32, 32, 64)   16704       activation_5[0][0]               \n",
            "__________________________________________________________________________________________________\n",
            "batch_normalization_6 (BatchNor (None, 32, 32, 64)   256         separable_conv2d_6[0][0]         \n",
            "__________________________________________________________________________________________________\n",
            "activation_6 (Activation)       (None, 32, 32, 64)   0           batch_normalization_6[0][0]      \n",
            "__________________________________________________________________________________________________\n",
            "separable_conv2d_7 (SeparableCo (None, 32, 32, 128)  8896        activation_6[0][0]               \n",
            "__________________________________________________________________________________________________\n",
            "batch_normalization_7 (BatchNor (None, 32, 32, 128)  512         separable_conv2d_7[0][0]         \n",
            "__________________________________________________________________________________________________\n",
            "activation_7 (Activation)       (None, 32, 32, 128)  0           batch_normalization_7[0][0]      \n",
            "__________________________________________________________________________________________________\n",
            "separable_conv2d_8 (SeparableCo (None, 32, 32, 256)  34176       activation_7[0][0]               \n",
            "__________________________________________________________________________________________________\n",
            "batch_normalization_8 (BatchNor (None, 32, 32, 256)  1024        separable_conv2d_8[0][0]         \n",
            "__________________________________________________________________________________________________\n",
            "activation_8 (Activation)       (None, 32, 32, 256)  0           batch_normalization_8[0][0]      \n",
            "__________________________________________________________________________________________________\n",
            "separable_conv2d_9 (SeparableCo (None, 32, 32, 512)  133888      activation_8[0][0]               \n",
            "__________________________________________________________________________________________________\n",
            "batch_normalization_9 (BatchNor (None, 32, 32, 512)  2048        separable_conv2d_9[0][0]         \n",
            "__________________________________________________________________________________________________\n",
            "activation_9 (Activation)       (None, 32, 32, 512)  0           batch_normalization_9[0][0]      \n",
            "__________________________________________________________________________________________________\n",
            "max_pooling2d_1 (MaxPooling2D)  (None, 16, 16, 512)  0           activation_9[0][0]               \n",
            "__________________________________________________________________________________________________\n",
            "batch_normalization_10 (BatchNo (None, 16, 16, 512)  2048        max_pooling2d_1[0][0]            \n",
            "__________________________________________________________________________________________________\n",
            "separable_conv2d_10 (SeparableC (None, 16, 16, 512)  131840      add_1[0][0]                      \n",
            "__________________________________________________________________________________________________\n",
            "activation_10 (Activation)      (None, 16, 16, 512)  0           batch_normalization_10[0][0]     \n",
            "__________________________________________________________________________________________________\n",
            "add_2 (Add)                     (None, 16, 16, 512)  0           separable_conv2d_10[0][0]        \n",
            "                                                                 activation_10[0][0]              \n",
            "__________________________________________________________________________________________________\n",
            "batch_normalization_11 (BatchNo (None, 16, 16, 512)  2048        add_2[0][0]                      \n",
            "__________________________________________________________________________________________________\n",
            "activation_11 (Activation)      (None, 16, 16, 512)  0           batch_normalization_11[0][0]     \n",
            "__________________________________________________________________________________________________\n",
            "separable_conv2d_11 (SeparableC (None, 16, 16, 128)  66176       activation_11[0][0]              \n",
            "__________________________________________________________________________________________________\n",
            "batch_normalization_12 (BatchNo (None, 16, 16, 128)  512         separable_conv2d_11[0][0]        \n",
            "__________________________________________________________________________________________________\n",
            "activation_12 (Activation)      (None, 16, 16, 128)  0           batch_normalization_12[0][0]     \n",
            "__________________________________________________________________________________________________\n",
            "separable_conv2d_12 (SeparableC (None, 16, 16, 256)  34176       activation_12[0][0]              \n",
            "__________________________________________________________________________________________________\n",
            "batch_normalization_13 (BatchNo (None, 16, 16, 256)  1024        separable_conv2d_12[0][0]        \n",
            "__________________________________________________________________________________________________\n",
            "activation_13 (Activation)      (None, 16, 16, 256)  0           batch_normalization_13[0][0]     \n",
            "__________________________________________________________________________________________________\n",
            "separable_conv2d_13 (SeparableC (None, 16, 16, 512)  133888      activation_13[0][0]              \n",
            "__________________________________________________________________________________________________\n",
            "batch_normalization_14 (BatchNo (None, 16, 16, 512)  2048        separable_conv2d_13[0][0]        \n",
            "__________________________________________________________________________________________________\n",
            "activation_14 (Activation)      (None, 16, 16, 512)  0           batch_normalization_14[0][0]     \n",
            "__________________________________________________________________________________________________\n",
            "separable_conv2d_14 (SeparableC (None, 16, 16, 1024) 529920      activation_14[0][0]              \n",
            "__________________________________________________________________________________________________\n",
            "batch_normalization_15 (BatchNo (None, 16, 16, 1024) 4096        separable_conv2d_14[0][0]        \n",
            "__________________________________________________________________________________________________\n",
            "activation_15 (Activation)      (None, 16, 16, 1024) 0           batch_normalization_15[0][0]     \n",
            "__________________________________________________________________________________________________\n",
            "max_pooling2d_2 (MaxPooling2D)  (None, 8, 8, 1024)   0           activation_15[0][0]              \n",
            "__________________________________________________________________________________________________\n",
            "batch_normalization_16 (BatchNo (None, 8, 8, 1024)   4096        max_pooling2d_2[0][0]            \n",
            "__________________________________________________________________________________________________\n",
            "separable_conv2d_15 (SeparableC (None, 8, 8, 1024)   525824      add_2[0][0]                      \n",
            "__________________________________________________________________________________________________\n",
            "activation_16 (Activation)      (None, 8, 8, 1024)   0           batch_normalization_16[0][0]     \n",
            "__________________________________________________________________________________________________\n",
            "add_3 (Add)                     (None, 8, 8, 1024)   0           separable_conv2d_15[0][0]        \n",
            "                                                                 activation_16[0][0]              \n",
            "__________________________________________________________________________________________________\n",
            "batch_normalization_17 (BatchNo (None, 8, 8, 1024)   4096        add_3[0][0]                      \n",
            "__________________________________________________________________________________________________\n",
            "activation_17 (Activation)      (None, 8, 8, 1024)   0           batch_normalization_17[0][0]     \n",
            "__________________________________________________________________________________________________\n",
            "separable_conv2d_16 (SeparableC (None, 8, 8, 256)    263424      activation_17[0][0]              \n",
            "__________________________________________________________________________________________________\n",
            "batch_normalization_18 (BatchNo (None, 8, 8, 256)    1024        separable_conv2d_16[0][0]        \n",
            "__________________________________________________________________________________________________\n",
            "activation_18 (Activation)      (None, 8, 8, 256)    0           batch_normalization_18[0][0]     \n",
            "__________________________________________________________________________________________________\n",
            "separable_conv2d_17 (SeparableC (None, 8, 8, 512)    133888      activation_18[0][0]              \n",
            "__________________________________________________________________________________________________\n",
            "batch_normalization_19 (BatchNo (None, 8, 8, 512)    2048        separable_conv2d_17[0][0]        \n",
            "__________________________________________________________________________________________________\n",
            "activation_19 (Activation)      (None, 8, 8, 512)    0           batch_normalization_19[0][0]     \n",
            "__________________________________________________________________________________________________\n",
            "separable_conv2d_18 (SeparableC (None, 8, 8, 1024)   529920      activation_19[0][0]              \n",
            "__________________________________________________________________________________________________\n",
            "batch_normalization_20 (BatchNo (None, 8, 8, 1024)   4096        separable_conv2d_18[0][0]        \n",
            "__________________________________________________________________________________________________\n",
            "activation_20 (Activation)      (None, 8, 8, 1024)   0           batch_normalization_20[0][0]     \n",
            "__________________________________________________________________________________________________\n",
            "separable_conv2d_19 (SeparableC (None, 8, 8, 2048)   2108416     activation_20[0][0]              \n",
            "__________________________________________________________________________________________________\n",
            "batch_normalization_21 (BatchNo (None, 8, 8, 2048)   8192        separable_conv2d_19[0][0]        \n",
            "__________________________________________________________________________________________________\n",
            "activation_21 (Activation)      (None, 8, 8, 2048)   0           batch_normalization_21[0][0]     \n",
            "__________________________________________________________________________________________________\n",
            "max_pooling2d_3 (MaxPooling2D)  (None, 4, 4, 2048)   0           activation_21[0][0]              \n",
            "__________________________________________________________________________________________________\n",
            "batch_normalization_22 (BatchNo (None, 4, 4, 2048)   8192        max_pooling2d_3[0][0]            \n",
            "__________________________________________________________________________________________________\n",
            "separable_conv2d_20 (SeparableC (None, 4, 4, 2048)   2100224     add_3[0][0]                      \n",
            "__________________________________________________________________________________________________\n",
            "activation_22 (Activation)      (None, 4, 4, 2048)   0           batch_normalization_22[0][0]     \n",
            "__________________________________________________________________________________________________\n",
            "add_4 (Add)                     (None, 4, 4, 2048)   0           separable_conv2d_20[0][0]        \n",
            "                                                                 activation_22[0][0]              \n",
            "__________________________________________________________________________________________________\n",
            "batch_normalization_23 (BatchNo (None, 4, 4, 2048)   8192        add_4[0][0]                      \n",
            "__________________________________________________________________________________________________\n",
            "activation_23 (Activation)      (None, 4, 4, 2048)   0           batch_normalization_23[0][0]     \n",
            "__________________________________________________________________________________________________\n",
            "final2d (Conv2D)                (None, 4, 4, 200)    409600      activation_23[0][0]              \n",
            "__________________________________________________________________________________________________\n",
            "batch_normalization_24 (BatchNo (None, 4, 4, 200)    800         final2d[0][0]                    \n",
            "__________________________________________________________________________________________________\n",
            "activation_24 (Activation)      (None, 4, 4, 200)    0           batch_normalization_24[0][0]     \n",
            "__________________________________________________________________________________________________\n",
            "global_average_pooling2d_1 (Glo (None, 200)          0           activation_24[0][0]              \n",
            "__________________________________________________________________________________________________\n",
            "activation_25 (Activation)      (None, 200)          0           global_average_pooling2d_1[0][0] \n",
            "==================================================================================================\n",
            "Total params: 7,265,862\n",
            "Trainable params: 7,236,726\n",
            "Non-trainable params: 29,136\n",
            "__________________________________________________________________________________________________\n"
          ],
          "name": "stdout"
        }
      ]
    },
    {
      "metadata": {
        "id": "8V-LArlmyFyX",
        "colab_type": "code",
        "outputId": "1e24b658-6cb6-4150-b32a-27778765e98b",
        "colab": {
          "base_uri": "https://localhost:8080/",
          "height": 1482
        }
      },
      "cell_type": "code",
      "source": [
        "#model.fit_generator(train_generator, epochs=nb_epoch, steps_per_epoch=200, validation_steps=200, validation_data=validation_generator\n",
        "##steps_per_epoch=Integer. Total number of steps (batches of samples) to yield from generator before declaring one epoch finished and starting the next epoch. \n",
        "#It should typically be equal to ceil(num_samples / batch_size) Optional for Sequence: if unspecified, will use the len(generator) as a number of steps.\n",
        "##validation_steps=Only relevant if validation_data is a generator. Total number of steps (batches of samples) to yield from validation_data generator before stopping at the end of every epoch. \n",
        "#It should typically be equal to the number of samples of your validation dataset divided by the batch size. Optional for Sequence: if unspecified, will use the len(validation_data) as a number of steps.\n",
        "##epochs: Integer. Number of epochs to train the model. An epoch is an iteration over the entire data provided, as defined by steps_per_epoch. \n",
        "#Note that in conjunction with initial_epoch, epochs is to be understood as \"final epoch\". The model is not trained for a number of iterations given by epochs,\n",
        "#but merely until the epoch of index epochs is reached.\n",
        "#steps_per_epoch=100000/200=500\n",
        "#validation_steps=10000/200=50\n",
        "#nb_epoch = 100\n",
        "nb_epoch = 50\n",
        "model.fit_generator(train_generator, epochs=nb_epoch, steps_per_epoch=500, validation_steps=50, validation_data=validation_generator)"
      ],
      "execution_count": 0,
      "outputs": [
        {
          "output_type": "stream",
          "text": [
            "WARNING:tensorflow:From /usr/local/lib/python3.6/dist-packages/tensorflow/python/ops/math_ops.py:3066: to_int32 (from tensorflow.python.ops.math_ops) is deprecated and will be removed in a future version.\n",
            "Instructions for updating:\n",
            "Use tf.cast instead.\n",
            "Epoch 1/50\n",
            "500/500 [==============================] - 639s 1s/step - loss: 4.6978 - acc: 0.0718 - val_loss: 7.0237 - val_acc: 0.0519\n",
            "Epoch 2/50\n",
            "500/500 [==============================] - 624s 1s/step - loss: 4.1198 - acc: 0.1481 - val_loss: 4.8604 - val_acc: 0.0795\n",
            "Epoch 3/50\n",
            "500/500 [==============================] - 625s 1s/step - loss: 3.7517 - acc: 0.2029 - val_loss: 4.0882 - val_acc: 0.1566\n",
            "Epoch 4/50\n",
            "500/500 [==============================] - 624s 1s/step - loss: 3.4600 - acc: 0.2503 - val_loss: 4.0318 - val_acc: 0.1660\n",
            "Epoch 5/50\n",
            "500/500 [==============================] - 625s 1s/step - loss: 3.2455 - acc: 0.2847 - val_loss: 3.8608 - val_acc: 0.2036\n",
            "Epoch 6/50\n",
            "500/500 [==============================] - 625s 1s/step - loss: 3.0818 - acc: 0.3130 - val_loss: 3.2839 - val_acc: 0.2802\n",
            "Epoch 7/50\n",
            "500/500 [==============================] - 625s 1s/step - loss: 2.9299 - acc: 0.3387 - val_loss: 3.3194 - val_acc: 0.2771\n",
            "Epoch 8/50\n",
            "500/500 [==============================] - 625s 1s/step - loss: 2.8019 - acc: 0.3637 - val_loss: 3.2016 - val_acc: 0.2984\n",
            "Epoch 9/50\n",
            "500/500 [==============================] - 625s 1s/step - loss: 2.6853 - acc: 0.3825 - val_loss: 3.6716 - val_acc: 0.2418\n",
            "Epoch 10/50\n",
            "500/500 [==============================] - 625s 1s/step - loss: 2.5745 - acc: 0.4032 - val_loss: 3.3751 - val_acc: 0.2848\n",
            "Epoch 11/50\n",
            "500/500 [==============================] - 625s 1s/step - loss: 2.4790 - acc: 0.4210 - val_loss: 3.2570 - val_acc: 0.3138\n",
            "Epoch 12/50\n",
            "500/500 [==============================] - 624s 1s/step - loss: 2.3884 - acc: 0.4380 - val_loss: 3.1370 - val_acc: 0.3203\n",
            "Epoch 13/50\n",
            "500/500 [==============================] - 624s 1s/step - loss: 2.2921 - acc: 0.4579 - val_loss: 3.3045 - val_acc: 0.3094\n",
            "Epoch 14/50\n",
            "500/500 [==============================] - 624s 1s/step - loss: 2.2074 - acc: 0.4737 - val_loss: 3.1172 - val_acc: 0.3280\n",
            "Epoch 15/50\n",
            "500/500 [==============================] - 624s 1s/step - loss: 2.1228 - acc: 0.4933 - val_loss: 2.8715 - val_acc: 0.3780\n",
            "Epoch 16/50\n",
            "500/500 [==============================] - 624s 1s/step - loss: 2.0439 - acc: 0.5081 - val_loss: 3.4537 - val_acc: 0.3001\n",
            "Epoch 17/50\n",
            "500/500 [==============================] - 625s 1s/step - loss: 1.9638 - acc: 0.5238 - val_loss: 3.1613 - val_acc: 0.3384\n",
            "Epoch 18/50\n",
            "500/500 [==============================] - 624s 1s/step - loss: 1.8840 - acc: 0.5414 - val_loss: 3.0978 - val_acc: 0.3588\n",
            "Epoch 19/50\n",
            "500/500 [==============================] - 625s 1s/step - loss: 1.8082 - acc: 0.5566 - val_loss: 2.9434 - val_acc: 0.3777\n",
            "Epoch 20/50\n",
            "500/500 [==============================] - 624s 1s/step - loss: 1.7347 - acc: 0.5718 - val_loss: 3.1741 - val_acc: 0.3647\n",
            "Epoch 21/50\n",
            "500/500 [==============================] - 624s 1s/step - loss: 1.6626 - acc: 0.5878 - val_loss: 3.1368 - val_acc: 0.3612\n",
            "Epoch 22/50\n",
            "500/500 [==============================] - 625s 1s/step - loss: 1.5938 - acc: 0.6025 - val_loss: 3.5516 - val_acc: 0.3216\n",
            "Epoch 23/50\n",
            "500/500 [==============================] - 623s 1s/step - loss: 1.5266 - acc: 0.6167 - val_loss: 3.2231 - val_acc: 0.3603\n",
            "Epoch 24/50\n",
            "500/500 [==============================] - 624s 1s/step - loss: 1.4497 - acc: 0.6345 - val_loss: 3.0827 - val_acc: 0.3731\n",
            "Epoch 25/50\n",
            "500/500 [==============================] - 624s 1s/step - loss: 1.3859 - acc: 0.6497 - val_loss: 3.5343 - val_acc: 0.3294\n",
            "Epoch 26/50\n",
            "500/500 [==============================] - 624s 1s/step - loss: 1.3189 - acc: 0.6664 - val_loss: 3.1220 - val_acc: 0.3861\n",
            "Epoch 27/50\n",
            "500/500 [==============================] - 624s 1s/step - loss: 1.2530 - acc: 0.6815 - val_loss: 3.4465 - val_acc: 0.3516\n",
            "Epoch 28/50\n",
            "500/500 [==============================] - 624s 1s/step - loss: 1.1968 - acc: 0.6955 - val_loss: 3.1729 - val_acc: 0.3872\n",
            "Epoch 29/50\n",
            "500/500 [==============================] - 624s 1s/step - loss: 1.1399 - acc: 0.7082 - val_loss: 3.3002 - val_acc: 0.3722\n",
            "Epoch 30/50\n",
            "500/500 [==============================] - 624s 1s/step - loss: 1.0808 - acc: 0.7244 - val_loss: 3.6021 - val_acc: 0.3447\n",
            "Epoch 31/50\n",
            "500/500 [==============================] - 624s 1s/step - loss: 1.0371 - acc: 0.7328 - val_loss: 3.3261 - val_acc: 0.3681\n",
            "Epoch 32/50\n",
            "500/500 [==============================] - 624s 1s/step - loss: 0.9779 - acc: 0.7494 - val_loss: 3.5246 - val_acc: 0.3720\n",
            "Epoch 33/50\n",
            "500/500 [==============================] - 622s 1s/step - loss: 0.9275 - acc: 0.7604 - val_loss: 3.6969 - val_acc: 0.3419\n",
            "Epoch 34/50\n",
            "500/500 [==============================] - 623s 1s/step - loss: 0.8976 - acc: 0.7673 - val_loss: 3.7627 - val_acc: 0.3437\n",
            "Epoch 35/50\n",
            "500/500 [==============================] - 625s 1s/step - loss: 0.8480 - acc: 0.7804 - val_loss: 3.6223 - val_acc: 0.3593\n",
            "Epoch 36/50\n",
            "500/500 [==============================] - 625s 1s/step - loss: 0.8006 - acc: 0.7923 - val_loss: 4.0343 - val_acc: 0.3256\n",
            "Epoch 37/50\n",
            "500/500 [==============================] - 624s 1s/step - loss: 0.7675 - acc: 0.8010 - val_loss: 3.8108 - val_acc: 0.3409\n",
            "Epoch 38/50\n",
            "500/500 [==============================] - 624s 1s/step - loss: 0.7340 - acc: 0.8098 - val_loss: 3.6099 - val_acc: 0.3688\n",
            "Epoch 39/50\n",
            "500/500 [==============================] - 625s 1s/step - loss: 0.7050 - acc: 0.8166 - val_loss: 4.4161 - val_acc: 0.2928\n",
            "Epoch 40/50\n",
            "500/500 [==============================] - 626s 1s/step - loss: 0.6780 - acc: 0.8261 - val_loss: 4.1306 - val_acc: 0.3239\n",
            "Epoch 41/50\n",
            "114/500 [=====>........................] - ETA: 7:46 - loss: 0.5873 - acc: 0.8522"
          ],
          "name": "stdout"
        }
      ]
    },
    {
      "metadata": {
        "id": "MJ8bXsbg1eao",
        "colab_type": "code",
        "colab": {}
      },
      "cell_type": "code",
      "source": [
        "# Test the model\n",
        "#score = model.evaluate(x_test, y_test, verbose=1)\n",
        "#print('Test loss:', score[0])\n",
        "model_yaml = model.to_yaml()\n",
        "with open(\"session4_vkt_model240319.yaml\", \"w\") as yaml_file:\n",
        "    yaml_file.write(model_yaml)\n",
        "#print('Test accuracy:', score[1])\n",
        "# Save the trained weights in to .h5 format\n",
        "model.save_weights(\"session4_vkt_model240319.h5\")\n",
        "print(\"Saved the model to disk\")\n",
        "!ls\n"
      ],
      "execution_count": 0,
      "outputs": []
    },
    {
      "metadata": {
        "id": "V6Ol6jdO-Dha",
        "colab_type": "code",
        "colab": {}
      },
      "cell_type": "code",
      "source": [
        "# load YAML and create model\n",
        "!ls\n",
        "yaml_file = open('session4_vkt_model240319.yaml', 'r')\n",
        "loaded_model_yaml = yaml_file.read()\n",
        "yaml_file.close()\n",
        "##load from file\n",
        "newmodel = model_from_yaml(loaded_model_yaml)\n",
        "# load weights into new model\n",
        "newmodel.load_weights(\"session4_vkt_model240319.h5\")\n",
        "print(\"Loaded model from disk\")\n",
        "\n",
        "# evaluate loaded model on test data\n",
        "newmodel.compile(loss='categorical_crossentropy',\n",
        "              optimizer='adam',\n",
        "              metrics=['accuracy'])\n",
        "\n",
        "newmodel.summary()\n"
      ],
      "execution_count": 0,
      "outputs": []
    },
    {
      "metadata": {
        "id": "Fa9P-nar5gD6",
        "colab_type": "code",
        "colab": {}
      },
      "cell_type": "code",
      "source": [
        "nb_epoch = 10\n",
        "newmodel.fit_generator(train_generator, epochs=nb_epoch, steps_per_epoch=500, validation_steps=50, validation_data=validation_generator)"
      ],
      "execution_count": 0,
      "outputs": []
    },
    {
      "metadata": {
        "id": "ORAhb_-AizTg",
        "colab_type": "text"
      },
      "cell_type": "markdown",
      "source": [
        ""
      ]
    }
  ]
}