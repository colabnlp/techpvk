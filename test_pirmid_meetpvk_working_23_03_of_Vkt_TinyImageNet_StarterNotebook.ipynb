{
  "nbformat": 4,
  "nbformat_minor": 0,
  "metadata": {
    "colab": {
      "name": "test_pirmid_meetpvk_working_23_03_of Vkt_TinyImageNet_StarterNotebook.ipynb",
      "version": "0.3.2",
      "provenance": [],
      "collapsed_sections": [],
      "include_colab_link": true
    },
    "kernelspec": {
      "name": "python3",
      "display_name": "Python 3"
    },
    "accelerator": "GPU"
  },
  "cells": [
    {
      "cell_type": "markdown",
      "metadata": {
        "id": "view-in-github",
        "colab_type": "text"
      },
      "source": [
        "<a href=\"https://colab.research.google.com/github/techpvk/techpvk/blob/master/test_pirmid_meetpvk_working_23_03_of_Vkt_TinyImageNet_StarterNotebook.ipynb\" target=\"_parent\"><img src=\"https://colab.research.google.com/assets/colab-badge.svg\" alt=\"Open In Colab\"/></a>"
      ]
    },
    {
      "metadata": {
        "id": "I4th9KTGttp2",
        "colab_type": "code",
        "outputId": "772592e8-187a-49e3-faeb-b8a936590871",
        "colab": {
          "base_uri": "https://localhost:8080/",
          "height": 34
        }
      },
      "cell_type": "code",
      "source": [
        "# List and Clear the Data first\n",
        "!ls\n",
        "!rm -rf sample_data tiny-imagenet-200\ttiny-imagenet-200.zip"
      ],
      "execution_count": 17,
      "outputs": [
        {
          "output_type": "stream",
          "text": [
            "tiny-imagenet-200  tiny-imagenet-200.zip\n"
          ],
          "name": "stdout"
        }
      ]
    },
    {
      "metadata": {
        "id": "Atw96-N2TqIJ",
        "colab_type": "code",
        "colab": {}
      },
      "cell_type": "code",
      "source": [
        "# list content after the clearing data\n",
        "!ls"
      ],
      "execution_count": 0,
      "outputs": []
    },
    {
      "metadata": {
        "id": "2-uxInsGaQTb",
        "colab_type": "code",
        "outputId": "fd3c24b3-e4c9-472c-b0f0-91fa1628ad42",
        "colab": {
          "base_uri": "https://localhost:8080/",
          "height": 204
        }
      },
      "cell_type": "code",
      "source": [
        "# Download the file\n",
        "!wget http://cs231n.stanford.edu/tiny-imagenet-200.zip"
      ],
      "execution_count": 19,
      "outputs": [
        {
          "output_type": "stream",
          "text": [
            "--2019-03-27 09:33:23--  http://cs231n.stanford.edu/tiny-imagenet-200.zip\n",
            "Resolving cs231n.stanford.edu (cs231n.stanford.edu)... 171.64.68.10\n",
            "Connecting to cs231n.stanford.edu (cs231n.stanford.edu)|171.64.68.10|:80... connected.\n",
            "HTTP request sent, awaiting response... 200 OK\n",
            "Length: 248100043 (237M) [application/zip]\n",
            "Saving to: ‘tiny-imagenet-200.zip’\n",
            "\n",
            "tiny-imagenet-200.z 100%[===================>] 236.61M  20.2MB/s    in 14s     \n",
            "\n",
            "2019-03-27 09:33:38 (16.6 MB/s) - ‘tiny-imagenet-200.zip’ saved [248100043/248100043]\n",
            "\n"
          ],
          "name": "stdout"
        }
      ]
    },
    {
      "metadata": {
        "id": "phm86ZULdPa1",
        "colab_type": "code",
        "outputId": "5c7aeb40-3d13-4aac-c29e-de7321f31548",
        "colab": {
          "base_uri": "https://localhost:8080/",
          "height": 34
        }
      },
      "cell_type": "code",
      "source": [
        "#unzip and list\n",
        "!unzip -qq 'tiny-imagenet-200.zip'\n",
        "!ls"
      ],
      "execution_count": 20,
      "outputs": [
        {
          "output_type": "stream",
          "text": [
            "tiny-imagenet-200  tiny-imagenet-200.zip\n"
          ],
          "name": "stdout"
        }
      ]
    },
    {
      "metadata": {
        "id": "7l_PCFURg9x_",
        "colab_type": "code",
        "colab": {}
      },
      "cell_type": "code",
      "source": [
        "# import the required packages\n",
        "import pandas as pd\n",
        "import numpy as np\n",
        "import six\n",
        "from keras.preprocessing.image import ImageDataGenerator\n",
        "from __future__ import division\n",
        "from keras.models import Model\n",
        "from keras.layers import (\n",
        "    Input,\n",
        "    Activation,\n",
        "    Dense,\n",
        "    Flatten,\n",
        "    Dropout\n",
        ")\n",
        "from keras.layers.convolutional import (\n",
        "    Conv2D,\n",
        "    MaxPooling2D,\n",
        "    AveragePooling2D\n",
        ")\n",
        "from keras.layers.merge import add\n",
        "from keras.layers.normalization import BatchNormalization\n",
        "from keras.regularizers import l2\n",
        "from keras import backend as K\n",
        "from __future__ import print_function\n",
        "from keras.preprocessing.image import ImageDataGenerator\n",
        "from keras.utils import np_utils\n",
        "from keras.callbacks import ReduceLROnPlateau, CSVLogger, EarlyStopping\n",
        "import matplotlib.pyplot as plt\n",
        "from keras.models import Sequential\n",
        "from keras.utils.vis_utils import plot_model\n",
        "import matplotlib.pyplot as plt\n",
        "import os\n",
        "import cv2\n",
        "from keras.layers import GlobalAveragePooling2D\n",
        "from keras.models import Model, load_model, model_from_yaml\n",
        "from keras.utils.vis_utils import plot_model\n",
        "from datetime import datetime\n",
        "from google.colab import files\n",
        "from keras.layers.advanced_activations import LeakyReLU"
      ],
      "execution_count": 0,
      "outputs": []
    },
    {
      "metadata": {
        "id": "r7SjAhI2Jskn",
        "colab_type": "code",
        "outputId": "59f80bb2-a20e-48c0-a2a8-cf59d39493fc",
        "colab": {
          "base_uri": "https://localhost:8080/",
          "height": 359
        }
      },
      "cell_type": "code",
      "source": [
        "# load data\n",
        "val_data = pd.read_csv('./tiny-imagenet-200/val/val_annotations.txt', sep='\\t', header=None, names=['File', 'Class', 'X', 'Y', 'H', 'W'])\n",
        "val_data.drop(['X', 'Y', 'H', 'W'], axis=1, inplace=True)\n",
        "val_data.head(10)"
      ],
      "execution_count": 22,
      "outputs": [
        {
          "output_type": "execute_result",
          "data": {
            "text/html": [
              "<div>\n",
              "<style scoped>\n",
              "    .dataframe tbody tr th:only-of-type {\n",
              "        vertical-align: middle;\n",
              "    }\n",
              "\n",
              "    .dataframe tbody tr th {\n",
              "        vertical-align: top;\n",
              "    }\n",
              "\n",
              "    .dataframe thead th {\n",
              "        text-align: right;\n",
              "    }\n",
              "</style>\n",
              "<table border=\"1\" class=\"dataframe\">\n",
              "  <thead>\n",
              "    <tr style=\"text-align: right;\">\n",
              "      <th></th>\n",
              "      <th>File</th>\n",
              "      <th>Class</th>\n",
              "    </tr>\n",
              "  </thead>\n",
              "  <tbody>\n",
              "    <tr>\n",
              "      <th>0</th>\n",
              "      <td>val_0.JPEG</td>\n",
              "      <td>n03444034</td>\n",
              "    </tr>\n",
              "    <tr>\n",
              "      <th>1</th>\n",
              "      <td>val_1.JPEG</td>\n",
              "      <td>n04067472</td>\n",
              "    </tr>\n",
              "    <tr>\n",
              "      <th>2</th>\n",
              "      <td>val_2.JPEG</td>\n",
              "      <td>n04070727</td>\n",
              "    </tr>\n",
              "    <tr>\n",
              "      <th>3</th>\n",
              "      <td>val_3.JPEG</td>\n",
              "      <td>n02808440</td>\n",
              "    </tr>\n",
              "    <tr>\n",
              "      <th>4</th>\n",
              "      <td>val_4.JPEG</td>\n",
              "      <td>n02808440</td>\n",
              "    </tr>\n",
              "    <tr>\n",
              "      <th>5</th>\n",
              "      <td>val_5.JPEG</td>\n",
              "      <td>n04399382</td>\n",
              "    </tr>\n",
              "    <tr>\n",
              "      <th>6</th>\n",
              "      <td>val_6.JPEG</td>\n",
              "      <td>n04179913</td>\n",
              "    </tr>\n",
              "    <tr>\n",
              "      <th>7</th>\n",
              "      <td>val_7.JPEG</td>\n",
              "      <td>n02823428</td>\n",
              "    </tr>\n",
              "    <tr>\n",
              "      <th>8</th>\n",
              "      <td>val_8.JPEG</td>\n",
              "      <td>n04146614</td>\n",
              "    </tr>\n",
              "    <tr>\n",
              "      <th>9</th>\n",
              "      <td>val_9.JPEG</td>\n",
              "      <td>n02226429</td>\n",
              "    </tr>\n",
              "  </tbody>\n",
              "</table>\n",
              "</div>"
            ],
            "text/plain": [
              "         File      Class\n",
              "0  val_0.JPEG  n03444034\n",
              "1  val_1.JPEG  n04067472\n",
              "2  val_2.JPEG  n04070727\n",
              "3  val_3.JPEG  n02808440\n",
              "4  val_4.JPEG  n02808440\n",
              "5  val_5.JPEG  n04399382\n",
              "6  val_6.JPEG  n04179913\n",
              "7  val_7.JPEG  n02823428\n",
              "8  val_8.JPEG  n04146614\n",
              "9  val_9.JPEG  n02226429"
            ]
          },
          "metadata": {
            "tags": []
          },
          "execution_count": 22
        }
      ]
    },
    {
      "metadata": {
        "id": "wRYLyZtwKKDp",
        "colab_type": "code",
        "colab": {}
      },
      "cell_type": "code",
      "source": [
        "# Use Augmentaion parameters as required.\n",
        "train_datagen = ImageDataGenerator(\n",
        "    rescale= 1./255,\n",
        "    zoom_range = 0.3,\n",
        "    width_shift_range=0.3,\n",
        "    height_shift_range=0.3,\n",
        "    rotation_range=20,\n",
        "    horizontal_flip=True\n",
        "    )\n",
        "\n",
        "valid_datagen = ImageDataGenerator(rescale=1./255)"
      ],
      "execution_count": 0,
      "outputs": []
    },
    {
      "metadata": {
        "id": "igYtU_VSKXto",
        "colab_type": "code",
        "outputId": "dcc5010a-e717-4bf3-e362-f1b96e844998",
        "colab": {
          "base_uri": "https://localhost:8080/",
          "height": 34
        }
      },
      "cell_type": "code",
      "source": [
        "train_generator = train_datagen.flow_from_directory( r'./tiny-imagenet-200/train/', target_size=(32, 32), color_mode='rgb', \n",
        "                                                    batch_size=50, class_mode='categorical', shuffle=True, seed=42)"
      ],
      "execution_count": 24,
      "outputs": [
        {
          "output_type": "stream",
          "text": [
            "Found 100000 images belonging to 200 classes.\n"
          ],
          "name": "stdout"
        }
      ]
    },
    {
      "metadata": {
        "id": "UBRfC4SdKbca",
        "colab_type": "code",
        "outputId": "21a505cf-b082-4c5f-aba2-a6ee8f85993e",
        "colab": {
          "base_uri": "https://localhost:8080/",
          "height": 34
        }
      },
      "cell_type": "code",
      "source": [
        "validation_generator = valid_datagen.flow_from_dataframe(val_data, directory='./tiny-imagenet-200/val/images/', x_col='File', y_col='Class', target_size=(32, 32),\n",
        "                                                    color_mode='rgb', class_mode='categorical', batch_size=50, shuffle=True, seed=42)\n"
      ],
      "execution_count": 25,
      "outputs": [
        {
          "output_type": "stream",
          "text": [
            "Found 10000 images belonging to 200 classes.\n"
          ],
          "name": "stdout"
        }
      ]
    },
    {
      "metadata": {
        "id": "4AfmUc4gxPg6",
        "colab_type": "code",
        "outputId": "c93dd8f6-2d79-4c99-f718-c37b330a4ba4",
        "colab": {
          "base_uri": "https://localhost:8080/",
          "height": 34
        }
      },
      "cell_type": "code",
      "source": [
        "x_batch, y_batch = next(train_generator)\n",
        "x_batch.shape"
      ],
      "execution_count": 26,
      "outputs": [
        {
          "output_type": "execute_result",
          "data": {
            "text/plain": [
              "(20, 32, 32, 3)"
            ]
          },
          "metadata": {
            "tags": []
          },
          "execution_count": 26
        }
      ]
    },
    {
      "metadata": {
        "id": "qHB30vDApk0D",
        "colab_type": "code",
        "outputId": "2571a0cf-77bf-4e41-ab31-4ff3fac30e65",
        "colab": {
          "base_uri": "https://localhost:8080/",
          "height": 2414
        }
      },
      "cell_type": "code",
      "source": [
        "input = Input(shape=(32, 32, 3,))\n",
        "\n",
        "# Layer 1\n",
        "layer1 = Conv2D(32, (3,1), strides=(1,1), padding='same', use_bias=False)(input)\n",
        "layer1 = BatchNormalization()(layer1)\n",
        "layer1 = Conv2D(32, (1,3), strides=(1,1), padding='same', use_bias=False)(layer1)\n",
        "layer1 = BatchNormalization()(layer1)\n",
        "\n",
        "layer1 = Conv2D(64, (3,1), strides=(1,1), padding='same', use_bias=False)(layer1)\n",
        "layer1 = BatchNormalization()(layer1)\n",
        "layer1 = Conv2D(64, (1,3), strides=(1,1), padding='same', use_bias=False)(layer1)\n",
        "layer1 = LeakyReLU(alpha=0.1)(layer1)\n",
        "\n",
        "layer1 = Conv2D(128, (3,1), strides=(1,1), padding='same', use_bias=False)(layer1)\n",
        "layer1 = BatchNormalization()(layer1)\n",
        "layer1 = Conv2D(128, (1,3), strides=(1,1), padding='same', use_bias=False)(layer1)\n",
        "layer1 = BatchNormalization()(layer1)\n",
        "\n",
        "layer1 = Conv2D(256, (3,1), strides=(1,1), padding='same', use_bias=False)(layer1)\n",
        "layer1 = BatchNormalization()(layer1)\n",
        "layer1 = Conv2D(256, (1,3), strides=(1,1), padding='same', use_bias=False)(layer1)\n",
        "layer1 = BatchNormalization()(layer1)\n",
        "\n",
        "\n",
        "layer1 = Conv2D(512, (3,1), strides=(1,1), padding='same', use_bias=False)(layer1)\n",
        "layer1 = BatchNormalization()(layer1)\n",
        "layer1 = Conv2D(512, (1,3), strides=(1,1), padding='same', use_bias=False)(layer1)\n",
        "layer1 = BatchNormalization()(layer1)\n",
        "\n",
        "\n",
        "# Layer 2\n",
        "layer2 = Conv2D(64, (3,1), strides=(1,1), padding='same', use_bias=False)(layer1)\n",
        "layer2 = BatchNormalization()(layer2)\n",
        "layer2 = Conv2D(64, (1,3), strides=(1,1), padding='same', use_bias=False)(layer2)\n",
        "layer2 = BatchNormalization()(layer2)\n",
        "\n",
        "layer2 = Conv2D(128, (3,1), strides=(1,1), padding='same', use_bias=False)(layer2)\n",
        "layer2 = BatchNormalization()(layer2)\n",
        "layer2 = Conv2D(128, (1,3), strides=(1,1), padding='same', use_bias=False)(layer2)\n",
        "layer2 = BatchNormalization()(layer2)\n",
        "\n",
        "\n",
        "layer2 = Conv2D(256, (3,1), strides=(1,1), padding='same', use_bias=False)(layer2)\n",
        "layer2 = BatchNormalization()(layer2)\n",
        "layer2 = Conv2D(256, (1,3), strides=(1,1), padding='same', use_bias=False)(layer2)\n",
        "layer2 = BatchNormalization()(layer2)\n",
        "\n",
        "\n",
        "layer2 = Conv2D(512, (3,1), strides=(1,1), padding='same', use_bias=False)(layer2)\n",
        "layer2 = BatchNormalization()(layer2)\n",
        "layer2 = Conv2D(512, (1,3), strides=(1,1), padding='same', use_bias=False)(layer2)\n",
        "layer2 = BatchNormalization()(layer2)\n",
        "\n",
        "\n",
        "layer2 = Conv2D(1024, (3,3), strides=(1,1), padding='same', use_bias=False)(layer2)\n",
        "layer2 = BatchNormalization()(layer2)\n",
        "layer2 = Conv2D(1024, (1,3), strides=(1,1), padding='same', use_bias=False)(layer2)\n",
        "layer2 = BatchNormalization()(layer2)\n",
        "\n",
        "layer2 = MaxPooling2D(pool_size=(2, 2))(layer2)\n",
        "\n",
        "# Layer 3\n",
        "layer3 = Conv2D(128, (3,1), strides=(1,1), padding='same', use_bias=False)(layer2)\n",
        "layer3 = BatchNormalization()(layer3)\n",
        "layer3 = Conv2D(128, (1,3), strides=(1,1), padding='same', use_bias=False)(layer3)\n",
        "layer3 = BatchNormalization()(layer3)\n",
        "\n",
        "layer3 = Conv2D(256, (3,1), strides=(1,1), padding='same', use_bias=False)(layer3)\n",
        "layer3 = BatchNormalization()(layer3)\n",
        "layer3 = Conv2D(256, (1,3), strides=(1,1), padding='same', use_bias=False)(layer3)\n",
        "layer3 = BatchNormalization()(layer3)\n",
        "\n",
        "\n",
        "layer3 = Conv2D(512, (3,1), strides=(1,1), padding='same', use_bias=False)(layer3)\n",
        "layer3 = BatchNormalization()(layer3)\n",
        "layer3 = Conv2D(512, (1,3), strides=(1,1), padding='same', use_bias=False)(layer3)\n",
        "layer3 = BatchNormalization()(layer3)\n",
        "\n",
        "\n",
        "layer3 = Conv2D(1024, (3,1), strides=(1,1), padding='same', use_bias=False)(layer3)\n",
        "layer3 = BatchNormalization()(layer3)\n",
        "layer3 = Conv2D(1024, (1,3), strides=(1,1), padding='same', use_bias=False)(layer3)\n",
        "layer3 = BatchNormalization()(layer3)\n",
        "\n",
        "\n",
        "layer3 = Conv2D(2048, (3,3), strides=(1,1), padding='same', use_bias=False)(layer3)\n",
        "layer3 = BatchNormalization()(layer3)\n",
        "layer3 = Conv2D(2048, (1,3), strides=(1,1), padding='same', use_bias=False)(layer3)\n",
        "layer3 = BatchNormalization()(layer3)\n",
        "\n",
        "layer3 = MaxPooling2D(pool_size=(2, 2))(layer3)\n",
        "\n",
        "# Layer 4\n",
        "layer4 = Conv2D(128, (3,1), strides=(1,1), padding='same', use_bias=False)(layer3)\n",
        "layer4 = BatchNormalization()(layer4)\n",
        "layer4 = Conv2D(128, (1,3), strides=(1,1), padding='same', use_bias=False)(layer4)\n",
        "layer4 = BatchNormalization()(layer4)\n",
        "\n",
        "layer4 = Conv2D(256, (3,1), strides=(1,1), padding='same', use_bias=False)(layer4)\n",
        "layer4 = BatchNormalization()(layer4)\n",
        "layer4 = Conv2D(256, (1,3), strides=(1,1), padding='same', use_bias=False)(layer4)\n",
        "layer4 = BatchNormalization()(layer4)\n",
        "\n",
        "\n",
        "layer4 = Conv2D(512, (3,1), strides=(1,1), padding='same', use_bias=False)(layer4)\n",
        "layer4 = BatchNormalization()(layer4)\n",
        "layer4 = Conv2D(512, (1,3), strides=(1,1), padding='same', use_bias=False)(layer4)\n",
        "layer4 = BatchNormalization()(layer4)\n",
        "\n",
        "\n",
        "layer4 = Conv2D(1024, (3,1), strides=(1,1), padding='same', use_bias=False)(layer4)\n",
        "layer4 = BatchNormalization()(layer4)\n",
        "layer4 = Conv2D(1024, (1,3), strides=(1,1), padding='same', use_bias=False)(layer4)\n",
        "layer4 = BatchNormalization()(layer4)\n",
        "\n",
        "\n",
        "layer4 = Conv2D(2048, (3,3), strides=(1,1), padding='same', use_bias=False)(layer4)\n",
        "layer4 = BatchNormalization()(layer4)\n",
        "layer4 = Conv2D(2048, (1,3), strides=(1,1), padding='same', use_bias=False)(layer4)\n",
        "layer4 = BatchNormalization()(layer4)\n",
        "\n",
        "layer4 = MaxPooling2D(pool_size=(2, 2))(layer4)\n",
        "#final layer (block8)\n",
        "out = Conv2D(200, (1,1), strides=(1,1), padding='same', use_bias=False)(layer4)\n",
        "out = GlobalAveragePooling2D(data_format='channels_last')(out)\n",
        "out = BatchNormalization()(out)\n",
        "out = Activation('softmax') (out)\n",
        "model = Model(inputs=input, outputs=out)\n",
        "model.summary()"
      ],
      "execution_count": 27,
      "outputs": [
        {
          "output_type": "stream",
          "text": [
            "_________________________________________________________________\n",
            "Layer (type)                 Output Shape              Param #   \n",
            "=================================================================\n",
            "input_2 (InputLayer)         (None, 32, 32, 3)         0         \n",
            "_________________________________________________________________\n",
            "conv2d_22 (Conv2D)           (None, 32, 32, 32)        288       \n",
            "_________________________________________________________________\n",
            "batch_normalization_21 (Batc (None, 32, 32, 32)        128       \n",
            "_________________________________________________________________\n",
            "conv2d_23 (Conv2D)           (None, 32, 32, 32)        3072      \n",
            "_________________________________________________________________\n",
            "batch_normalization_22 (Batc (None, 32, 32, 32)        128       \n",
            "_________________________________________________________________\n",
            "conv2d_24 (Conv2D)           (None, 32, 32, 64)        6144      \n",
            "_________________________________________________________________\n",
            "batch_normalization_23 (Batc (None, 32, 32, 64)        256       \n",
            "_________________________________________________________________\n",
            "conv2d_25 (Conv2D)           (None, 32, 32, 64)        12288     \n",
            "_________________________________________________________________\n",
            "leaky_re_lu_2 (LeakyReLU)    (None, 32, 32, 64)        0         \n",
            "_________________________________________________________________\n",
            "conv2d_26 (Conv2D)           (None, 32, 32, 128)       24576     \n",
            "_________________________________________________________________\n",
            "batch_normalization_24 (Batc (None, 32, 32, 128)       512       \n",
            "_________________________________________________________________\n",
            "conv2d_27 (Conv2D)           (None, 32, 32, 128)       49152     \n",
            "_________________________________________________________________\n",
            "batch_normalization_25 (Batc (None, 32, 32, 128)       512       \n",
            "_________________________________________________________________\n",
            "conv2d_28 (Conv2D)           (None, 32, 32, 256)       98304     \n",
            "_________________________________________________________________\n",
            "batch_normalization_26 (Batc (None, 32, 32, 256)       1024      \n",
            "_________________________________________________________________\n",
            "conv2d_29 (Conv2D)           (None, 32, 32, 256)       196608    \n",
            "_________________________________________________________________\n",
            "batch_normalization_27 (Batc (None, 32, 32, 256)       1024      \n",
            "_________________________________________________________________\n",
            "conv2d_30 (Conv2D)           (None, 32, 32, 512)       393216    \n",
            "_________________________________________________________________\n",
            "batch_normalization_28 (Batc (None, 32, 32, 512)       2048      \n",
            "_________________________________________________________________\n",
            "conv2d_31 (Conv2D)           (None, 32, 32, 512)       786432    \n",
            "_________________________________________________________________\n",
            "batch_normalization_29 (Batc (None, 32, 32, 512)       2048      \n",
            "_________________________________________________________________\n",
            "conv2d_32 (Conv2D)           (None, 32, 32, 64)        98304     \n",
            "_________________________________________________________________\n",
            "batch_normalization_30 (Batc (None, 32, 32, 64)        256       \n",
            "_________________________________________________________________\n",
            "conv2d_33 (Conv2D)           (None, 32, 32, 64)        12288     \n",
            "_________________________________________________________________\n",
            "batch_normalization_31 (Batc (None, 32, 32, 64)        256       \n",
            "_________________________________________________________________\n",
            "conv2d_34 (Conv2D)           (None, 32, 32, 128)       24576     \n",
            "_________________________________________________________________\n",
            "batch_normalization_32 (Batc (None, 32, 32, 128)       512       \n",
            "_________________________________________________________________\n",
            "conv2d_35 (Conv2D)           (None, 32, 32, 128)       49152     \n",
            "_________________________________________________________________\n",
            "batch_normalization_33 (Batc (None, 32, 32, 128)       512       \n",
            "_________________________________________________________________\n",
            "conv2d_36 (Conv2D)           (None, 32, 32, 256)       98304     \n",
            "_________________________________________________________________\n",
            "batch_normalization_34 (Batc (None, 32, 32, 256)       1024      \n",
            "_________________________________________________________________\n",
            "conv2d_37 (Conv2D)           (None, 32, 32, 256)       196608    \n",
            "_________________________________________________________________\n",
            "batch_normalization_35 (Batc (None, 32, 32, 256)       1024      \n",
            "_________________________________________________________________\n",
            "conv2d_38 (Conv2D)           (None, 32, 32, 512)       393216    \n",
            "_________________________________________________________________\n",
            "batch_normalization_36 (Batc (None, 32, 32, 512)       2048      \n",
            "_________________________________________________________________\n",
            "conv2d_39 (Conv2D)           (None, 32, 32, 512)       786432    \n",
            "_________________________________________________________________\n",
            "batch_normalization_37 (Batc (None, 32, 32, 512)       2048      \n",
            "_________________________________________________________________\n",
            "conv2d_40 (Conv2D)           (None, 32, 32, 1024)      4718592   \n",
            "_________________________________________________________________\n",
            "batch_normalization_38 (Batc (None, 32, 32, 1024)      4096      \n",
            "_________________________________________________________________\n",
            "conv2d_41 (Conv2D)           (None, 32, 32, 1024)      3145728   \n",
            "_________________________________________________________________\n",
            "batch_normalization_39 (Batc (None, 32, 32, 1024)      4096      \n",
            "_________________________________________________________________\n",
            "max_pooling2d_2 (MaxPooling2 (None, 16, 16, 1024)      0         \n",
            "_________________________________________________________________\n",
            "conv2d_42 (Conv2D)           (None, 16, 16, 128)       393216    \n",
            "_________________________________________________________________\n",
            "batch_normalization_40 (Batc (None, 16, 16, 128)       512       \n",
            "_________________________________________________________________\n",
            "conv2d_43 (Conv2D)           (None, 16, 16, 128)       49152     \n",
            "_________________________________________________________________\n",
            "batch_normalization_41 (Batc (None, 16, 16, 128)       512       \n",
            "_________________________________________________________________\n",
            "conv2d_44 (Conv2D)           (None, 16, 16, 256)       98304     \n",
            "_________________________________________________________________\n",
            "batch_normalization_42 (Batc (None, 16, 16, 256)       1024      \n",
            "_________________________________________________________________\n",
            "conv2d_45 (Conv2D)           (None, 16, 16, 256)       196608    \n",
            "_________________________________________________________________\n",
            "batch_normalization_43 (Batc (None, 16, 16, 256)       1024      \n",
            "_________________________________________________________________\n",
            "conv2d_46 (Conv2D)           (None, 16, 16, 512)       393216    \n",
            "_________________________________________________________________\n",
            "batch_normalization_44 (Batc (None, 16, 16, 512)       2048      \n",
            "_________________________________________________________________\n",
            "conv2d_47 (Conv2D)           (None, 16, 16, 512)       786432    \n",
            "_________________________________________________________________\n",
            "batch_normalization_45 (Batc (None, 16, 16, 512)       2048      \n",
            "_________________________________________________________________\n",
            "conv2d_48 (Conv2D)           (None, 16, 16, 1024)      1572864   \n",
            "_________________________________________________________________\n",
            "batch_normalization_46 (Batc (None, 16, 16, 1024)      4096      \n",
            "_________________________________________________________________\n",
            "conv2d_49 (Conv2D)           (None, 16, 16, 1024)      3145728   \n",
            "_________________________________________________________________\n",
            "batch_normalization_47 (Batc (None, 16, 16, 1024)      4096      \n",
            "_________________________________________________________________\n",
            "conv2d_50 (Conv2D)           (None, 16, 16, 2048)      18874368  \n",
            "_________________________________________________________________\n",
            "batch_normalization_48 (Batc (None, 16, 16, 2048)      8192      \n",
            "_________________________________________________________________\n",
            "conv2d_51 (Conv2D)           (None, 16, 16, 2048)      12582912  \n",
            "_________________________________________________________________\n",
            "batch_normalization_49 (Batc (None, 16, 16, 2048)      8192      \n",
            "_________________________________________________________________\n",
            "max_pooling2d_3 (MaxPooling2 (None, 8, 8, 2048)        0         \n",
            "_________________________________________________________________\n",
            "conv2d_52 (Conv2D)           (None, 8, 8, 200)         409600    \n",
            "_________________________________________________________________\n",
            "global_average_pooling2d_2 ( (None, 200)               0         \n",
            "_________________________________________________________________\n",
            "batch_normalization_50 (Batc (None, 200)               800       \n",
            "_________________________________________________________________\n",
            "activation_2 (Activation)    (None, 200)               0         \n",
            "=================================================================\n",
            "Total params: 49,651,776\n",
            "Trainable params: 49,623,728\n",
            "Non-trainable params: 28,048\n",
            "_________________________________________________________________\n"
          ],
          "name": "stdout"
        }
      ]
    },
    {
      "metadata": {
        "id": "dvY3Q7mQiPTF",
        "colab_type": "text"
      },
      "cell_type": "markdown",
      "source": [
        ""
      ]
    },
    {
      "metadata": {
        "id": "CsK7MXV_wZS8",
        "colab_type": "code",
        "outputId": "dde9ba71-dc67-4b9b-b910-a68e19eecda7",
        "colab": {
          "base_uri": "https://localhost:8080/",
          "height": 322
        }
      },
      "cell_type": "code",
      "source": [
        "# Plot Generator images.  ** Re-run the cell to view different set of images.\n",
        "\n",
        "fig = plt.figure(figsize=(14, 5))\n",
        "\n",
        "for i in range(8):\n",
        "    sub = fig.add_subplot(2, 4, i + 1)\n",
        "    sub.imshow(x_batch[i,:,:], interpolation='nearest')"
      ],
      "execution_count": 28,
      "outputs": [
        {
          "output_type": "display_data",
          "data": {
            "image/png": "[encoded data removed]",
            "text/plain": [
              "<Figure size 1008x360 with 8 Axes>"
            ]
          },
          "metadata": {
            "tags": []
          }
        }
      ]
    },
    {
      "metadata": {
        "id": "Wnzu2sLmx7Az",
        "colab_type": "code",
        "colab": {}
      },
      "cell_type": "code",
      "source": [
        "nb_classes = 200\n",
        "#nb_epoch = 100\n",
        "# input image dimensions\n",
        "img_rows, img_cols = 32, 32\n",
        "img_channels = 3\n",
        "model.compile(loss='categorical_crossentropy',\n",
        "              optimizer='adam',\n",
        "              metrics=['accuracy'])\n"
      ],
      "execution_count": 0,
      "outputs": []
    },
    {
      "metadata": {
        "id": "JmByD_YOZDss",
        "colab_type": "code",
        "outputId": "4139ab69-0755-4dc9-f403-41e4f4116cb2",
        "colab": {
          "base_uri": "https://localhost:8080/",
          "height": 368
        }
      },
      "cell_type": "code",
      "source": [
        "plot_model(model, to_file='./tiny-imagenet-200/model_plot.png', show_shapes=True, show_layer_names=True)\n",
        "items = os.listdir('./tiny-imagenet-200')\n",
        "print (items)    \n",
        "image = cv2.imread('./tiny-imagenet-200/model_plot.png')\n",
        "image = cv2.cvtColor(image,cv2.COLOR_BGR2RGB)\n",
        "plt.figure()\n",
        "plt.imshow(image)\n",
        "plt.colorbar()\n",
        "plt.grid(False)"
      ],
      "execution_count": 30,
      "outputs": [
        {
          "output_type": "stream",
          "text": [
            "['model_plot.png', 'test', 'train', 'val', 'wnids.txt', 'words.txt']\n"
          ],
          "name": "stdout"
        },
        {
          "output_type": "display_data",
          "data": {
            "image/png": "[encoded data removed]",
            "text/plain": [
              "<Figure size 576x396 with 2 Axes>"
            ]
          },
          "metadata": {
            "tags": []
          }
        }
      ]
    },
    {
      "metadata": {
        "id": "BU6od1EVDtpS",
        "colab_type": "code",
        "colab": {}
      },
      "cell_type": "code",
      "source": [
        "\n",
        "\n",
        "files.download('./tiny-imagenet-200/model_plot.png')"
      ],
      "execution_count": 0,
      "outputs": []
    },
    {
      "metadata": {
        "id": "8V-LArlmyFyX",
        "colab_type": "code",
        "outputId": "655fab25-2d10-4666-8b54-17df04fc5cca",
        "colab": {
          "base_uri": "https://localhost:8080/",
          "height": 68
        }
      },
      "cell_type": "code",
      "source": [
        "#model.fit_generator(train_generator, epochs=nb_epoch, steps_per_epoch=200, validation_steps=200, validation_data=validation_generator\n",
        "##steps_per_epoch=Integer. Total number of steps (batches of samples) to yield from generator before declaring one epoch finished and starting the next epoch. \n",
        "#It should typically be equal to ceil(num_samples / batch_size) Optional for Sequence: if unspecified, will use the len(generator) as a number of steps.\n",
        "##validation_steps=Only relevant if validation_data is a generator. Total number of steps (batches of samples) to yield from validation_data generator before stopping at the end of every epoch. \n",
        "#It should typically be equal to the number of samples of your validation dataset divided by the batch size. Optional for Sequence: if unspecified, will use the len(validation_data) as a number of steps.\n",
        "##epochs: Integer. Number of epochs to train the model. An epoch is an iteration over the entire data provided, as defined by steps_per_epoch. \n",
        "#Note that in conjunction with initial_epoch, epochs is to be understood as \"final epoch\". The model is not trained for a number of iterations given by epochs,\n",
        "#but merely until the epoch of index epochs is reached.\n",
        "#steps_per_epoch=100000/200=500\n",
        "#validation_steps=10000/200=50\n",
        "#nb_epoch = 100\n",
        "nb_epoch = 50\n",
        "model.fit_generator(train_generator, epochs=nb_epoch, steps_per_epoch=500, validation_steps=50, validation_data=validation_generator)"
      ],
      "execution_count": 32,
      "outputs": [
        {
          "output_type": "stream",
          "text": [
            "Epoch 1/1\n",
            "500/500 [==============================] - 641s 1s/step - loss: 5.4591 - acc: 0.0077 - val_loss: 7.1368 - val_acc: 0.0070\n"
          ],
          "name": "stdout"
        },
        {
          "output_type": "execute_result",
          "data": {
            "text/plain": [
              "<keras.callbacks.History at 0x7fb31e211898>"
            ]
          },
          "metadata": {
            "tags": []
          },
          "execution_count": 32
        }
      ]
    }
  ]
}