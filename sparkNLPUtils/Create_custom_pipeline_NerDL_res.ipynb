{
  "nbformat": 4,
  "nbformat_minor": 0,
  "metadata": {
    "kernelspec": {
      "name": "python3",
      "display_name": "Python 3"
    },
    "language_info": {
      "codemirror_mode": {
        "name": "ipython",
        "version": 3
      },
      "file_extension": ".py",
      "mimetype": "text/x-python",
      "name": "python",
      "nbconvert_exporter": "python",
      "pygments_lexer": "ipython3",
      "version": "3.6.9"
    },
    "colab": {
      "name": "Create_custom_pipeline_NerDL.ipynb",
      "provenance": [],
      "collapsed_sections": []
    },
    "accelerator": "TPU"
  },
  "cells": [
    {
      "cell_type": "markdown",
      "metadata": {
        "id": "DY5KZWu8sYEV",
        "colab_type": "text"
      },
      "source": [
        "Show how to use pretrained assertion status"
      ]
    },
    {
      "cell_type": "code",
      "metadata": {
        "id": "RpzZuBNnKXwv",
        "colab_type": "code",
        "outputId": "c107d4ee-f7e9-4b0a-dfb7-727c9fc28200",
        "colab": {
          "base_uri": "https://localhost:8080/",
          "height": 139
        }
      },
      "source": [
        "from google.colab import drive\n",
        "drive.mount(\"/content/gdrive/\")\n",
        "import sys\n",
        "sys.path.append('/content/gdrive/My Drive/Colab Notebooks/SparkNLP/utils')\n",
        "!ls"
      ],
      "execution_count": 1,
      "outputs": [
        {
          "output_type": "stream",
          "text": [
            "Go to this URL in a browser: https://accounts.google.com/o/oauth2/auth?client_id=947318989803-6bn6qk8qdgf4n4g3pfee6491hc0brc4i.apps.googleusercontent.com&redirect_uri=urn%3aietf%3awg%3aoauth%3a2.0%3aoob&response_type=code&scope=email%20https%3a%2f%2fwww.googleapis.com%2fauth%2fdocs.test%20https%3a%2f%2fwww.googleapis.com%2fauth%2fdrive%20https%3a%2f%2fwww.googleapis.com%2fauth%2fdrive.photos.readonly%20https%3a%2f%2fwww.googleapis.com%2fauth%2fpeopleapi.readonly\n",
            "\n",
            "Enter your authorization code:\n",
            "··········\n",
            "Mounted at /content/gdrive/\n",
            "gdrive\tsample_data\n"
          ],
          "name": "stdout"
        }
      ]
    },
    {
      "cell_type": "code",
      "metadata": {
        "id": "YR2LZ_LQRqed",
        "colab_type": "code",
        "outputId": "1dabc7e3-09b0-40f4-eb72-8174e85f7d4b",
        "colab": {
          "base_uri": "https://localhost:8080/",
          "height": 85
        }
      },
      "source": [
        "drivepath = \"gdrive/My Drive/Colab Notebooks/SparkNLP/utils\"\n",
        "biotrainset = \"con_rest_train.bio\"\n",
        "gloveemb = \"glove.6B.300d.txt\"\n",
        "modelsavefilename=\"ner_dl_model_aug\"\n",
        "print(\"Driver path file name :\"+drivepath)\n",
        "print(\"BIO file name :\"+biotrainset)\n",
        "print(\"Glovec file name :\"+gloveemb)\n",
        "print(\"modelsavefilename file name :\"+modelsavefilename)\n",
        "!cp \"gdrive/My Drive/Colab Notebooks/SparkNLP/utils/con_rest_train.bio\" \"con_rest_train.bio\"\n",
        "!cp \"gdrive/My Drive/Colab Notebooks/SparkNLP/utils/glove.6B.300d.txt\" \"glove.6B.300d.txt\"\n",
        "#!cp \"gdrive/My Drive/Colab Notebooks/SparkNLP/utils/blstm_17_300_128_37.pb\" \"blstm_17_300_128_37.pb\"\n",
        "!cp \"gdrive/My Drive/Colab Notebooks/SparkNLP/utils/blstm-noncontrib_17_300_128_75.pb\" \"blstm-noncontrib_17_300_128_75.pb\"\n"
      ],
      "execution_count": 2,
      "outputs": [
        {
          "output_type": "stream",
          "text": [
            "Driver path file name :gdrive/My Drive/Colab Notebooks/SparkNLP/utils\n",
            "BIO file name :con_rest_train.bio\n",
            "Glovec file name :glove.6B.300d.txt\n",
            "modelsavefilename file name :ner_dl_model_aug\n"
          ],
          "name": "stdout"
        }
      ]
    },
    {
      "cell_type": "code",
      "metadata": {
        "id": "hg_kFAOISDwZ",
        "colab_type": "code",
        "outputId": "2c9642cf-c0d4-4854-cf6b-01edd2016006",
        "colab": {
          "base_uri": "https://localhost:8080/",
          "height": 51
        }
      },
      "source": [
        "!ls"
      ],
      "execution_count": 4,
      "outputs": [
        {
          "output_type": "stream",
          "text": [
            "blstm_29_300_128_81.pb\t\t   con_rest_train.bio  glove.6B.300d.txt  tf\n",
            "blstm-noncontrib_17_300_128_75.pb  gdrive\t       sample_data\n"
          ],
          "name": "stdout"
        }
      ]
    },
    {
      "cell_type": "code",
      "metadata": {
        "id": "gIPCfwoX_9Bo",
        "colab_type": "code",
        "outputId": "bec1c444-1cb5-49cc-a60c-8deff6ecbe02",
        "colab": {
          "base_uri": "https://localhost:8080/",
          "height": 377
        }
      },
      "source": [
        "import os\n",
        "\n",
        "# Install java\n",
        "! apt-get install -y openjdk-8-jdk-headless -qq > /dev/null\n",
        "os.environ[\"JAVA_HOME\"] = \"/usr/lib/jvm/java-8-openjdk-amd64\"\n",
        "os.environ[\"PATH\"] = os.environ[\"JAVA_HOME\"] + \"/bin:\" + os.environ[\"PATH\"]\n",
        "! java -version\n",
        "\n",
        "# Install pyspark\n",
        "! pip install --ignore-installed pyspark==2.4.3\n",
        "\n",
        "# Install Spark NLP\n",
        "! pip install --ignore-installed spark-nlp==2.2.2"
      ],
      "execution_count": 5,
      "outputs": [
        {
          "output_type": "stream",
          "text": [
            "openjdk version \"1.8.0_222\"\n",
            "OpenJDK Runtime Environment (build 1.8.0_222-8u222-b10-1ubuntu1~18.04.1-b10)\n",
            "OpenJDK 64-Bit Server VM (build 25.222-b10, mixed mode)\n",
            "Collecting pyspark==2.4.3\n",
            "\u001b[?25l  Downloading https://files.pythonhosted.org/packages/37/98/244399c0daa7894cdf387e7007d5e8b3710a79b67f3fd991c0b0b644822d/pyspark-2.4.3.tar.gz (215.6MB)\n",
            "\u001b[K     |████████████████████████████████| 215.6MB 52kB/s \n",
            "\u001b[?25hCollecting py4j==0.10.7\n",
            "\u001b[?25l  Downloading https://files.pythonhosted.org/packages/e3/53/c737818eb9a7dc32a7cd4f1396e787bd94200c3997c72c1dbe028587bd76/py4j-0.10.7-py2.py3-none-any.whl (197kB)\n",
            "\u001b[K     |████████████████████████████████| 204kB 50.9MB/s \n",
            "\u001b[?25hBuilding wheels for collected packages: pyspark\n",
            "  Building wheel for pyspark (setup.py) ... \u001b[?25l\u001b[?25hdone\n",
            "  Created wheel for pyspark: filename=pyspark-2.4.3-py2.py3-none-any.whl size=215964963 sha256=00c115c5504615819a9b2d06ec65961fbd9b47969e77e07aabf36c0fd28cc0ad\n",
            "  Stored in directory: /root/.cache/pip/wheels/8d/20/f0/b30e2024226dc112e256930dd2cd4f06d00ab053c86278dcf3\n",
            "Successfully built pyspark\n",
            "Installing collected packages: py4j, pyspark\n",
            "Successfully installed py4j-0.10.7 pyspark-2.4.3\n",
            "Collecting spark-nlp==2.2.2\n",
            "  Downloading https://files.pythonhosted.org/packages/f9/1a/711bde42e9cd17b5166a2c282ba9824103c416091c9ad95ca7dcece7170e/spark_nlp-2.2.2-py2.py3-none-any.whl\n",
            "Installing collected packages: spark-nlp\n",
            "Successfully installed spark-nlp-2.2.2\n"
          ],
          "name": "stdout"
        }
      ]
    },
    {
      "cell_type": "code",
      "metadata": {
        "id": "xco3RwJYsYEX",
        "colab_type": "code",
        "colab": {}
      },
      "source": [
        "import sys\n",
        "\n",
        "from pyspark.sql import SparkSession\n",
        "from pyspark.ml import PipelineModel\n",
        "\n",
        "import sparknlp\n",
        "from sparknlp.annotator import *\n",
        "from sparknlp.common import *\n",
        "from sparknlp.base import *\n",
        "from sparknlp.pretrained import ResourceDownloader\n",
        "\n",
        "from pathlib import Path\n",
        "\n",
        "if sys.version_info[0] < 3:\n",
        "    from urllib import urlretrieve\n",
        "else:\n",
        "    from urllib.request import urlretrieve    "
      ],
      "execution_count": 0,
      "outputs": []
    },
    {
      "cell_type": "code",
      "metadata": {
        "id": "HIS_nmYYsYEa",
        "colab_type": "code",
        "outputId": "154dca23-61b9-475d-a636-5afff607bdd3",
        "colab": {
          "base_uri": "https://localhost:8080/",
          "height": 68
        }
      },
      "source": [
        "from pyspark.sql import SparkSession\n",
        "\n",
        "spark = SparkSession.builder \\\n",
        "    .appName(\"Global DEMO - Spark NLP Enterprise 2.3.4\") \\\n",
        "    .master(\"local[*]\") \\\n",
        "    .config(\"spark.rdd.compress\",\"true\") \\\n",
        "    .config(\"spark.driver.memory\",\"15G\") \\\n",
        "    .config(\"spark.driver.maxResultSize\", \"2G\") \\\n",
        "    .config(\"spark.serializer\", \"org.apache.spark.serializer.KryoSerializer\") \\\n",
        "    .config(\"spark.kryoserializer.buffer.max\", \"600M\") \\\n",
        "    .config(\"spark.jars.packages\", \"JohnSnowLabs:spark-nlp:2.3.4\") \\\n",
        "    .getOrCreate()\n",
        "#spark = sparknlp.start()\n",
        "\n",
        "print(\"Spark NLP version: \", sparknlp.version())\n",
        "print(\"Apache Spark version: \", spark.version)\n"
      ],
      "execution_count": 9,
      "outputs": [
        {
          "output_type": "stream",
          "text": [
            "2.2.2\n",
            "Spark NLP version:  None\n",
            "Apache Spark version:  2.4.3\n"
          ],
          "name": "stdout"
        }
      ]
    },
    {
      "cell_type": "code",
      "metadata": {
        "id": "OyzLAY_RDPc7",
        "colab_type": "code",
        "outputId": "21fa6a71-81c9-435f-9d01-31c4bbb95c40",
        "colab": {
          "base_uri": "https://localhost:8080/",
          "height": 547
        }
      },
      "source": [
        "!ls\n",
        "from sparknlp.training import CoNLL\n",
        "conll = CoNLL(\n",
        "    documentCol=\"document\",\n",
        "    sentenceCol=\"sentence\",\n",
        "    tokenCol=\"token\",\n",
        "    posCol=\"pos\",\n",
        "    conllLabelIndex=3,\n",
        "    conllPosIndex=1,\n",
        "    textCol='text',\n",
        "    labelCol='label',\n",
        "    explodeSentences=True\n",
        ")\n",
        "training_data = conll.readDataset(spark, 'con_rest_train.bio',ReadAs.LINE_BY_LINE)\n",
        "#training_data = CoNLL().readDataset(spark, 'con_rest_train.bio')\n",
        "training_data,test_data=training_data.randomSplit([0.5, 0.1], None)\n",
        "print(\"Training Dataset Count: \" + str(training_data.count()))\n",
        "print(\"Test Dataset Count: \" + str(test_data.count()))\n",
        "training_data.show(n=20)"
      ],
      "execution_count": 10,
      "outputs": [
        {
          "output_type": "stream",
          "text": [
            "blstm_29_300_128_81.pb\t\t   con_rest_train.bio  glove.6B.300d.txt  tf\n",
            "blstm-noncontrib_17_300_128_75.pb  gdrive\t       sample_data\n",
            "Training Dataset Count: 56524\n",
            "Test Dataset Count: 11364\n",
            "+--------------------+--------------------+--------------------+--------------------+--------------------+--------------------+\n",
            "|                text|            document|            sentence|               token|                 pos|               label|\n",
            "+--------------------+--------------------+--------------------+--------------------+--------------------+--------------------+\n",
            "|'re there any pla...|[[document, 0, 69...|[[document, 0, 69...|[[token, 0, 2, 'r...|[[pos, 0, 2, , [w...|[[named_entity, 0...|\n",
            "|2 star restaurant...|[[document, 0, 36...|[[document, 0, 36...|[[token, 0, 0, 2,...|[[pos, 0, 0, , [w...|[[named_entity, 0...|\n",
            "|2 star restaurant...|[[document, 0, 36...|[[document, 0, 36...|[[token, 0, 0, 2,...|[[pos, 0, 0, , [w...|[[named_entity, 0...|\n",
            "|2 star restaurant...|[[document, 0, 36...|[[document, 0, 36...|[[token, 0, 0, 2,...|[[pos, 0, 0, , [w...|[[named_entity, 0...|\n",
            "|2 star restaurant...|[[document, 0, 37...|[[document, 0, 37...|[[token, 0, 0, 2,...|[[pos, 0, 0, , [w...|[[named_entity, 0...|\n",
            "|5 star resturants...|[[document, 0, 28...|[[document, 0, 28...|[[token, 0, 0, 5,...|[[pos, 0, 0, , [w...|[[named_entity, 0...|\n",
            "|5 starlet restura...|[[document, 0, 30...|[[document, 0, 30...|[[token, 0, 0, 5,...|[[pos, 0, 0, , [w...|[[named_entity, 0...|\n",
            "|Are there any pla...|[[document, 0, 69...|[[document, 0, 69...|[[token, 0, 2, Ar...|[[pos, 0, 2, , [w...|[[named_entity, 0...|\n",
            "|Are there any pla...|[[document, 0, 69...|[[document, 0, 69...|[[token, 0, 2, Ar...|[[pos, 0, 2, , [w...|[[named_entity, 0...|\n",
            "|   BBQ joint in town|[[document, 0, 16...|[[document, 0, 16...|[[token, 0, 2, BB...|[[pos, 0, 2, , [w...|[[named_entity, 0...|\n",
            "|BBQ ribs and beer...|[[document, 0, 27...|[[document, 0, 27...|[[token, 0, 2, BB...|[[pos, 0, 2, , [w...|[[named_entity, 0...|\n",
            "|     Cheap restraunt|[[document, 0, 14...|[[document, 0, 14...|[[token, 0, 4, Ch...|[[pos, 0, 4, , [w...|[[named_entity, 0...|\n",
            "|Deli cuisine near...|[[document, 0, 27...|[[document, 0, 27...|[[token, 0, 3, De...|[[pos, 0, 3, , [w...|[[named_entity, 0...|\n",
            "|Domino_pizza bage...|[[document, 0, 24...|[[document, 0, 24...|[[token, 0, 11, D...|[[pos, 0, 11, , [...|[[named_entity, 0...|\n",
            "|           Fast food|[[document, 0, 8,...|[[document, 0, 8,...|[[token, 0, 3, Fa...|[[pos, 0, 3, , [w...|[[named_entity, 0...|\n",
            "| Fast food locations|[[document, 0, 18...|[[document, 0, 18...|[[token, 0, 3, Fa...|[[pos, 0, 3, , [w...|[[named_entity, 0...|\n",
            "|Fast food restaur...|[[document, 0, 35...|[[document, 0, 35...|[[token, 0, 3, Fa...|[[pos, 0, 3, , [w...|[[named_entity, 0...|\n",
            "|        French fries|[[document, 0, 11...|[[document, 0, 11...|[[token, 0, 5, Fr...|[[pos, 0, 5, , [w...|[[named_entity, 0...|\n",
            "|    French fries now|[[document, 0, 15...|[[document, 0, 15...|[[token, 0, 5, Fr...|[[pos, 0, 5, , [w...|[[named_entity, 0...|\n",
            "|Halloween_candy s...|[[document, 0, 20...|[[document, 0, 20...|[[token, 0, 14, H...|[[pos, 0, 14, , [...|[[named_entity, 0...|\n",
            "+--------------------+--------------------+--------------------+--------------------+--------------------+--------------------+\n",
            "only showing top 20 rows\n",
            "\n"
          ],
          "name": "stdout"
        }
      ]
    },
    {
      "cell_type": "markdown",
      "metadata": {
        "id": "gZ3gvJQHsYEf",
        "colab_type": "text"
      },
      "source": [
        "Create a custom pipeline"
      ]
    },
    {
      "cell_type": "code",
      "metadata": {
        "id": "cGWDh6y7sYEg",
        "colab_type": "code",
        "colab": {}
      },
      "source": [
        "import time\n",
        "\n",
        "documentAssembler = DocumentAssembler() \\\n",
        "    .setInputCol(\"text\") \\\n",
        "    .setOutputCol(\"document\")\n",
        "\n",
        "tokenizer = Tokenizer() \\\n",
        "    .setInputCols([\"document\"]) \\\n",
        "    .setOutputCol(\"token\")\n",
        "\n",
        "embeddings = WordEmbeddings() \\\n",
        "        .setInputCols([\"document\", \"token\"])\\\n",
        "        .setOutputCol(\"embeddings\")\\\n",
        "        .setEmbeddingsSource(\"glove.6B.300d.txt\", 300, \"text\")\n",
        "\n",
        "#spell = NorvigSweetingModel.pretrained() \\\n",
        "#    .setInputCols([\"token\"]) \\\n",
        "#    .setOutputCol(\"spell\")\n",
        "#.setGraphFolder(\"gdrive/My Drive/Colab Notebooks/SparkNLP/utils/Graphs\")\\\n",
        "ner_dl = NerDLApproach()\\\n",
        "    .setInputCols([\"document\", \"token\",\"embeddings\"])\\\n",
        "    .setLabelColumn(\"label\")\\\n",
        "    .setOutputCol(\"ner\")\\\n",
        "    .setMaxEpochs(2)\\\n",
        "    .setRandomSeed(0)\\\n",
        "    .setVerbose(2)\\\n",
        "    .setBatchSize(1000)\\\n",
        "    .setGraphFolder(\"./tf/\")\\\n",
        "    .setEnableOutputLogs(True)\n",
        "\n",
        "converter = NerConverter()\\\n",
        "  .setInputCols([\"document\", \"token\", \"ner\"])\\\n",
        "  .setOutputCol(\"ner_converter\")\n",
        "\n",
        "finisher = Finisher() \\\n",
        "    .setInputCols([\"ner\", \"ner_converter\"]) \\\n",
        "    .setIncludeMetadata(True)\n",
        "\n",
        "pipeline_fast_dl = Pipeline(stages = [\n",
        "    documentAssembler, \n",
        "    tokenizer, \n",
        "    embeddings, \n",
        "    ner_dl,\n",
        "    converter,\n",
        "    finisher])"
      ],
      "execution_count": 0,
      "outputs": []
    },
    {
      "cell_type": "markdown",
      "metadata": {
        "id": "7m8RfeZZsYEi",
        "colab_type": "text"
      },
      "source": [
        "Now let's use these pipelines and see the results"
      ]
    },
    {
      "cell_type": "code",
      "metadata": {
        "id": "iO_qeaCQDcDC",
        "colab_type": "code",
        "outputId": "832df55b-d35d-4705-e2fc-78b064647110",
        "colab": {
          "base_uri": "https://localhost:8080/",
          "height": 102
        }
      },
      "source": [
        "%%time\n",
        "\n",
        "start = time.time()\n",
        "print(\"Start fitting\")\n",
        "prediction_model = pipeline_fast_dl.fit(training_data)\n",
        "print(\"Fitting is ended\")\n",
        "print (time.time() - start)"
      ],
      "execution_count": 13,
      "outputs": [
        {
          "output_type": "stream",
          "text": [
            "Start fitting\n",
            "Fitting is ended\n",
            "2309.0836250782013\n",
            "CPU times: user 429 ms, sys: 101 ms, total: 530 ms\n",
            "Wall time: 38min 29s\n"
          ],
          "name": "stdout"
        }
      ]
    },
    {
      "cell_type": "code",
      "metadata": {
        "id": "JK-J83PbffUD",
        "colab_type": "code",
        "outputId": "6e269aab-4549-467a-a6e8-7c4192908f0b",
        "colab": {
          "base_uri": "https://localhost:8080/",
          "height": 479
        }
      },
      "source": [
        "#prediction_data = spark.createDataFrame([[\"Maria is a nice place.\"],[\"any bbq places open before 5 nearby\"]]).toDF(\"text\")\n",
        "#prediction_data.show()\n",
        "prediction_model.transform(test_data).show(truncate=False)"
      ],
      "execution_count": 14,
      "outputs": [
        {
          "output_type": "stream",
          "text": [
            "+------------------------------------------------------------------------------------+----------------------------------------------------------------------------------------------------------------------------------------------------+--------------------------------------------------------+----------------------------------------------------------------------------------------------------------------------------------------------------------------------------------------------------------------------------------------------------------------+------------------------------------------------------------------------------------------------------------------------------------------------------------------------------------------------------------------------------------------+\n",
            "|text                                                                                |finished_ner                                                                                                                                        |finished_ner_converter                                  |finished_ner_metadata                                                                                                                                                                                                                                           |finished_ner_converter_metadata                                                                                                                                                                                                           |\n",
            "+------------------------------------------------------------------------------------+----------------------------------------------------------------------------------------------------------------------------------------------------+--------------------------------------------------------+----------------------------------------------------------------------------------------------------------------------------------------------------------------------------------------------------------------------------------------------------------------+------------------------------------------------------------------------------------------------------------------------------------------------------------------------------------------------------------------------------------------+\n",
            "|98 hong kung restaurant reasonable prices                                           |[O, B-Cuisine, I-Cuisine, O, B-Price, O]                                                                                                            |[hong kung, reasonable]                                 |[[word, 98], [word, hong], [word, kung], [word, restaurant], [word, reasonable], [word, prices]]                                                                                                                                                                |[[entity, Cuisine], [sentence, 0], [chunk, 0], [entity, Price], [sentence, 0], [chunk, 1]]                                                                                                                                                |\n",
            "|Deli fresh cuisine near my street                                                   |[B-Cuisine, I-Cuisine, O, B-Location, I-Location, I-Location]                                                                                       |[Deli fresh, near my street]                            |[[word, Deli], [word, fresh], [word, cuisine], [word, near], [word, my], [word, street]]                                                                                                                                                                        |[[entity, Cuisine], [sentence, 0], [chunk, 0], [entity, Location], [sentence, 0], [chunk, 1]]                                                                                                                                             |\n",
            "|Hot dog place                                                                       |[B-Dish, I-Dish, O]                                                                                                                                 |[Hot dog]                                               |[[word, Hot], [word, dog], [word, place]]                                                                                                                                                                                                                       |[[entity, Dish], [sentence, 0], [chunk, 0]]                                                                                                                                                                                               |\n",
            "|How much does it cost to have dinner at the herbfarm and How far away am i right now|[B-Price, I-Price, I-Price, I-Price, I-Price, O, O, O, O, O, B-Restaurant_Name, O, B-Location, I-Location, I-Location, I-Location, I-Location, O, O]|[How much does it cost, herbfarm, How far away am i]    |[[word, How], [word, much], [word, does], [word, it], [word, cost], [word, to], [word, have], [word, dinner], [word, at], [word, the], [word, herbfarm], [word, and], [word, How], [word, far], [word, away], [word, am], [word, i], [word, right], [word, now]]|[[entity, Price], [sentence, 0], [chunk, 0], [entity, Restaurant_Name], [sentence, 0], [chunk, 1], [entity, Location], [sentence, 0], [chunk, 2]]                                                                                         |\n",
            "|Non smoking restraunt                                                               |[B-Amenity, I-Amenity, O]                                                                                                                           |[Non smoking]                                           |[[word, Non], [word, smoking], [word, restraunt]]                                                                                                                                                                                                               |[[entity, Amenity], [sentence, 0], [chunk, 0]]                                                                                                                                                                                            |\n",
            "|Reserve me a table at pseudo italian garden                                         |[B-Amenity, O, O, O, O, B-Restaurant_Name, I-Restaurant_Name, I-Restaurant_Name]                                                                    |[Reserve, pseudo italian garden]                        |[[word, Reserve], [word, me], [word, a], [word, table], [word, at], [word, pseudo], [word, italian], [word, garden]]                                                                                                                                            |[[entity, Amenity], [sentence, 0], [chunk, 0], [entity, Restaurant_Name], [sentence, 0], [chunk, 1]]                                                                                                                                      |\n",
            "|Seafood restaurant list nearest                                                     |[B-Cuisine, O, O, B-Location]                                                                                                                       |[Seafood, nearest]                                      |[[word, Seafood], [word, restaurant], [word, list], [word, nearest]]                                                                                                                                                                                            |[[entity, Cuisine], [sentence, 0], [chunk, 0], [entity, Location], [sentence, 0], [chunk, 1]]                                                                                                                                             |\n",
            "|Spanish                                                                             |[B-Cuisine]                                                                                                                                         |[Spanish]                                               |[[word, Spanish]]                                                                                                                                                                                                                                               |[[entity, Cuisine], [sentence, 0], [chunk, 0]]                                                                                                                                                                                            |\n",
            "|Superfast_WiFi cooked meals near my location                                        |[B-Cuisine, I-Cuisine, O, B-Location, I-Location, I-Location]                                                                                       |[Superfast_WiFi cooked, near my location]               |[[word, Superfast_WiFi], [word, cooked], [word, meals], [word, near], [word, my], [word, location]]                                                                                                                                                             |[[entity, Cuisine], [sentence, 0], [chunk, 0], [entity, Location], [sentence, 0], [chunk, 1]]                                                                                                                                             |\n",
            "|Sushi                                                                               |[B-Dish]                                                                                                                                            |[Sushi]                                                 |[[word, Sushi]]                                                                                                                                                                                                                                                 |[[entity, Dish], [sentence, 0], [chunk, 0]]                                                                                                                                                                                               |\n",
            "|Sushi bar locations                                                                 |[B-Cuisine, I-Cuisine, O]                                                                                                                           |[Sushi bar]                                             |[[word, Sushi], [word, bar], [word, locations]]                                                                                                                                                                                                                 |[[entity, Cuisine], [sentence, 0], [chunk, 0]]                                                                                                                                                                                            |\n",
            "|Sushi bars that allow kids                                                          |[B-Cuisine, I-Cuisine, O, B-Amenity, I-Amenity]                                                                                                     |[Sushi bars, allow kids]                                |[[word, Sushi], [word, bars], [word, that], [word, allow], [word, kids]]                                                                                                                                                                                        |[[entity, Cuisine], [sentence, 0], [chunk, 0], [entity, Amenity], [sentence, 0], [chunk, 1]]                                                                                                                                              |\n",
            "|What is the rating for the nearest waffle house                                     |[B-Rating, I-Rating, I-Rating, I-Rating, O, O, B-Location, B-Cuisine, I-Cuisine]                                                                    |[What is the rating, nearest, waffle house]             |[[word, What], [word, is], [word, the], [word, rating], [word, for], [word, the], [word, nearest], [word, waffle], [word, house]]                                                                                                                               |[[entity, Rating], [sentence, 0], [chunk, 0], [entity, Location], [sentence, 0], [chunk, 1], [entity, Cuisine], [sentence, 0], [chunk, 2]]                                                                                                |\n",
            "|a place that serves Soft serve ice cream                                            |[O, O, O, O, B-Dish, I-Dish, I-Dish, I-Dish]                                                                                                        |[Soft serve ice cream]                                  |[[word, a], [word, place], [word, that], [word, serves], [word, Soft], [word, serve], [word, ice], [word, cream]]                                                                                                                                               |[[entity, Dish], [sentence, 0], [chunk, 0]]                                                                                                                                                                                               |\n",
            "|a place that serves soft serve Ice cream                                            |[O, O, O, O, B-Dish, I-Dish, I-Dish, I-Dish]                                                                                                        |[soft serve Ice cream]                                  |[[word, a], [word, place], [word, that], [word, serves], [word, soft], [word, serve], [word, Ice], [word, cream]]                                                                                                                                               |[[entity, Dish], [sentence, 0], [chunk, 0]]                                                                                                                                                                                               |\n",
            "|about how much is a midpriced bottle of great wine at davidos italian palace        |[O, O, O, O, O, B-Price, B-Rating, O, B-Rating, B-Cuisine, O, B-Restaurant_Name, I-Restaurant_Name, I-Restaurant_Name]                              |[midpriced, bottle, great, wine, davidos italian palace]|[[word, about], [word, how], [word, much], [word, is], [word, a], [word, midpriced], [word, bottle], [word, of], [word, great], [word, wine], [word, at], [word, davidos], [word, italian], [word, palace]]                                                     |[[entity, Price], [sentence, 0], [chunk, 0], [entity, Rating], [sentence, 0], [chunk, 1], [entity, Rating], [sentence, 0], [chunk, 2], [entity, Cuisine], [sentence, 0], [chunk, 3], [entity, Restaurant_Name], [sentence, 0], [chunk, 4]]|\n",
            "|about how much will it cost to eat at johns pizza cafe for dinner #.## person       |[O, O, O, O, O, B-Price, O, O, O, B-Restaurant_Name, I-Restaurant_Name, I-Restaurant_Name, O, B-Hours, B-Price, I-Price]                            |[cost, johns pizza cafe, dinner, #.## person]           |[[word, about], [word, how], [word, much], [word, will], [word, it], [word, cost], [word, to], [word, eat], [word, at], [word, johns], [word, pizza], [word, cafe], [word, for], [word, dinner], [word, #.##], [word, person]]                                  |[[entity, Price], [sentence, 0], [chunk, 0], [entity, Restaurant_Name], [sentence, 0], [chunk, 1], [entity, Hours], [sentence, 0], [chunk, 2], [entity, Price], [sentence, 0], [chunk, 3]]                                                |\n",
            "|adjacent tacos                                                                      |[B-Location, B-Dish]                                                                                                                                |[adjacent, tacos]                                       |[[word, adjacent], [word, tacos]]                                                                                                                                                                                                                               |[[entity, Location], [sentence, 0], [chunk, 0], [entity, Dish], [sentence, 0], [chunk, 1]]                                                                                                                                                |\n",
            "|african specialty in my town                                                        |[B-Cuisine, O, B-Location, I-Location, I-Location]                                                                                                  |[african, in my town]                                   |[[word, african], [word, specialty], [word, in], [word, my], [word, town]]                                                                                                                                                                                      |[[entity, Cuisine], [sentence, 0], [chunk, 0], [entity, Location], [sentence, 0], [chunk, 1]]                                                                                                                                             |\n",
            "|all i want is a bagel and Coffee can you direct me                                  |[O, O, O, O, O, B-Dish, I-Dish, I-Dish, O, O, O, O]                                                                                                 |[bagel and Coffee]                                      |[[word, all], [word, i], [word, want], [word, is], [word, a], [word, bagel], [word, and], [word, Coffee], [word, can], [word, you], [word, direct], [word, me]]                                                                                                 |[[entity, Dish], [sentence, 0], [chunk, 0]]                                                                                                                                                                                               |\n",
            "+------------------------------------------------------------------------------------+----------------------------------------------------------------------------------------------------------------------------------------------------+--------------------------------------------------------+----------------------------------------------------------------------------------------------------------------------------------------------------------------------------------------------------------------------------------------------------------------+------------------------------------------------------------------------------------------------------------------------------------------------------------------------------------------------------------------------------------------+\n",
            "only showing top 20 rows\n",
            "\n"
          ],
          "name": "stdout"
        }
      ]
    },
    {
      "cell_type": "code",
      "metadata": {
        "id": "p63iLEmxb0ab",
        "colab_type": "code",
        "colab": {
          "base_uri": "https://localhost:8080/",
          "height": 241
        },
        "outputId": "3e0888f0-1c3c-443a-91ba-e42e76167ba3"
      },
      "source": [
        "prediction_data = spark.createDataFrame([[\"what is the whtr in bangalore karnataka\"]]).toDF(\"text\")\n",
        "prediction_data.show(truncate=False)\n",
        "prediction_model.transform(prediction_data).show(truncate=False)\n"
      ],
      "execution_count": 15,
      "outputs": [
        {
          "output_type": "stream",
          "text": [
            "+---------------------------------------+\n",
            "|text                                   |\n",
            "+---------------------------------------+\n",
            "|what is the whtr in bangalore karnataka|\n",
            "+---------------------------------------+\n",
            "\n",
            "+---------------------------------------+----------------------------------------------+----------------------+-------------------------------------------------------------------------------------------------------+-----------------------------------------------------------------------------------------------------+\n",
            "|text                                   |finished_ner                                  |finished_ner_converter|finished_ner_metadata                                                                                  |finished_ner_converter_metadata                                                                      |\n",
            "+---------------------------------------+----------------------------------------------+----------------------+-------------------------------------------------------------------------------------------------------+-----------------------------------------------------------------------------------------------------+\n",
            "|what is the whtr in bangalore karnataka|[O, O, O, O, O, B-Location, B-Restaurant_Name]|[bangalore, karnataka]|[[word, what], [word, is], [word, the], [word, whtr], [word, in], [word, bangalore], [word, karnataka]]|[[entity, Location], [sentence, 0], [chunk, 0], [entity, Restaurant_Name], [sentence, 0], [chunk, 1]]|\n",
            "+---------------------------------------+----------------------------------------------+----------------------+-------------------------------------------------------------------------------------------------------+-----------------------------------------------------------------------------------------------------+\n",
            "\n"
          ],
          "name": "stdout"
        }
      ]
    },
    {
      "cell_type": "code",
      "metadata": {
        "id": "_Ov6Vcf2ERg1",
        "colab_type": "code",
        "colab": {}
      },
      "source": [
        "prediction_model.write().overwrite().save(\"ner_dl_model_aug\")\n",
        "!ls"
      ],
      "execution_count": 0,
      "outputs": []
    },
    {
      "cell_type": "code",
      "metadata": {
        "id": "J4TsjFNr3xJI",
        "colab_type": "code",
        "colab": {}
      },
      "source": [
        "!cp -r 'ner_dl_model_aug' 'gdrive/My Drive/Colab Notebooks/SparkNLP/utils/ner_dl_model_aug'"
      ],
      "execution_count": 0,
      "outputs": []
    },
    {
      "cell_type": "code",
      "metadata": {
        "id": "86pAku0iETDe",
        "colab_type": "code",
        "colab": {}
      },
      "source": [
        "from pyspark.ml import PipelineModel, Pipeline\n",
        "\n",
        "loaded_prediction_model = PipelineModel.read().load('ner_dl_model_aug')\n"
      ],
      "execution_count": 0,
      "outputs": []
    },
    {
      "cell_type": "code",
      "metadata": {
        "id": "dqO9vjyZGMzf",
        "colab_type": "code",
        "colab": {}
      },
      "source": [
        "prediction_data = spark.createDataFrame([[\"Maria is a nice place.\"],[\"any bbq places open before 5 nearby\"],[\"2 star restaurants with inside dining\"],['98 hong kong restaurant reasonable prices']]).toDF(\"text\")\n",
        "prediction_data.show()\n",
        "loaded_prediction_model.transform(prediction_data).show(truncate=False)\n",
        "prediction = loaded_prediction_model.transform(prediction_data)\n",
        "prediction.select(\"finished_ner_metadata\").show(truncate=False)\n",
        "prediction.select(\"finished_ner\").show(truncate=False)\n",
        "prediction.select(\"finished_ner_converter_metadata\").show(truncate=False)\n",
        "prediction.select(\"finished_ner_converter\").show(truncate=False)\n",
        "#prediction.select(\"ner\").show(truncate=False)"
      ],
      "execution_count": 0,
      "outputs": []
    },
    {
      "cell_type": "code",
      "metadata": {
        "id": "oX4pYUskKAIs",
        "colab_type": "code",
        "colab": {}
      },
      "source": [
        "from pyspark.ml.evaluation import BinaryClassificationEvaluator\n",
        "evaluator = BinaryClassificationEvaluator()\n",
        "print(\"Test Area Under ROC: \" + str(evaluator.evaluate(prediction, {evaluator.metricName: \"areaUnderROC\"})))"
      ],
      "execution_count": 0,
      "outputs": []
    },
    {
      "cell_type": "code",
      "metadata": {
        "id": "LcqxPV5vGIyI",
        "colab_type": "code",
        "colab": {}
      },
      "source": [
        "from sparknlp.base import LightPipeline\n",
        "\n",
        "lp = LightPipeline(loaded_prediction_model)\n",
        "result = lp.annotate(\"Peter is a good person.\")\n",
        "for e in list(zip(result['token'], result['ner']))[:10]:\n",
        "    print(e)"
      ],
      "execution_count": 0,
      "outputs": []
    },
    {
      "cell_type": "code",
      "metadata": {
        "id": "OX3Jx3vJGI-u",
        "colab_type": "code",
        "colab": {}
      },
      "source": [
        "for stage in loaded_prediction_model.stages:\n",
        "    print(stage)\n",
        "print(loaded_prediction_model.stages[-1].stages)"
      ],
      "execution_count": 0,
      "outputs": []
    }
  ]
}